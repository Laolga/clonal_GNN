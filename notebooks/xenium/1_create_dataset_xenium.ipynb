{
 "cells": [
  {
   "cell_type": "code",
   "execution_count": 76,
   "metadata": {},
   "outputs": [],
   "source": [
    "import torch\n",
    "import pandas as pd\n",
    "\n",
    "from torch_geometric.data import Data\n",
    "from torch_geometric.loader import DataLoader\n",
    "\n",
    "import numpy as np\n",
    "import torch.nn.functional as F\n",
    "import matplotlib.pyplot as plt\n",
    "import pickle   \n",
    "from collections import Counter\n"
   ]
  },
  {
   "cell_type": "markdown",
   "metadata": {},
   "source": [
    "# Data loading and preparation"
   ]
  },
  {
   "cell_type": "code",
   "execution_count": 167,
   "metadata": {},
   "outputs": [
    {
     "name": "stderr",
     "output_type": "stream",
     "text": [
      "/tmp/ipykernel_25707/251506899.py:3: DtypeWarning: Columns (1,6,7,8) have mixed types. Specify dtype option on import or set low_memory=False.\n",
      "  edges = pd.read_csv(edge_path)\n"
     ]
    }
   ],
   "source": [
    "d = 20\n",
    "edge_path = f\"../data/interim/edges_xenium{d}.csv\"\n",
    "edges = pd.read_csv(edge_path)"
   ]
  },
  {
   "cell_type": "code",
   "execution_count": 168,
   "metadata": {},
   "outputs": [
    {
     "data": {
      "text/plain": [
       "True"
      ]
     },
     "execution_count": 168,
     "metadata": {},
     "output_type": "execute_result"
    }
   ],
   "source": [
    "edges[edges[\"type\"] == \"sc2xen\"][[\"node1\",\"node2\"]].shape[0] == edges[edges[\"type\"] == \"sc2xen\"][[\"node1\",\"node2\"]].drop_duplicates().shape[0]"
   ]
  },
  {
   "cell_type": "code",
   "execution_count": 169,
   "metadata": {},
   "outputs": [
    {
     "data": {
      "text/plain": [
       "True"
      ]
     },
     "execution_count": 169,
     "metadata": {},
     "output_type": "execute_result"
    }
   ],
   "source": [
    "edges[edges[\"type\"] == \"xen2grid\"][[\"node1\",\"node2\"]].shape[0] == edges[edges[\"type\"] == \"xen2grid\"][[\"node1\",\"node2\"]].drop_duplicates().shape[0]"
   ]
  },
  {
   "cell_type": "code",
   "execution_count": 170,
   "metadata": {},
   "outputs": [
    {
     "data": {
      "text/plain": [
       "True"
      ]
     },
     "execution_count": 170,
     "metadata": {},
     "output_type": "execute_result"
    }
   ],
   "source": [
    "edges[[\"node1\",\"node2\"]].shape[0] == edges[[\"node1\",\"node2\"]].drop_duplicates().shape[0]"
   ]
  },
  {
   "cell_type": "code",
   "execution_count": 171,
   "metadata": {},
   "outputs": [],
   "source": [
    "overcl = pd.read_csv(\"../data/interim/clones_over.csv\")"
   ]
  },
  {
   "cell_type": "code",
   "execution_count": 172,
   "metadata": {},
   "outputs": [
    {
     "data": {
      "text/html": [
       "<div>\n",
       "<style scoped>\n",
       "    .dataframe tbody tr th:only-of-type {\n",
       "        vertical-align: middle;\n",
       "    }\n",
       "\n",
       "    .dataframe tbody tr th {\n",
       "        vertical-align: top;\n",
       "    }\n",
       "\n",
       "    .dataframe thead th {\n",
       "        text-align: right;\n",
       "    }\n",
       "</style>\n",
       "<table border=\"1\" class=\"dataframe\">\n",
       "  <thead>\n",
       "    <tr style=\"text-align: right;\">\n",
       "      <th></th>\n",
       "      <th>cell.names</th>\n",
       "      <th>leiden</th>\n",
       "    </tr>\n",
       "  </thead>\n",
       "  <tbody>\n",
       "    <tr>\n",
       "      <th>0</th>\n",
       "      <td>CGCAAGGGTTAGTGAG-1</td>\n",
       "      <td>16</td>\n",
       "    </tr>\n",
       "    <tr>\n",
       "      <th>1</th>\n",
       "      <td>CAAGACTAGCTTGAGG-1</td>\n",
       "      <td>16</td>\n",
       "    </tr>\n",
       "    <tr>\n",
       "      <th>2</th>\n",
       "      <td>GCCAATACATTGCCTG-1</td>\n",
       "      <td>10</td>\n",
       "    </tr>\n",
       "    <tr>\n",
       "      <th>3</th>\n",
       "      <td>CTTCAATAGATGATTG-1</td>\n",
       "      <td>10</td>\n",
       "    </tr>\n",
       "    <tr>\n",
       "      <th>4</th>\n",
       "      <td>GATGCAAGTATTGCGT-1</td>\n",
       "      <td>10</td>\n",
       "    </tr>\n",
       "    <tr>\n",
       "      <th>...</th>\n",
       "      <td>...</td>\n",
       "      <td>...</td>\n",
       "    </tr>\n",
       "    <tr>\n",
       "      <th>10716</th>\n",
       "      <td>TCTAACCCAGGTATTG-1</td>\n",
       "      <td>2</td>\n",
       "    </tr>\n",
       "    <tr>\n",
       "      <th>10717</th>\n",
       "      <td>TCAACTAGTTAGCGCC-1</td>\n",
       "      <td>diploid</td>\n",
       "    </tr>\n",
       "    <tr>\n",
       "      <th>10718</th>\n",
       "      <td>CAGGTCAAGACCATTT-1</td>\n",
       "      <td>2</td>\n",
       "    </tr>\n",
       "    <tr>\n",
       "      <th>10719</th>\n",
       "      <td>TGGTGCGCACCATCCA-1</td>\n",
       "      <td>2</td>\n",
       "    </tr>\n",
       "    <tr>\n",
       "      <th>10720</th>\n",
       "      <td>ACAACGGTCTAGTTAC-1</td>\n",
       "      <td>diploid</td>\n",
       "    </tr>\n",
       "  </tbody>\n",
       "</table>\n",
       "<p>10721 rows × 2 columns</p>\n",
       "</div>"
      ],
      "text/plain": [
       "               cell.names   leiden\n",
       "0      CGCAAGGGTTAGTGAG-1       16\n",
       "1      CAAGACTAGCTTGAGG-1       16\n",
       "2      GCCAATACATTGCCTG-1       10\n",
       "3      CTTCAATAGATGATTG-1       10\n",
       "4      GATGCAAGTATTGCGT-1       10\n",
       "...                   ...      ...\n",
       "10716  TCTAACCCAGGTATTG-1        2\n",
       "10717  TCAACTAGTTAGCGCC-1  diploid\n",
       "10718  CAGGTCAAGACCATTT-1        2\n",
       "10719  TGGTGCGCACCATCCA-1        2\n",
       "10720  ACAACGGTCTAGTTAC-1  diploid\n",
       "\n",
       "[10721 rows x 2 columns]"
      ]
     },
     "execution_count": 172,
     "metadata": {},
     "output_type": "execute_result"
    }
   ],
   "source": [
    "overcl"
   ]
  },
  {
   "cell_type": "code",
   "execution_count": 173,
   "metadata": {},
   "outputs": [],
   "source": [
    "overcl.columns = [\"node1\",\"clone\"]"
   ]
  },
  {
   "cell_type": "code",
   "execution_count": 174,
   "metadata": {},
   "outputs": [
    {
     "data": {
      "text/plain": [
       "array(['16', '10', '0', 'diploid', '12', '8', '13', '14', '1', '7', '15',\n",
       "       '4', '6', '9', '5', '11', '2', '3'], dtype=object)"
      ]
     },
     "execution_count": 174,
     "metadata": {},
     "output_type": "execute_result"
    }
   ],
   "source": [
    "overcl.clone.unique()"
   ]
  },
  {
   "cell_type": "code",
   "execution_count": 175,
   "metadata": {},
   "outputs": [],
   "source": [
    "cell_type = pd.read_excel(\"../data/raw/Requested_Cell_Barcode_Type_Matrices.xlsx\", sheet_name=\"scFFPE-Seq\")"
   ]
  },
  {
   "cell_type": "code",
   "execution_count": 176,
   "metadata": {},
   "outputs": [],
   "source": [
    "cell_type.columns = [\"node1\",\"cell_type\"]"
   ]
  },
  {
   "cell_type": "code",
   "execution_count": 177,
   "metadata": {},
   "outputs": [
    {
     "data": {
      "text/plain": [
       "Counter({'Stromal': 2611,\n",
       "         'Macrophages 1': 2964,\n",
       "         'Perivascular-Like': 285,\n",
       "         'Myoepi ACTA2+': 1235,\n",
       "         'CD4+ T Cells': 2899,\n",
       "         'DCIS 2': 1863,\n",
       "         'Prolif Invasive Tumor': 1329,\n",
       "         'Invasive Tumor': 4568,\n",
       "         'CD8+ T Cells': 1843,\n",
       "         'Endothelial': 1055,\n",
       "         'Macrophages 2': 760,\n",
       "         'DCIS 1': 2159,\n",
       "         'B Cells': 1463,\n",
       "         'Stromal & T Cell Hybrid': 426,\n",
       "         'T Cell & Tumor Hybrid': 1003,\n",
       "         'IRF7+ DCs': 210,\n",
       "         'Mast Cells': 92,\n",
       "         'LAMP3+ DCs': 103,\n",
       "         'Myoepi KRT15+': 604})"
      ]
     },
     "execution_count": 177,
     "metadata": {},
     "output_type": "execute_result"
    }
   ],
   "source": [
    "Counter(cell_type.cell_type)"
   ]
  },
  {
   "cell_type": "code",
   "execution_count": 178,
   "metadata": {},
   "outputs": [],
   "source": [
    "overcl = cell_type.merge(overcl, on = \"node1\", how = \"left\")"
   ]
  },
  {
   "cell_type": "code",
   "execution_count": 179,
   "metadata": {},
   "outputs": [
    {
     "data": {
      "text/html": [
       "<div>\n",
       "<style scoped>\n",
       "    .dataframe tbody tr th:only-of-type {\n",
       "        vertical-align: middle;\n",
       "    }\n",
       "\n",
       "    .dataframe tbody tr th {\n",
       "        vertical-align: top;\n",
       "    }\n",
       "\n",
       "    .dataframe thead th {\n",
       "        text-align: right;\n",
       "    }\n",
       "</style>\n",
       "<table border=\"1\" class=\"dataframe\">\n",
       "  <thead>\n",
       "    <tr style=\"text-align: right;\">\n",
       "      <th></th>\n",
       "      <th>node1</th>\n",
       "      <th>cell_type</th>\n",
       "      <th>clone</th>\n",
       "    </tr>\n",
       "  </thead>\n",
       "  <tbody>\n",
       "    <tr>\n",
       "      <th>0</th>\n",
       "      <td>AAACAAGCAAACGGGA-1</td>\n",
       "      <td>Stromal</td>\n",
       "      <td>NaN</td>\n",
       "    </tr>\n",
       "    <tr>\n",
       "      <th>1</th>\n",
       "      <td>AAACAAGCAAATAGGA-1</td>\n",
       "      <td>Macrophages 1</td>\n",
       "      <td>11</td>\n",
       "    </tr>\n",
       "    <tr>\n",
       "      <th>2</th>\n",
       "      <td>AAACAAGCAACAAGTT-1</td>\n",
       "      <td>Perivascular-Like</td>\n",
       "      <td>NaN</td>\n",
       "    </tr>\n",
       "    <tr>\n",
       "      <th>3</th>\n",
       "      <td>AAACAAGCAACCATTC-1</td>\n",
       "      <td>Myoepi ACTA2+</td>\n",
       "      <td>2</td>\n",
       "    </tr>\n",
       "    <tr>\n",
       "      <th>4</th>\n",
       "      <td>AAACAAGCAACTAAAC-1</td>\n",
       "      <td>Myoepi ACTA2+</td>\n",
       "      <td>10</td>\n",
       "    </tr>\n",
       "    <tr>\n",
       "      <th>...</th>\n",
       "      <td>...</td>\n",
       "      <td>...</td>\n",
       "      <td>...</td>\n",
       "    </tr>\n",
       "    <tr>\n",
       "      <th>27467</th>\n",
       "      <td>TTTGTGAGTGGTTACT-1</td>\n",
       "      <td>DCIS 1</td>\n",
       "      <td>11</td>\n",
       "    </tr>\n",
       "    <tr>\n",
       "      <th>27468</th>\n",
       "      <td>TTTGTGAGTGTTCCAG-1</td>\n",
       "      <td>Stromal</td>\n",
       "      <td>NaN</td>\n",
       "    </tr>\n",
       "    <tr>\n",
       "      <th>27469</th>\n",
       "      <td>TTTGTGAGTTACTTCT-1</td>\n",
       "      <td>Prolif Invasive Tumor</td>\n",
       "      <td>1</td>\n",
       "    </tr>\n",
       "    <tr>\n",
       "      <th>27470</th>\n",
       "      <td>TTTGTGAGTTGTCATA-1</td>\n",
       "      <td>DCIS 2</td>\n",
       "      <td>NaN</td>\n",
       "    </tr>\n",
       "    <tr>\n",
       "      <th>27471</th>\n",
       "      <td>TTTGTGAGTTTGGCCA-1</td>\n",
       "      <td>Invasive Tumor</td>\n",
       "      <td>NaN</td>\n",
       "    </tr>\n",
       "  </tbody>\n",
       "</table>\n",
       "<p>27472 rows × 3 columns</p>\n",
       "</div>"
      ],
      "text/plain": [
       "                    node1              cell_type clone\n",
       "0      AAACAAGCAAACGGGA-1                Stromal   NaN\n",
       "1      AAACAAGCAAATAGGA-1          Macrophages 1    11\n",
       "2      AAACAAGCAACAAGTT-1      Perivascular-Like   NaN\n",
       "3      AAACAAGCAACCATTC-1          Myoepi ACTA2+     2\n",
       "4      AAACAAGCAACTAAAC-1          Myoepi ACTA2+    10\n",
       "...                   ...                    ...   ...\n",
       "27467  TTTGTGAGTGGTTACT-1                 DCIS 1    11\n",
       "27468  TTTGTGAGTGTTCCAG-1                Stromal   NaN\n",
       "27469  TTTGTGAGTTACTTCT-1  Prolif Invasive Tumor     1\n",
       "27470  TTTGTGAGTTGTCATA-1                 DCIS 2   NaN\n",
       "27471  TTTGTGAGTTTGGCCA-1         Invasive Tumor   NaN\n",
       "\n",
       "[27472 rows x 3 columns]"
      ]
     },
     "execution_count": 179,
     "metadata": {},
     "output_type": "execute_result"
    }
   ],
   "source": [
    "overcl"
   ]
  },
  {
   "cell_type": "code",
   "execution_count": 180,
   "metadata": {},
   "outputs": [],
   "source": [
    "edges = edges.drop(columns = [\"clone\",\"celltype_major\",\"celltype_minor\"])\n"
   ]
  },
  {
   "cell_type": "code",
   "execution_count": 181,
   "metadata": {},
   "outputs": [],
   "source": [
    "overcl = edges[edges[\"type\"] == \"sc2xen\"].merge(overcl,left_on = \"node1\",right_on =\"node1\",how = \"left\")"
   ]
  },
  {
   "cell_type": "code",
   "execution_count": 182,
   "metadata": {},
   "outputs": [],
   "source": [
    "overcl.clone = overcl.clone.fillna(\"diploid\")"
   ]
  },
  {
   "cell_type": "code",
   "execution_count": 183,
   "metadata": {},
   "outputs": [],
   "source": [
    "overcl = overcl[[\"node1\",\"clone\", \"cell_type\"]].drop_duplicates()"
   ]
  },
  {
   "cell_type": "code",
   "execution_count": 184,
   "metadata": {},
   "outputs": [],
   "source": [
    "overcl.cell_type.fillna(\"unknown\", inplace = True)"
   ]
  },
  {
   "cell_type": "code",
   "execution_count": 185,
   "metadata": {},
   "outputs": [
    {
     "data": {
      "text/html": [
       "<div>\n",
       "<style scoped>\n",
       "    .dataframe tbody tr th:only-of-type {\n",
       "        vertical-align: middle;\n",
       "    }\n",
       "\n",
       "    .dataframe tbody tr th {\n",
       "        vertical-align: top;\n",
       "    }\n",
       "\n",
       "    .dataframe thead th {\n",
       "        text-align: right;\n",
       "    }\n",
       "</style>\n",
       "<table border=\"1\" class=\"dataframe\">\n",
       "  <thead>\n",
       "    <tr style=\"text-align: right;\">\n",
       "      <th></th>\n",
       "      <th>node1</th>\n",
       "      <th>clone</th>\n",
       "      <th>cell_type</th>\n",
       "    </tr>\n",
       "  </thead>\n",
       "  <tbody>\n",
       "    <tr>\n",
       "      <th>0</th>\n",
       "      <td>ACAAACCAGTAGCCTC-1</td>\n",
       "      <td>diploid</td>\n",
       "      <td>DCIS 2</td>\n",
       "    </tr>\n",
       "    <tr>\n",
       "      <th>1</th>\n",
       "      <td>ATTTAGCTCTGGAACG-1</td>\n",
       "      <td>5</td>\n",
       "      <td>DCIS 2</td>\n",
       "    </tr>\n",
       "    <tr>\n",
       "      <th>2</th>\n",
       "      <td>CCATAACGTATTGACC-1</td>\n",
       "      <td>diploid</td>\n",
       "      <td>unknown</td>\n",
       "    </tr>\n",
       "    <tr>\n",
       "      <th>3</th>\n",
       "      <td>CCCACCTTCTGGTCTA-1</td>\n",
       "      <td>diploid</td>\n",
       "      <td>DCIS 1</td>\n",
       "    </tr>\n",
       "    <tr>\n",
       "      <th>4</th>\n",
       "      <td>GCATGGATCGATTACT-1</td>\n",
       "      <td>diploid</td>\n",
       "      <td>DCIS 2</td>\n",
       "    </tr>\n",
       "    <tr>\n",
       "      <th>...</th>\n",
       "      <td>...</td>\n",
       "      <td>...</td>\n",
       "      <td>...</td>\n",
       "    </tr>\n",
       "    <tr>\n",
       "      <th>1582945</th>\n",
       "      <td>GACAACTAGGATTAGC-1</td>\n",
       "      <td>diploid</td>\n",
       "      <td>unknown</td>\n",
       "    </tr>\n",
       "    <tr>\n",
       "      <th>1624967</th>\n",
       "      <td>TTGAATCTCGCCTAGT-1</td>\n",
       "      <td>diploid</td>\n",
       "      <td>Endothelial</td>\n",
       "    </tr>\n",
       "    <tr>\n",
       "      <th>1634857</th>\n",
       "      <td>AAGTTCGCATTGTACC-1</td>\n",
       "      <td>diploid</td>\n",
       "      <td>Macrophages 2</td>\n",
       "    </tr>\n",
       "    <tr>\n",
       "      <th>1634864</th>\n",
       "      <td>GTTCGTTCACTAAGCA-1</td>\n",
       "      <td>diploid</td>\n",
       "      <td>Macrophages 2</td>\n",
       "    </tr>\n",
       "    <tr>\n",
       "      <th>1634865</th>\n",
       "      <td>TAGTCTCCAAACACGC-1</td>\n",
       "      <td>diploid</td>\n",
       "      <td>Macrophages 2</td>\n",
       "    </tr>\n",
       "  </tbody>\n",
       "</table>\n",
       "<p>28924 rows × 3 columns</p>\n",
       "</div>"
      ],
      "text/plain": [
       "                      node1    clone      cell_type\n",
       "0        ACAAACCAGTAGCCTC-1  diploid         DCIS 2\n",
       "1        ATTTAGCTCTGGAACG-1        5         DCIS 2\n",
       "2        CCATAACGTATTGACC-1  diploid        unknown\n",
       "3        CCCACCTTCTGGTCTA-1  diploid         DCIS 1\n",
       "4        GCATGGATCGATTACT-1  diploid         DCIS 2\n",
       "...                     ...      ...            ...\n",
       "1582945  GACAACTAGGATTAGC-1  diploid        unknown\n",
       "1624967  TTGAATCTCGCCTAGT-1  diploid    Endothelial\n",
       "1634857  AAGTTCGCATTGTACC-1  diploid  Macrophages 2\n",
       "1634864  GTTCGTTCACTAAGCA-1  diploid  Macrophages 2\n",
       "1634865  TAGTCTCCAAACACGC-1  diploid  Macrophages 2\n",
       "\n",
       "[28924 rows x 3 columns]"
      ]
     },
     "execution_count": 185,
     "metadata": {},
     "output_type": "execute_result"
    }
   ],
   "source": [
    "overcl"
   ]
  },
  {
   "cell_type": "code",
   "execution_count": 186,
   "metadata": {},
   "outputs": [
    {
     "data": {
      "text/plain": [
       "Counter({'DCIS 2': 1839,\n",
       "         'unknown': 2274,\n",
       "         'DCIS 1': 2122,\n",
       "         'T Cell & Tumor Hybrid': 984,\n",
       "         'Invasive Tumor': 4309,\n",
       "         'Myoepi KRT15+': 594,\n",
       "         'CD8+ T Cells': 1808,\n",
       "         'Macrophages 1': 2936,\n",
       "         'Myoepi ACTA2+': 1212,\n",
       "         'Stromal': 2548,\n",
       "         'CD4+ T Cells': 2797,\n",
       "         'Endothelial': 1028,\n",
       "         'IRF7+ DCs': 210,\n",
       "         'B Cells': 1387,\n",
       "         'Perivascular-Like': 272,\n",
       "         'Macrophages 2': 732,\n",
       "         'Prolif Invasive Tumor': 1286,\n",
       "         'Stromal & T Cell Hybrid': 424,\n",
       "         'Mast Cells': 60,\n",
       "         'LAMP3+ DCs': 102})"
      ]
     },
     "execution_count": 186,
     "metadata": {},
     "output_type": "execute_result"
    }
   ],
   "source": [
    "Counter(overcl.cell_type)"
   ]
  },
  {
   "cell_type": "code",
   "execution_count": 187,
   "metadata": {},
   "outputs": [
    {
     "data": {
      "text/html": [
       "<div>\n",
       "<style scoped>\n",
       "    .dataframe tbody tr th:only-of-type {\n",
       "        vertical-align: middle;\n",
       "    }\n",
       "\n",
       "    .dataframe tbody tr th {\n",
       "        vertical-align: top;\n",
       "    }\n",
       "\n",
       "    .dataframe thead th {\n",
       "        text-align: right;\n",
       "    }\n",
       "</style>\n",
       "<table border=\"1\" class=\"dataframe\">\n",
       "  <thead>\n",
       "    <tr style=\"text-align: right;\">\n",
       "      <th></th>\n",
       "      <th>Unnamed: 0</th>\n",
       "      <th>node1</th>\n",
       "      <th>node2</th>\n",
       "      <th>weight</th>\n",
       "      <th>type</th>\n",
       "      <th>distance</th>\n",
       "      <th>clone</th>\n",
       "      <th>cell_type</th>\n",
       "    </tr>\n",
       "  </thead>\n",
       "  <tbody>\n",
       "    <tr>\n",
       "      <th>0</th>\n",
       "      <td>0</td>\n",
       "      <td>ACAAACCAGTAGCCTC-1</td>\n",
       "      <td>1</td>\n",
       "      <td>0.941976</td>\n",
       "      <td>sc2xen</td>\n",
       "      <td>NaN</td>\n",
       "      <td>diploid</td>\n",
       "      <td>DCIS 2</td>\n",
       "    </tr>\n",
       "    <tr>\n",
       "      <th>1</th>\n",
       "      <td>1</td>\n",
       "      <td>ATTTAGCTCTGGAACG-1</td>\n",
       "      <td>1</td>\n",
       "      <td>0.981881</td>\n",
       "      <td>sc2xen</td>\n",
       "      <td>NaN</td>\n",
       "      <td>5</td>\n",
       "      <td>DCIS 2</td>\n",
       "    </tr>\n",
       "    <tr>\n",
       "      <th>2</th>\n",
       "      <td>2</td>\n",
       "      <td>CCATAACGTATTGACC-1</td>\n",
       "      <td>1</td>\n",
       "      <td>0.954240</td>\n",
       "      <td>sc2xen</td>\n",
       "      <td>NaN</td>\n",
       "      <td>diploid</td>\n",
       "      <td>unknown</td>\n",
       "    </tr>\n",
       "    <tr>\n",
       "      <th>3</th>\n",
       "      <td>3</td>\n",
       "      <td>CCCACCTTCTGGTCTA-1</td>\n",
       "      <td>1</td>\n",
       "      <td>0.973575</td>\n",
       "      <td>sc2xen</td>\n",
       "      <td>NaN</td>\n",
       "      <td>diploid</td>\n",
       "      <td>DCIS 1</td>\n",
       "    </tr>\n",
       "    <tr>\n",
       "      <th>4</th>\n",
       "      <td>4</td>\n",
       "      <td>GCATGGATCGATTACT-1</td>\n",
       "      <td>1</td>\n",
       "      <td>0.956508</td>\n",
       "      <td>sc2xen</td>\n",
       "      <td>NaN</td>\n",
       "      <td>diploid</td>\n",
       "      <td>DCIS 2</td>\n",
       "    </tr>\n",
       "    <tr>\n",
       "      <th>...</th>\n",
       "      <td>...</td>\n",
       "      <td>...</td>\n",
       "      <td>...</td>\n",
       "      <td>...</td>\n",
       "      <td>...</td>\n",
       "      <td>...</td>\n",
       "      <td>...</td>\n",
       "      <td>...</td>\n",
       "    </tr>\n",
       "    <tr>\n",
       "      <th>4992483</th>\n",
       "      <td>5009635</td>\n",
       "      <td>167780</td>\n",
       "      <td>16</td>\n",
       "      <td>0.996593</td>\n",
       "      <td>xen2grid</td>\n",
       "      <td>20.0</td>\n",
       "      <td>NaN</td>\n",
       "      <td>NaN</td>\n",
       "    </tr>\n",
       "    <tr>\n",
       "      <th>4992484</th>\n",
       "      <td>5009636</td>\n",
       "      <td>167780</td>\n",
       "      <td>17</td>\n",
       "      <td>0.996535</td>\n",
       "      <td>xen2grid</td>\n",
       "      <td>20.0</td>\n",
       "      <td>NaN</td>\n",
       "      <td>NaN</td>\n",
       "    </tr>\n",
       "    <tr>\n",
       "      <th>4992485</th>\n",
       "      <td>5009637</td>\n",
       "      <td>167780</td>\n",
       "      <td>18</td>\n",
       "      <td>0.996529</td>\n",
       "      <td>xen2grid</td>\n",
       "      <td>20.0</td>\n",
       "      <td>NaN</td>\n",
       "      <td>NaN</td>\n",
       "    </tr>\n",
       "    <tr>\n",
       "      <th>4992486</th>\n",
       "      <td>5009638</td>\n",
       "      <td>167780</td>\n",
       "      <td>19</td>\n",
       "      <td>0.996515</td>\n",
       "      <td>xen2grid</td>\n",
       "      <td>20.0</td>\n",
       "      <td>NaN</td>\n",
       "      <td>NaN</td>\n",
       "    </tr>\n",
       "    <tr>\n",
       "      <th>4992487</th>\n",
       "      <td>5009639</td>\n",
       "      <td>167780</td>\n",
       "      <td>20</td>\n",
       "      <td>0.996431</td>\n",
       "      <td>xen2grid</td>\n",
       "      <td>20.0</td>\n",
       "      <td>NaN</td>\n",
       "      <td>NaN</td>\n",
       "    </tr>\n",
       "  </tbody>\n",
       "</table>\n",
       "<p>4992488 rows × 8 columns</p>\n",
       "</div>"
      ],
      "text/plain": [
       "         Unnamed: 0               node1  node2    weight      type  distance  \\\n",
       "0                 0  ACAAACCAGTAGCCTC-1      1  0.941976    sc2xen       NaN   \n",
       "1                 1  ATTTAGCTCTGGAACG-1      1  0.981881    sc2xen       NaN   \n",
       "2                 2  CCATAACGTATTGACC-1      1  0.954240    sc2xen       NaN   \n",
       "3                 3  CCCACCTTCTGGTCTA-1      1  0.973575    sc2xen       NaN   \n",
       "4                 4  GCATGGATCGATTACT-1      1  0.956508    sc2xen       NaN   \n",
       "...             ...                 ...    ...       ...       ...       ...   \n",
       "4992483     5009635              167780     16  0.996593  xen2grid      20.0   \n",
       "4992484     5009636              167780     17  0.996535  xen2grid      20.0   \n",
       "4992485     5009637              167780     18  0.996529  xen2grid      20.0   \n",
       "4992486     5009638              167780     19  0.996515  xen2grid      20.0   \n",
       "4992487     5009639              167780     20  0.996431  xen2grid      20.0   \n",
       "\n",
       "           clone cell_type  \n",
       "0        diploid    DCIS 2  \n",
       "1              5    DCIS 2  \n",
       "2        diploid   unknown  \n",
       "3        diploid    DCIS 1  \n",
       "4        diploid    DCIS 2  \n",
       "...          ...       ...  \n",
       "4992483      NaN       NaN  \n",
       "4992484      NaN       NaN  \n",
       "4992485      NaN       NaN  \n",
       "4992486      NaN       NaN  \n",
       "4992487      NaN       NaN  \n",
       "\n",
       "[4992488 rows x 8 columns]"
      ]
     },
     "execution_count": 187,
     "metadata": {},
     "output_type": "execute_result"
    }
   ],
   "source": [
    "edges.merge(overcl[[\"clone\",\"node1\", \"cell_type\"]],left_on = \"node1\",right_on =\"node1\",how = \"left\", validate = 'm:1')"
   ]
  },
  {
   "cell_type": "code",
   "execution_count": 188,
   "metadata": {},
   "outputs": [],
   "source": [
    "edges= edges.merge(overcl[[\"clone\",\"node1\", \"cell_type\"]],left_on = \"node1\",right_on =\"node1\",how = \"left\")"
   ]
  },
  {
   "cell_type": "code",
   "execution_count": 189,
   "metadata": {},
   "outputs": [
    {
     "data": {
      "text/plain": [
       "True"
      ]
     },
     "execution_count": 189,
     "metadata": {},
     "output_type": "execute_result"
    }
   ],
   "source": [
    "edges[edges[\"type\"] == \"sc2xen\"][[\"node1\",\"node2\"]].shape[0] == edges[edges[\"type\"] == \"sc2xen\"][[\"node1\",\"node2\"]].drop_duplicates().shape[0]"
   ]
  },
  {
   "cell_type": "code",
   "execution_count": 190,
   "metadata": {},
   "outputs": [
    {
     "data": {
      "text/plain": [
       "True"
      ]
     },
     "execution_count": 190,
     "metadata": {},
     "output_type": "execute_result"
    }
   ],
   "source": [
    "edges[edges[\"type\"] ==\"xen2grid\"][[\"node1\",\"node2\"]].shape[0] == edges[edges[\"type\"] == \"xen2grid\"][[\"node1\",\"node2\"]].drop_duplicates().shape[0]"
   ]
  },
  {
   "cell_type": "code",
   "execution_count": 191,
   "metadata": {},
   "outputs": [
    {
     "data": {
      "text/plain": [
       "True"
      ]
     },
     "execution_count": 191,
     "metadata": {},
     "output_type": "execute_result"
    }
   ],
   "source": [
    "edges[[\"node1\",\"node2\"]].shape[0] == edges[[\"node1\",\"node2\"]].drop_duplicates().shape[0]"
   ]
  },
  {
   "cell_type": "code",
   "execution_count": 192,
   "metadata": {},
   "outputs": [],
   "source": [
    "emb_xen = pd.read_csv(\"../data/interim/embedding_xenium_scvi.csv\", index_col = 0)\n",
    "emb_rna = pd.read_csv(\"../data/interim/embedding_rna2xen_scvi.csv\", index_col = 0)"
   ]
  },
  {
   "cell_type": "code",
   "execution_count": 193,
   "metadata": {},
   "outputs": [],
   "source": [
    "all_nodes_graph = set(edges.node1.to_list() + edges.node2.to_list())\n",
    "all_nodes_emb = set(emb_xen.index).union(set(emb_rna.index))\n",
    "all_nodes = list(all_nodes_graph.intersection(all_nodes_emb))\n",
    "node_encoder = {all_nodes[i]:i for i in range(len(all_nodes))}\n",
    "emb_xen = emb_xen.loc[emb_xen.index.isin(all_nodes)]\n",
    "emb_rna = emb_rna.loc[emb_rna.index.isin(all_nodes)]"
   ]
  },
  {
   "cell_type": "code",
   "execution_count": 194,
   "metadata": {},
   "outputs": [],
   "source": [
    "edges = edges[edges.node1.isin(all_nodes)]"
   ]
  },
  {
   "cell_type": "code",
   "execution_count": 195,
   "metadata": {},
   "outputs": [],
   "source": [
    "edges = edges[edges.node2.isin(all_nodes)]"
   ]
  },
  {
   "cell_type": "code",
   "execution_count": 196,
   "metadata": {},
   "outputs": [],
   "source": [
    "edges.node1 = edges.node1.map(node_encoder)"
   ]
  },
  {
   "cell_type": "code",
   "execution_count": 197,
   "metadata": {},
   "outputs": [],
   "source": [
    "edges.node2 = edges.node2.map(node_encoder)"
   ]
  },
  {
   "cell_type": "code",
   "execution_count": 198,
   "metadata": {},
   "outputs": [
    {
     "data": {
      "text/html": [
       "<div>\n",
       "<style scoped>\n",
       "    .dataframe tbody tr th:only-of-type {\n",
       "        vertical-align: middle;\n",
       "    }\n",
       "\n",
       "    .dataframe tbody tr th {\n",
       "        vertical-align: top;\n",
       "    }\n",
       "\n",
       "    .dataframe thead th {\n",
       "        text-align: right;\n",
       "    }\n",
       "</style>\n",
       "<table border=\"1\" class=\"dataframe\">\n",
       "  <thead>\n",
       "    <tr style=\"text-align: right;\">\n",
       "      <th></th>\n",
       "      <th>Unnamed: 0</th>\n",
       "      <th>node1</th>\n",
       "      <th>node2</th>\n",
       "      <th>weight</th>\n",
       "      <th>type</th>\n",
       "      <th>distance</th>\n",
       "      <th>clone</th>\n",
       "      <th>cell_type</th>\n",
       "    </tr>\n",
       "  </thead>\n",
       "  <tbody>\n",
       "    <tr>\n",
       "      <th>0</th>\n",
       "      <td>0</td>\n",
       "      <td>171444</td>\n",
       "      <td>0</td>\n",
       "      <td>0.941976</td>\n",
       "      <td>sc2xen</td>\n",
       "      <td>NaN</td>\n",
       "      <td>diploid</td>\n",
       "      <td>DCIS 2</td>\n",
       "    </tr>\n",
       "    <tr>\n",
       "      <th>1</th>\n",
       "      <td>1</td>\n",
       "      <td>173744</td>\n",
       "      <td>0</td>\n",
       "      <td>0.981881</td>\n",
       "      <td>sc2xen</td>\n",
       "      <td>NaN</td>\n",
       "      <td>5</td>\n",
       "      <td>DCIS 2</td>\n",
       "    </tr>\n",
       "    <tr>\n",
       "      <th>2</th>\n",
       "      <td>2</td>\n",
       "      <td>193050</td>\n",
       "      <td>0</td>\n",
       "      <td>0.954240</td>\n",
       "      <td>sc2xen</td>\n",
       "      <td>NaN</td>\n",
       "      <td>diploid</td>\n",
       "      <td>unknown</td>\n",
       "    </tr>\n",
       "    <tr>\n",
       "      <th>3</th>\n",
       "      <td>3</td>\n",
       "      <td>187820</td>\n",
       "      <td>0</td>\n",
       "      <td>0.973575</td>\n",
       "      <td>sc2xen</td>\n",
       "      <td>NaN</td>\n",
       "      <td>diploid</td>\n",
       "      <td>DCIS 1</td>\n",
       "    </tr>\n",
       "    <tr>\n",
       "      <th>4</th>\n",
       "      <td>4</td>\n",
       "      <td>192739</td>\n",
       "      <td>0</td>\n",
       "      <td>0.956508</td>\n",
       "      <td>sc2xen</td>\n",
       "      <td>NaN</td>\n",
       "      <td>diploid</td>\n",
       "      <td>DCIS 2</td>\n",
       "    </tr>\n",
       "    <tr>\n",
       "      <th>...</th>\n",
       "      <td>...</td>\n",
       "      <td>...</td>\n",
       "      <td>...</td>\n",
       "      <td>...</td>\n",
       "      <td>...</td>\n",
       "      <td>...</td>\n",
       "      <td>...</td>\n",
       "      <td>...</td>\n",
       "    </tr>\n",
       "    <tr>\n",
       "      <th>4992483</th>\n",
       "      <td>5009635</td>\n",
       "      <td>165733</td>\n",
       "      <td>15</td>\n",
       "      <td>0.996593</td>\n",
       "      <td>xen2grid</td>\n",
       "      <td>20.0</td>\n",
       "      <td>NaN</td>\n",
       "      <td>NaN</td>\n",
       "    </tr>\n",
       "    <tr>\n",
       "      <th>4992484</th>\n",
       "      <td>5009636</td>\n",
       "      <td>165733</td>\n",
       "      <td>16</td>\n",
       "      <td>0.996535</td>\n",
       "      <td>xen2grid</td>\n",
       "      <td>20.0</td>\n",
       "      <td>NaN</td>\n",
       "      <td>NaN</td>\n",
       "    </tr>\n",
       "    <tr>\n",
       "      <th>4992485</th>\n",
       "      <td>5009637</td>\n",
       "      <td>165733</td>\n",
       "      <td>17</td>\n",
       "      <td>0.996529</td>\n",
       "      <td>xen2grid</td>\n",
       "      <td>20.0</td>\n",
       "      <td>NaN</td>\n",
       "      <td>NaN</td>\n",
       "    </tr>\n",
       "    <tr>\n",
       "      <th>4992486</th>\n",
       "      <td>5009638</td>\n",
       "      <td>165733</td>\n",
       "      <td>18</td>\n",
       "      <td>0.996515</td>\n",
       "      <td>xen2grid</td>\n",
       "      <td>20.0</td>\n",
       "      <td>NaN</td>\n",
       "      <td>NaN</td>\n",
       "    </tr>\n",
       "    <tr>\n",
       "      <th>4992487</th>\n",
       "      <td>5009639</td>\n",
       "      <td>165733</td>\n",
       "      <td>19</td>\n",
       "      <td>0.996431</td>\n",
       "      <td>xen2grid</td>\n",
       "      <td>20.0</td>\n",
       "      <td>NaN</td>\n",
       "      <td>NaN</td>\n",
       "    </tr>\n",
       "  </tbody>\n",
       "</table>\n",
       "<p>4943456 rows × 8 columns</p>\n",
       "</div>"
      ],
      "text/plain": [
       "         Unnamed: 0   node1  node2    weight      type  distance    clone  \\\n",
       "0                 0  171444      0  0.941976    sc2xen       NaN  diploid   \n",
       "1                 1  173744      0  0.981881    sc2xen       NaN        5   \n",
       "2                 2  193050      0  0.954240    sc2xen       NaN  diploid   \n",
       "3                 3  187820      0  0.973575    sc2xen       NaN  diploid   \n",
       "4                 4  192739      0  0.956508    sc2xen       NaN  diploid   \n",
       "...             ...     ...    ...       ...       ...       ...      ...   \n",
       "4992483     5009635  165733     15  0.996593  xen2grid      20.0      NaN   \n",
       "4992484     5009636  165733     16  0.996535  xen2grid      20.0      NaN   \n",
       "4992485     5009637  165733     17  0.996529  xen2grid      20.0      NaN   \n",
       "4992486     5009638  165733     18  0.996515  xen2grid      20.0      NaN   \n",
       "4992487     5009639  165733     19  0.996431  xen2grid      20.0      NaN   \n",
       "\n",
       "        cell_type  \n",
       "0          DCIS 2  \n",
       "1          DCIS 2  \n",
       "2         unknown  \n",
       "3          DCIS 1  \n",
       "4          DCIS 2  \n",
       "...           ...  \n",
       "4992483       NaN  \n",
       "4992484       NaN  \n",
       "4992485       NaN  \n",
       "4992486       NaN  \n",
       "4992487       NaN  \n",
       "\n",
       "[4943456 rows x 8 columns]"
      ]
     },
     "execution_count": 198,
     "metadata": {},
     "output_type": "execute_result"
    }
   ],
   "source": [
    "edges"
   ]
  },
  {
   "cell_type": "code",
   "execution_count": 199,
   "metadata": {},
   "outputs": [],
   "source": [
    "emb_vis = emb_xen.rename(index = node_encoder)\n",
    "emb_rna = emb_rna.rename(index = node_encoder)"
   ]
  },
  {
   "cell_type": "code",
   "execution_count": 200,
   "metadata": {},
   "outputs": [],
   "source": [
    "edge_index = torch.tensor([edges.node1,\n",
    "                           edges.node2], dtype=torch.long)"
   ]
  },
  {
   "cell_type": "code",
   "execution_count": 201,
   "metadata": {},
   "outputs": [
    {
     "data": {
      "text/plain": [
       "tensor([[171444, 173744, 193050,  ..., 165733, 165733, 165733],\n",
       "        [     0,      0,      0,  ...,     17,     18,     19]])"
      ]
     },
     "execution_count": 201,
     "metadata": {},
     "output_type": "execute_result"
    }
   ],
   "source": [
    "edge_index"
   ]
  },
  {
   "cell_type": "code",
   "execution_count": 202,
   "metadata": {},
   "outputs": [],
   "source": [
    "edge_weight = torch.tensor(edges.weight.values, dtype=torch.float)"
   ]
  },
  {
   "cell_type": "code",
   "execution_count": 203,
   "metadata": {},
   "outputs": [],
   "source": [
    "features = pd.concat([emb_vis, emb_rna])"
   ]
  },
  {
   "cell_type": "code",
   "execution_count": 204,
   "metadata": {},
   "outputs": [],
   "source": [
    "features = features.sort_index()"
   ]
  },
  {
   "cell_type": "code",
   "execution_count": 205,
   "metadata": {},
   "outputs": [],
   "source": [
    "x = torch.tensor(features.values , dtype=torch.float)"
   ]
  },
  {
   "cell_type": "code",
   "execution_count": 206,
   "metadata": {},
   "outputs": [
    {
     "data": {
      "text/html": [
       "<div>\n",
       "<style scoped>\n",
       "    .dataframe tbody tr th:only-of-type {\n",
       "        vertical-align: middle;\n",
       "    }\n",
       "\n",
       "    .dataframe tbody tr th {\n",
       "        vertical-align: top;\n",
       "    }\n",
       "\n",
       "    .dataframe thead th {\n",
       "        text-align: right;\n",
       "    }\n",
       "</style>\n",
       "<table border=\"1\" class=\"dataframe\">\n",
       "  <thead>\n",
       "    <tr style=\"text-align: right;\">\n",
       "      <th></th>\n",
       "      <th>Unnamed: 0</th>\n",
       "      <th>node1</th>\n",
       "      <th>node2</th>\n",
       "      <th>weight</th>\n",
       "      <th>type</th>\n",
       "      <th>distance</th>\n",
       "      <th>clone</th>\n",
       "      <th>cell_type</th>\n",
       "    </tr>\n",
       "  </thead>\n",
       "  <tbody>\n",
       "    <tr>\n",
       "      <th>1638400</th>\n",
       "      <td>1655552</td>\n",
       "      <td>75</td>\n",
       "      <td>12</td>\n",
       "      <td>0.997022</td>\n",
       "      <td>xen2grid</td>\n",
       "      <td>20.0</td>\n",
       "      <td>NaN</td>\n",
       "      <td>NaN</td>\n",
       "    </tr>\n",
       "    <tr>\n",
       "      <th>1638401</th>\n",
       "      <td>1655553</td>\n",
       "      <td>75</td>\n",
       "      <td>13</td>\n",
       "      <td>0.996847</td>\n",
       "      <td>xen2grid</td>\n",
       "      <td>20.0</td>\n",
       "      <td>NaN</td>\n",
       "      <td>NaN</td>\n",
       "    </tr>\n",
       "    <tr>\n",
       "      <th>1638402</th>\n",
       "      <td>1655554</td>\n",
       "      <td>75</td>\n",
       "      <td>14</td>\n",
       "      <td>0.996823</td>\n",
       "      <td>xen2grid</td>\n",
       "      <td>20.0</td>\n",
       "      <td>NaN</td>\n",
       "      <td>NaN</td>\n",
       "    </tr>\n",
       "    <tr>\n",
       "      <th>1638403</th>\n",
       "      <td>1655555</td>\n",
       "      <td>75</td>\n",
       "      <td>15</td>\n",
       "      <td>0.996770</td>\n",
       "      <td>xen2grid</td>\n",
       "      <td>20.0</td>\n",
       "      <td>NaN</td>\n",
       "      <td>NaN</td>\n",
       "    </tr>\n",
       "    <tr>\n",
       "      <th>1638404</th>\n",
       "      <td>1655556</td>\n",
       "      <td>75</td>\n",
       "      <td>16</td>\n",
       "      <td>0.996713</td>\n",
       "      <td>xen2grid</td>\n",
       "      <td>20.0</td>\n",
       "      <td>NaN</td>\n",
       "      <td>NaN</td>\n",
       "    </tr>\n",
       "    <tr>\n",
       "      <th>...</th>\n",
       "      <td>...</td>\n",
       "      <td>...</td>\n",
       "      <td>...</td>\n",
       "      <td>...</td>\n",
       "      <td>...</td>\n",
       "      <td>...</td>\n",
       "      <td>...</td>\n",
       "      <td>...</td>\n",
       "    </tr>\n",
       "    <tr>\n",
       "      <th>4992483</th>\n",
       "      <td>5009635</td>\n",
       "      <td>165733</td>\n",
       "      <td>15</td>\n",
       "      <td>0.996593</td>\n",
       "      <td>xen2grid</td>\n",
       "      <td>20.0</td>\n",
       "      <td>NaN</td>\n",
       "      <td>NaN</td>\n",
       "    </tr>\n",
       "    <tr>\n",
       "      <th>4992484</th>\n",
       "      <td>5009636</td>\n",
       "      <td>165733</td>\n",
       "      <td>16</td>\n",
       "      <td>0.996535</td>\n",
       "      <td>xen2grid</td>\n",
       "      <td>20.0</td>\n",
       "      <td>NaN</td>\n",
       "      <td>NaN</td>\n",
       "    </tr>\n",
       "    <tr>\n",
       "      <th>4992485</th>\n",
       "      <td>5009637</td>\n",
       "      <td>165733</td>\n",
       "      <td>17</td>\n",
       "      <td>0.996529</td>\n",
       "      <td>xen2grid</td>\n",
       "      <td>20.0</td>\n",
       "      <td>NaN</td>\n",
       "      <td>NaN</td>\n",
       "    </tr>\n",
       "    <tr>\n",
       "      <th>4992486</th>\n",
       "      <td>5009638</td>\n",
       "      <td>165733</td>\n",
       "      <td>18</td>\n",
       "      <td>0.996515</td>\n",
       "      <td>xen2grid</td>\n",
       "      <td>20.0</td>\n",
       "      <td>NaN</td>\n",
       "      <td>NaN</td>\n",
       "    </tr>\n",
       "    <tr>\n",
       "      <th>4992487</th>\n",
       "      <td>5009639</td>\n",
       "      <td>165733</td>\n",
       "      <td>19</td>\n",
       "      <td>0.996431</td>\n",
       "      <td>xen2grid</td>\n",
       "      <td>20.0</td>\n",
       "      <td>NaN</td>\n",
       "      <td>NaN</td>\n",
       "    </tr>\n",
       "  </tbody>\n",
       "</table>\n",
       "<p>3306568 rows × 8 columns</p>\n",
       "</div>"
      ],
      "text/plain": [
       "         Unnamed: 0   node1  node2    weight      type  distance clone  \\\n",
       "1638400     1655552      75     12  0.997022  xen2grid      20.0   NaN   \n",
       "1638401     1655553      75     13  0.996847  xen2grid      20.0   NaN   \n",
       "1638402     1655554      75     14  0.996823  xen2grid      20.0   NaN   \n",
       "1638403     1655555      75     15  0.996770  xen2grid      20.0   NaN   \n",
       "1638404     1655556      75     16  0.996713  xen2grid      20.0   NaN   \n",
       "...             ...     ...    ...       ...       ...       ...   ...   \n",
       "4992483     5009635  165733     15  0.996593  xen2grid      20.0   NaN   \n",
       "4992484     5009636  165733     16  0.996535  xen2grid      20.0   NaN   \n",
       "4992485     5009637  165733     17  0.996529  xen2grid      20.0   NaN   \n",
       "4992486     5009638  165733     18  0.996515  xen2grid      20.0   NaN   \n",
       "4992487     5009639  165733     19  0.996431  xen2grid      20.0   NaN   \n",
       "\n",
       "        cell_type  \n",
       "1638400       NaN  \n",
       "1638401       NaN  \n",
       "1638402       NaN  \n",
       "1638403       NaN  \n",
       "1638404       NaN  \n",
       "...           ...  \n",
       "4992483       NaN  \n",
       "4992484       NaN  \n",
       "4992485       NaN  \n",
       "4992486       NaN  \n",
       "4992487       NaN  \n",
       "\n",
       "[3306568 rows x 8 columns]"
      ]
     },
     "execution_count": 206,
     "metadata": {},
     "output_type": "execute_result"
    }
   ],
   "source": [
    "edges[edges.type == \"xen2grid\"]"
   ]
  },
  {
   "cell_type": "code",
   "execution_count": 207,
   "metadata": {},
   "outputs": [],
   "source": [
    "edges.clone = edges.clone.fillna(\"missing\")"
   ]
  },
  {
   "cell_type": "code",
   "execution_count": 208,
   "metadata": {},
   "outputs": [
    {
     "data": {
      "text/html": [
       "<div>\n",
       "<style scoped>\n",
       "    .dataframe tbody tr th:only-of-type {\n",
       "        vertical-align: middle;\n",
       "    }\n",
       "\n",
       "    .dataframe tbody tr th {\n",
       "        vertical-align: top;\n",
       "    }\n",
       "\n",
       "    .dataframe thead th {\n",
       "        text-align: right;\n",
       "    }\n",
       "</style>\n",
       "<table border=\"1\" class=\"dataframe\">\n",
       "  <thead>\n",
       "    <tr style=\"text-align: right;\">\n",
       "      <th></th>\n",
       "      <th>Unnamed: 0</th>\n",
       "      <th>node1</th>\n",
       "      <th>node2</th>\n",
       "      <th>weight</th>\n",
       "      <th>type</th>\n",
       "      <th>distance</th>\n",
       "      <th>clone</th>\n",
       "      <th>cell_type</th>\n",
       "    </tr>\n",
       "  </thead>\n",
       "  <tbody>\n",
       "    <tr>\n",
       "      <th>1638400</th>\n",
       "      <td>1655552</td>\n",
       "      <td>75</td>\n",
       "      <td>12</td>\n",
       "      <td>0.997022</td>\n",
       "      <td>xen2grid</td>\n",
       "      <td>20.0</td>\n",
       "      <td>missing</td>\n",
       "      <td>NaN</td>\n",
       "    </tr>\n",
       "    <tr>\n",
       "      <th>1638401</th>\n",
       "      <td>1655553</td>\n",
       "      <td>75</td>\n",
       "      <td>13</td>\n",
       "      <td>0.996847</td>\n",
       "      <td>xen2grid</td>\n",
       "      <td>20.0</td>\n",
       "      <td>missing</td>\n",
       "      <td>NaN</td>\n",
       "    </tr>\n",
       "    <tr>\n",
       "      <th>1638402</th>\n",
       "      <td>1655554</td>\n",
       "      <td>75</td>\n",
       "      <td>14</td>\n",
       "      <td>0.996823</td>\n",
       "      <td>xen2grid</td>\n",
       "      <td>20.0</td>\n",
       "      <td>missing</td>\n",
       "      <td>NaN</td>\n",
       "    </tr>\n",
       "    <tr>\n",
       "      <th>1638403</th>\n",
       "      <td>1655555</td>\n",
       "      <td>75</td>\n",
       "      <td>15</td>\n",
       "      <td>0.996770</td>\n",
       "      <td>xen2grid</td>\n",
       "      <td>20.0</td>\n",
       "      <td>missing</td>\n",
       "      <td>NaN</td>\n",
       "    </tr>\n",
       "    <tr>\n",
       "      <th>1638404</th>\n",
       "      <td>1655556</td>\n",
       "      <td>75</td>\n",
       "      <td>16</td>\n",
       "      <td>0.996713</td>\n",
       "      <td>xen2grid</td>\n",
       "      <td>20.0</td>\n",
       "      <td>missing</td>\n",
       "      <td>NaN</td>\n",
       "    </tr>\n",
       "    <tr>\n",
       "      <th>...</th>\n",
       "      <td>...</td>\n",
       "      <td>...</td>\n",
       "      <td>...</td>\n",
       "      <td>...</td>\n",
       "      <td>...</td>\n",
       "      <td>...</td>\n",
       "      <td>...</td>\n",
       "      <td>...</td>\n",
       "    </tr>\n",
       "    <tr>\n",
       "      <th>4992483</th>\n",
       "      <td>5009635</td>\n",
       "      <td>165733</td>\n",
       "      <td>15</td>\n",
       "      <td>0.996593</td>\n",
       "      <td>xen2grid</td>\n",
       "      <td>20.0</td>\n",
       "      <td>missing</td>\n",
       "      <td>NaN</td>\n",
       "    </tr>\n",
       "    <tr>\n",
       "      <th>4992484</th>\n",
       "      <td>5009636</td>\n",
       "      <td>165733</td>\n",
       "      <td>16</td>\n",
       "      <td>0.996535</td>\n",
       "      <td>xen2grid</td>\n",
       "      <td>20.0</td>\n",
       "      <td>missing</td>\n",
       "      <td>NaN</td>\n",
       "    </tr>\n",
       "    <tr>\n",
       "      <th>4992485</th>\n",
       "      <td>5009637</td>\n",
       "      <td>165733</td>\n",
       "      <td>17</td>\n",
       "      <td>0.996529</td>\n",
       "      <td>xen2grid</td>\n",
       "      <td>20.0</td>\n",
       "      <td>missing</td>\n",
       "      <td>NaN</td>\n",
       "    </tr>\n",
       "    <tr>\n",
       "      <th>4992486</th>\n",
       "      <td>5009638</td>\n",
       "      <td>165733</td>\n",
       "      <td>18</td>\n",
       "      <td>0.996515</td>\n",
       "      <td>xen2grid</td>\n",
       "      <td>20.0</td>\n",
       "      <td>missing</td>\n",
       "      <td>NaN</td>\n",
       "    </tr>\n",
       "    <tr>\n",
       "      <th>4992487</th>\n",
       "      <td>5009639</td>\n",
       "      <td>165733</td>\n",
       "      <td>19</td>\n",
       "      <td>0.996431</td>\n",
       "      <td>xen2grid</td>\n",
       "      <td>20.0</td>\n",
       "      <td>missing</td>\n",
       "      <td>NaN</td>\n",
       "    </tr>\n",
       "  </tbody>\n",
       "</table>\n",
       "<p>3306568 rows × 8 columns</p>\n",
       "</div>"
      ],
      "text/plain": [
       "         Unnamed: 0   node1  node2    weight      type  distance    clone  \\\n",
       "1638400     1655552      75     12  0.997022  xen2grid      20.0  missing   \n",
       "1638401     1655553      75     13  0.996847  xen2grid      20.0  missing   \n",
       "1638402     1655554      75     14  0.996823  xen2grid      20.0  missing   \n",
       "1638403     1655555      75     15  0.996770  xen2grid      20.0  missing   \n",
       "1638404     1655556      75     16  0.996713  xen2grid      20.0  missing   \n",
       "...             ...     ...    ...       ...       ...       ...      ...   \n",
       "4992483     5009635  165733     15  0.996593  xen2grid      20.0  missing   \n",
       "4992484     5009636  165733     16  0.996535  xen2grid      20.0  missing   \n",
       "4992485     5009637  165733     17  0.996529  xen2grid      20.0  missing   \n",
       "4992486     5009638  165733     18  0.996515  xen2grid      20.0  missing   \n",
       "4992487     5009639  165733     19  0.996431  xen2grid      20.0  missing   \n",
       "\n",
       "        cell_type  \n",
       "1638400       NaN  \n",
       "1638401       NaN  \n",
       "1638402       NaN  \n",
       "1638403       NaN  \n",
       "1638404       NaN  \n",
       "...           ...  \n",
       "4992483       NaN  \n",
       "4992484       NaN  \n",
       "4992485       NaN  \n",
       "4992486       NaN  \n",
       "4992487       NaN  \n",
       "\n",
       "[3306568 rows x 8 columns]"
      ]
     },
     "execution_count": 208,
     "metadata": {},
     "output_type": "execute_result"
    }
   ],
   "source": [
    "edges[edges.clone == \"missing\"]"
   ]
  },
  {
   "cell_type": "code",
   "execution_count": 209,
   "metadata": {},
   "outputs": [],
   "source": [
    "nodes_atr = edges[[\"node1\",\"type\",\"cell_type\", \"clone\"]].drop_duplicates()"
   ]
  },
  {
   "cell_type": "code",
   "execution_count": 210,
   "metadata": {},
   "outputs": [],
   "source": [
    "nodes_atr = nodes_atr.sort_values(by = \"node1\")"
   ]
  },
  {
   "cell_type": "code",
   "execution_count": 211,
   "metadata": {},
   "outputs": [
    {
     "data": {
      "text/plain": [
       "array(['missing', 'diploid', '1', '9', '4', '7', '8', '12', '2', '0', '6',\n",
       "       '5', '11', '16', '15', '10', '14', '13', '3'], dtype=object)"
      ]
     },
     "execution_count": 211,
     "metadata": {},
     "output_type": "execute_result"
    }
   ],
   "source": [
    "nodes_atr.clone.unique()"
   ]
  },
  {
   "cell_type": "code",
   "execution_count": 212,
   "metadata": {},
   "outputs": [],
   "source": [
    "nodes_atr.cell_type = nodes_atr.cell_type.fillna(\"missing\")"
   ]
  },
  {
   "cell_type": "code",
   "execution_count": 213,
   "metadata": {},
   "outputs": [
    {
     "data": {
      "text/html": [
       "<div>\n",
       "<style scoped>\n",
       "    .dataframe tbody tr th:only-of-type {\n",
       "        vertical-align: middle;\n",
       "    }\n",
       "\n",
       "    .dataframe tbody tr th {\n",
       "        vertical-align: top;\n",
       "    }\n",
       "\n",
       "    .dataframe thead th {\n",
       "        text-align: right;\n",
       "    }\n",
       "</style>\n",
       "<table border=\"1\" class=\"dataframe\">\n",
       "  <thead>\n",
       "    <tr style=\"text-align: right;\">\n",
       "      <th></th>\n",
       "      <th>node1</th>\n",
       "      <th>type</th>\n",
       "      <th>cell_type</th>\n",
       "      <th>clone</th>\n",
       "    </tr>\n",
       "  </thead>\n",
       "  <tbody>\n",
       "    <tr>\n",
       "      <th>1638400</th>\n",
       "      <td>75</td>\n",
       "      <td>xen2grid</td>\n",
       "      <td>missing</td>\n",
       "      <td>missing</td>\n",
       "    </tr>\n",
       "    <tr>\n",
       "      <th>1638408</th>\n",
       "      <td>76</td>\n",
       "      <td>xen2grid</td>\n",
       "      <td>missing</td>\n",
       "      <td>missing</td>\n",
       "    </tr>\n",
       "    <tr>\n",
       "      <th>1638428</th>\n",
       "      <td>77</td>\n",
       "      <td>xen2grid</td>\n",
       "      <td>missing</td>\n",
       "      <td>missing</td>\n",
       "    </tr>\n",
       "    <tr>\n",
       "      <th>1638448</th>\n",
       "      <td>78</td>\n",
       "      <td>xen2grid</td>\n",
       "      <td>missing</td>\n",
       "      <td>missing</td>\n",
       "    </tr>\n",
       "    <tr>\n",
       "      <th>1638468</th>\n",
       "      <td>79</td>\n",
       "      <td>xen2grid</td>\n",
       "      <td>missing</td>\n",
       "      <td>missing</td>\n",
       "    </tr>\n",
       "    <tr>\n",
       "      <th>...</th>\n",
       "      <td>...</td>\n",
       "      <td>...</td>\n",
       "      <td>...</td>\n",
       "      <td>...</td>\n",
       "    </tr>\n",
       "    <tr>\n",
       "      <th>33502</th>\n",
       "      <td>194323</td>\n",
       "      <td>sc2xen</td>\n",
       "      <td>CD4+ T Cells</td>\n",
       "      <td>diploid</td>\n",
       "    </tr>\n",
       "    <tr>\n",
       "      <th>7324</th>\n",
       "      <td>194324</td>\n",
       "      <td>sc2xen</td>\n",
       "      <td>Myoepi KRT15+</td>\n",
       "      <td>diploid</td>\n",
       "    </tr>\n",
       "    <tr>\n",
       "      <th>128187</th>\n",
       "      <td>194325</td>\n",
       "      <td>sc2xen</td>\n",
       "      <td>CD8+ T Cells</td>\n",
       "      <td>diploid</td>\n",
       "    </tr>\n",
       "    <tr>\n",
       "      <th>10958</th>\n",
       "      <td>194326</td>\n",
       "      <td>sc2xen</td>\n",
       "      <td>DCIS 1</td>\n",
       "      <td>7</td>\n",
       "    </tr>\n",
       "    <tr>\n",
       "      <th>58807</th>\n",
       "      <td>194327</td>\n",
       "      <td>sc2xen</td>\n",
       "      <td>DCIS 1</td>\n",
       "      <td>10</td>\n",
       "    </tr>\n",
       "  </tbody>\n",
       "</table>\n",
       "<p>194253 rows × 4 columns</p>\n",
       "</div>"
      ],
      "text/plain": [
       "          node1      type      cell_type    clone\n",
       "1638400      75  xen2grid        missing  missing\n",
       "1638408      76  xen2grid        missing  missing\n",
       "1638428      77  xen2grid        missing  missing\n",
       "1638448      78  xen2grid        missing  missing\n",
       "1638468      79  xen2grid        missing  missing\n",
       "...         ...       ...            ...      ...\n",
       "33502    194323    sc2xen   CD4+ T Cells  diploid\n",
       "7324     194324    sc2xen  Myoepi KRT15+  diploid\n",
       "128187   194325    sc2xen   CD8+ T Cells  diploid\n",
       "10958    194326    sc2xen         DCIS 1        7\n",
       "58807    194327    sc2xen         DCIS 1       10\n",
       "\n",
       "[194253 rows x 4 columns]"
      ]
     },
     "execution_count": 213,
     "metadata": {},
     "output_type": "execute_result"
    }
   ],
   "source": [
    "nodes_atr"
   ]
  },
  {
   "cell_type": "code",
   "execution_count": 214,
   "metadata": {},
   "outputs": [
    {
     "data": {
      "text/plain": [
       "Counter({'missing': 165329,\n",
       "         'CD4+ T Cells': 2797,\n",
       "         'Prolif Invasive Tumor': 1286,\n",
       "         'Myoepi KRT15+': 594,\n",
       "         'Stromal': 2548,\n",
       "         'DCIS 1': 2122,\n",
       "         'Invasive Tumor': 4309,\n",
       "         'unknown': 2274,\n",
       "         'CD8+ T Cells': 1808,\n",
       "         'Macrophages 1': 2936,\n",
       "         'Endothelial': 1028,\n",
       "         'B Cells': 1387,\n",
       "         'Stromal & T Cell Hybrid': 424,\n",
       "         'DCIS 2': 1839,\n",
       "         'IRF7+ DCs': 210,\n",
       "         'Macrophages 2': 732,\n",
       "         'T Cell & Tumor Hybrid': 984,\n",
       "         'Myoepi ACTA2+': 1212,\n",
       "         'Perivascular-Like': 272,\n",
       "         'LAMP3+ DCs': 102,\n",
       "         'Mast Cells': 60})"
      ]
     },
     "execution_count": 214,
     "metadata": {},
     "output_type": "execute_result"
    }
   ],
   "source": [
    "from collections import Counter\n",
    "\n",
    "Counter(nodes_atr.cell_type)"
   ]
  },
  {
   "cell_type": "code",
   "execution_count": 215,
   "metadata": {},
   "outputs": [],
   "source": [
    "ct_list = list(nodes_atr.cell_type.unique())\n",
    "ct_list.remove(\"missing\")"
   ]
  },
  {
   "cell_type": "code",
   "execution_count": 216,
   "metadata": {},
   "outputs": [
    {
     "data": {
      "text/plain": [
       "Counter({'missing': 165329,\n",
       "         'diploid': 19533,\n",
       "         '1': 1234,\n",
       "         '9': 479,\n",
       "         '4': 786,\n",
       "         '7': 597,\n",
       "         '8': 583,\n",
       "         '12': 315,\n",
       "         '2': 896,\n",
       "         '0': 1502,\n",
       "         '6': 641,\n",
       "         '5': 809,\n",
       "         '11': 361,\n",
       "         '16': 61,\n",
       "         '15': 67,\n",
       "         '10': 510,\n",
       "         '14': 224,\n",
       "         '13': 304,\n",
       "         '3': 22})"
      ]
     },
     "execution_count": 216,
     "metadata": {},
     "output_type": "execute_result"
    }
   ],
   "source": [
    "Counter(nodes_atr.clone)"
   ]
  },
  {
   "cell_type": "code",
   "execution_count": 217,
   "metadata": {},
   "outputs": [],
   "source": [
    "clone_list = list(nodes_atr.clone.unique())\n",
    "clone_list.remove(\"missing\")\n",
    "clone_list.remove(\"diploid\")\n",
    "clone_dict = {x:int(x) for x in clone_list}\n",
    "clone_dict[\"missing\"] = -1\n",
    "clone_dict[\"diploid\"] = len(clone_dict)-1"
   ]
  },
  {
   "cell_type": "code",
   "execution_count": 218,
   "metadata": {},
   "outputs": [
    {
     "data": {
      "text/plain": [
       "{'1': 1,\n",
       " '9': 9,\n",
       " '4': 4,\n",
       " '7': 7,\n",
       " '8': 8,\n",
       " '12': 12,\n",
       " '2': 2,\n",
       " '0': 0,\n",
       " '6': 6,\n",
       " '5': 5,\n",
       " '11': 11,\n",
       " '16': 16,\n",
       " '15': 15,\n",
       " '10': 10,\n",
       " '14': 14,\n",
       " '13': 13,\n",
       " '3': 3,\n",
       " 'missing': -1,\n",
       " 'diploid': 17}"
      ]
     },
     "execution_count": 218,
     "metadata": {},
     "output_type": "execute_result"
    }
   ],
   "source": [
    "clone_dict"
   ]
  },
  {
   "cell_type": "code",
   "execution_count": 219,
   "metadata": {},
   "outputs": [],
   "source": [
    "    ct_list = list(nodes_atr.cell_type.unique())\n",
    "    ct_list.remove(\"missing\")"
   ]
  },
  {
   "cell_type": "code",
   "execution_count": 220,
   "metadata": {},
   "outputs": [],
   "source": [
    "type_dict = {ct_list[i]:i for i in range(len(ct_list))}"
   ]
  },
  {
   "cell_type": "code",
   "execution_count": 221,
   "metadata": {},
   "outputs": [],
   "source": [
    "type_dict[\"missing\"] = -1"
   ]
  },
  {
   "cell_type": "code",
   "execution_count": 222,
   "metadata": {},
   "outputs": [
    {
     "data": {
      "text/plain": [
       "{'CD4+ T Cells': 0,\n",
       " 'Prolif Invasive Tumor': 1,\n",
       " 'Myoepi KRT15+': 2,\n",
       " 'Stromal': 3,\n",
       " 'DCIS 1': 4,\n",
       " 'Invasive Tumor': 5,\n",
       " 'unknown': 6,\n",
       " 'CD8+ T Cells': 7,\n",
       " 'Macrophages 1': 8,\n",
       " 'Endothelial': 9,\n",
       " 'B Cells': 10,\n",
       " 'Stromal & T Cell Hybrid': 11,\n",
       " 'DCIS 2': 12,\n",
       " 'IRF7+ DCs': 13,\n",
       " 'Macrophages 2': 14,\n",
       " 'T Cell & Tumor Hybrid': 15,\n",
       " 'Myoepi ACTA2+': 16,\n",
       " 'Perivascular-Like': 17,\n",
       " 'LAMP3+ DCs': 18,\n",
       " 'Mast Cells': 19,\n",
       " 'missing': -1}"
      ]
     },
     "execution_count": 222,
     "metadata": {},
     "output_type": "execute_result"
    }
   ],
   "source": [
    "type_dict"
   ]
  },
  {
   "cell_type": "code",
   "execution_count": 223,
   "metadata": {},
   "outputs": [],
   "source": [
    "nodes_atr.clone = nodes_atr.clone.map(clone_dict)"
   ]
  },
  {
   "cell_type": "code",
   "execution_count": 224,
   "metadata": {},
   "outputs": [],
   "source": [
    "edges.cell_type = edges.cell_type.fillna(\"missing\")"
   ]
  },
  {
   "cell_type": "code",
   "execution_count": 225,
   "metadata": {},
   "outputs": [],
   "source": [
    "nodes_atr.cell_type = nodes_atr.cell_type.map(type_dict)"
   ]
  },
  {
   "cell_type": "code",
   "execution_count": 226,
   "metadata": {},
   "outputs": [],
   "source": [
    "nodes_atr = nodes_atr.set_index(\"node1\")"
   ]
  },
  {
   "cell_type": "code",
   "execution_count": 227,
   "metadata": {},
   "outputs": [
    {
     "data": {
      "text/html": [
       "<div>\n",
       "<style scoped>\n",
       "    .dataframe tbody tr th:only-of-type {\n",
       "        vertical-align: middle;\n",
       "    }\n",
       "\n",
       "    .dataframe tbody tr th {\n",
       "        vertical-align: top;\n",
       "    }\n",
       "\n",
       "    .dataframe thead th {\n",
       "        text-align: right;\n",
       "    }\n",
       "</style>\n",
       "<table border=\"1\" class=\"dataframe\">\n",
       "  <thead>\n",
       "    <tr style=\"text-align: right;\">\n",
       "      <th></th>\n",
       "      <th>type</th>\n",
       "      <th>cell_type</th>\n",
       "      <th>clone</th>\n",
       "    </tr>\n",
       "    <tr>\n",
       "      <th>node1</th>\n",
       "      <th></th>\n",
       "      <th></th>\n",
       "      <th></th>\n",
       "    </tr>\n",
       "  </thead>\n",
       "  <tbody>\n",
       "    <tr>\n",
       "      <th>75</th>\n",
       "      <td>xen2grid</td>\n",
       "      <td>-1</td>\n",
       "      <td>-1</td>\n",
       "    </tr>\n",
       "    <tr>\n",
       "      <th>76</th>\n",
       "      <td>xen2grid</td>\n",
       "      <td>-1</td>\n",
       "      <td>-1</td>\n",
       "    </tr>\n",
       "    <tr>\n",
       "      <th>77</th>\n",
       "      <td>xen2grid</td>\n",
       "      <td>-1</td>\n",
       "      <td>-1</td>\n",
       "    </tr>\n",
       "    <tr>\n",
       "      <th>78</th>\n",
       "      <td>xen2grid</td>\n",
       "      <td>-1</td>\n",
       "      <td>-1</td>\n",
       "    </tr>\n",
       "    <tr>\n",
       "      <th>79</th>\n",
       "      <td>xen2grid</td>\n",
       "      <td>-1</td>\n",
       "      <td>-1</td>\n",
       "    </tr>\n",
       "  </tbody>\n",
       "</table>\n",
       "</div>"
      ],
      "text/plain": [
       "           type  cell_type  clone\n",
       "node1                            \n",
       "75     xen2grid         -1     -1\n",
       "76     xen2grid         -1     -1\n",
       "77     xen2grid         -1     -1\n",
       "78     xen2grid         -1     -1\n",
       "79     xen2grid         -1     -1"
      ]
     },
     "execution_count": 227,
     "metadata": {},
     "output_type": "execute_result"
    }
   ],
   "source": [
    "nodes_atr.head()"
   ]
  },
  {
   "cell_type": "code",
   "execution_count": 228,
   "metadata": {},
   "outputs": [
    {
     "data": {
      "text/plain": [
       "array(['xen2grid', 'sc2xen'], dtype=object)"
      ]
     },
     "execution_count": 228,
     "metadata": {},
     "output_type": "execute_result"
    }
   ],
   "source": [
    "nodes_atr[\"type\"].unique()"
   ]
  },
  {
   "cell_type": "code",
   "execution_count": 229,
   "metadata": {},
   "outputs": [
    {
     "data": {
      "text/html": [
       "<div>\n",
       "<style scoped>\n",
       "    .dataframe tbody tr th:only-of-type {\n",
       "        vertical-align: middle;\n",
       "    }\n",
       "\n",
       "    .dataframe tbody tr th {\n",
       "        vertical-align: top;\n",
       "    }\n",
       "\n",
       "    .dataframe thead th {\n",
       "        text-align: right;\n",
       "    }\n",
       "</style>\n",
       "<table border=\"1\" class=\"dataframe\">\n",
       "  <thead>\n",
       "    <tr style=\"text-align: right;\">\n",
       "      <th></th>\n",
       "      <th>type</th>\n",
       "      <th>cell_type</th>\n",
       "      <th>clone</th>\n",
       "    </tr>\n",
       "    <tr>\n",
       "      <th>node1</th>\n",
       "      <th></th>\n",
       "      <th></th>\n",
       "      <th></th>\n",
       "    </tr>\n",
       "  </thead>\n",
       "  <tbody>\n",
       "    <tr>\n",
       "      <th>613</th>\n",
       "      <td>sc2xen</td>\n",
       "      <td>0</td>\n",
       "      <td>17</td>\n",
       "    </tr>\n",
       "    <tr>\n",
       "      <th>635</th>\n",
       "      <td>sc2xen</td>\n",
       "      <td>1</td>\n",
       "      <td>1</td>\n",
       "    </tr>\n",
       "    <tr>\n",
       "      <th>3236</th>\n",
       "      <td>sc2xen</td>\n",
       "      <td>2</td>\n",
       "      <td>17</td>\n",
       "    </tr>\n",
       "    <tr>\n",
       "      <th>3348</th>\n",
       "      <td>sc2xen</td>\n",
       "      <td>0</td>\n",
       "      <td>17</td>\n",
       "    </tr>\n",
       "    <tr>\n",
       "      <th>3356</th>\n",
       "      <td>sc2xen</td>\n",
       "      <td>3</td>\n",
       "      <td>17</td>\n",
       "    </tr>\n",
       "    <tr>\n",
       "      <th>...</th>\n",
       "      <td>...</td>\n",
       "      <td>...</td>\n",
       "      <td>...</td>\n",
       "    </tr>\n",
       "    <tr>\n",
       "      <th>194323</th>\n",
       "      <td>sc2xen</td>\n",
       "      <td>0</td>\n",
       "      <td>17</td>\n",
       "    </tr>\n",
       "    <tr>\n",
       "      <th>194324</th>\n",
       "      <td>sc2xen</td>\n",
       "      <td>2</td>\n",
       "      <td>17</td>\n",
       "    </tr>\n",
       "    <tr>\n",
       "      <th>194325</th>\n",
       "      <td>sc2xen</td>\n",
       "      <td>7</td>\n",
       "      <td>17</td>\n",
       "    </tr>\n",
       "    <tr>\n",
       "      <th>194326</th>\n",
       "      <td>sc2xen</td>\n",
       "      <td>4</td>\n",
       "      <td>7</td>\n",
       "    </tr>\n",
       "    <tr>\n",
       "      <th>194327</th>\n",
       "      <td>sc2xen</td>\n",
       "      <td>4</td>\n",
       "      <td>10</td>\n",
       "    </tr>\n",
       "  </tbody>\n",
       "</table>\n",
       "<p>28924 rows × 3 columns</p>\n",
       "</div>"
      ],
      "text/plain": [
       "          type  cell_type  clone\n",
       "node1                           \n",
       "613     sc2xen          0     17\n",
       "635     sc2xen          1      1\n",
       "3236    sc2xen          2     17\n",
       "3348    sc2xen          0     17\n",
       "3356    sc2xen          3     17\n",
       "...        ...        ...    ...\n",
       "194323  sc2xen          0     17\n",
       "194324  sc2xen          2     17\n",
       "194325  sc2xen          7     17\n",
       "194326  sc2xen          4      7\n",
       "194327  sc2xen          4     10\n",
       "\n",
       "[28924 rows x 3 columns]"
      ]
     },
     "execution_count": 229,
     "metadata": {},
     "output_type": "execute_result"
    }
   ],
   "source": [
    "nodes_atr[nodes_atr[\"type\"] == \"sc2xen\"]"
   ]
  },
  {
   "cell_type": "code",
   "execution_count": 230,
   "metadata": {},
   "outputs": [],
   "source": [
    "features = features.join(nodes_atr)"
   ]
  },
  {
   "cell_type": "code",
   "execution_count": 231,
   "metadata": {},
   "outputs": [],
   "source": [
    "features.clone = features.clone.fillna(-1)"
   ]
  },
  {
   "cell_type": "code",
   "execution_count": 232,
   "metadata": {},
   "outputs": [],
   "source": [
    "features.cell_type = features.cell_type.fillna(-1)"
   ]
  },
  {
   "cell_type": "code",
   "execution_count": 233,
   "metadata": {},
   "outputs": [
    {
     "data": {
      "text/html": [
       "<div>\n",
       "<style scoped>\n",
       "    .dataframe tbody tr th:only-of-type {\n",
       "        vertical-align: middle;\n",
       "    }\n",
       "\n",
       "    .dataframe tbody tr th {\n",
       "        vertical-align: top;\n",
       "    }\n",
       "\n",
       "    .dataframe thead th {\n",
       "        text-align: right;\n",
       "    }\n",
       "</style>\n",
       "<table border=\"1\" class=\"dataframe\">\n",
       "  <thead>\n",
       "    <tr style=\"text-align: right;\">\n",
       "      <th></th>\n",
       "      <th>0</th>\n",
       "      <th>1</th>\n",
       "      <th>type</th>\n",
       "      <th>cell_type</th>\n",
       "      <th>clone</th>\n",
       "    </tr>\n",
       "  </thead>\n",
       "  <tbody>\n",
       "    <tr>\n",
       "      <th>0</th>\n",
       "      <td>0.747124</td>\n",
       "      <td>0.243280</td>\n",
       "      <td>NaN</td>\n",
       "      <td>-1.0</td>\n",
       "      <td>-1.0</td>\n",
       "    </tr>\n",
       "    <tr>\n",
       "      <th>1</th>\n",
       "      <td>0.821959</td>\n",
       "      <td>0.419919</td>\n",
       "      <td>NaN</td>\n",
       "      <td>-1.0</td>\n",
       "      <td>-1.0</td>\n",
       "    </tr>\n",
       "    <tr>\n",
       "      <th>2</th>\n",
       "      <td>0.453010</td>\n",
       "      <td>0.237194</td>\n",
       "      <td>NaN</td>\n",
       "      <td>-1.0</td>\n",
       "      <td>-1.0</td>\n",
       "    </tr>\n",
       "    <tr>\n",
       "      <th>3</th>\n",
       "      <td>0.977938</td>\n",
       "      <td>0.125345</td>\n",
       "      <td>NaN</td>\n",
       "      <td>-1.0</td>\n",
       "      <td>-1.0</td>\n",
       "    </tr>\n",
       "    <tr>\n",
       "      <th>4</th>\n",
       "      <td>0.542644</td>\n",
       "      <td>0.224116</td>\n",
       "      <td>NaN</td>\n",
       "      <td>-1.0</td>\n",
       "      <td>-1.0</td>\n",
       "    </tr>\n",
       "    <tr>\n",
       "      <th>...</th>\n",
       "      <td>...</td>\n",
       "      <td>...</td>\n",
       "      <td>...</td>\n",
       "      <td>...</td>\n",
       "      <td>...</td>\n",
       "    </tr>\n",
       "    <tr>\n",
       "      <th>194323</th>\n",
       "      <td>-0.862637</td>\n",
       "      <td>1.086466</td>\n",
       "      <td>sc2xen</td>\n",
       "      <td>0.0</td>\n",
       "      <td>17.0</td>\n",
       "    </tr>\n",
       "    <tr>\n",
       "      <th>194324</th>\n",
       "      <td>0.568115</td>\n",
       "      <td>1.324937</td>\n",
       "      <td>sc2xen</td>\n",
       "      <td>2.0</td>\n",
       "      <td>17.0</td>\n",
       "    </tr>\n",
       "    <tr>\n",
       "      <th>194325</th>\n",
       "      <td>-0.895562</td>\n",
       "      <td>1.305892</td>\n",
       "      <td>sc2xen</td>\n",
       "      <td>7.0</td>\n",
       "      <td>17.0</td>\n",
       "    </tr>\n",
       "    <tr>\n",
       "      <th>194326</th>\n",
       "      <td>1.481940</td>\n",
       "      <td>0.205432</td>\n",
       "      <td>sc2xen</td>\n",
       "      <td>4.0</td>\n",
       "      <td>7.0</td>\n",
       "    </tr>\n",
       "    <tr>\n",
       "      <th>194327</th>\n",
       "      <td>1.215199</td>\n",
       "      <td>0.726053</td>\n",
       "      <td>sc2xen</td>\n",
       "      <td>4.0</td>\n",
       "      <td>10.0</td>\n",
       "    </tr>\n",
       "  </tbody>\n",
       "</table>\n",
       "<p>194328 rows × 5 columns</p>\n",
       "</div>"
      ],
      "text/plain": [
       "               0         1    type  cell_type  clone\n",
       "0       0.747124  0.243280     NaN       -1.0   -1.0\n",
       "1       0.821959  0.419919     NaN       -1.0   -1.0\n",
       "2       0.453010  0.237194     NaN       -1.0   -1.0\n",
       "3       0.977938  0.125345     NaN       -1.0   -1.0\n",
       "4       0.542644  0.224116     NaN       -1.0   -1.0\n",
       "...          ...       ...     ...        ...    ...\n",
       "194323 -0.862637  1.086466  sc2xen        0.0   17.0\n",
       "194324  0.568115  1.324937  sc2xen        2.0   17.0\n",
       "194325 -0.895562  1.305892  sc2xen        7.0   17.0\n",
       "194326  1.481940  0.205432  sc2xen        4.0    7.0\n",
       "194327  1.215199  0.726053  sc2xen        4.0   10.0\n",
       "\n",
       "[194328 rows x 5 columns]"
      ]
     },
     "execution_count": 233,
     "metadata": {},
     "output_type": "execute_result"
    }
   ],
   "source": [
    "features"
   ]
  },
  {
   "cell_type": "code",
   "execution_count": 234,
   "metadata": {},
   "outputs": [],
   "source": [
    "y_clone = torch.tensor(features.clone.values,dtype=torch.long)\n"
   ]
  },
  {
   "cell_type": "code",
   "execution_count": 235,
   "metadata": {},
   "outputs": [],
   "source": [
    "y_type = torch.tensor(features.cell_type.values,dtype=torch.long)"
   ]
  },
  {
   "cell_type": "code",
   "execution_count": 236,
   "metadata": {},
   "outputs": [
    {
     "data": {
      "text/plain": [
       "tensor([-1,  0,  1,  2,  3,  4,  5,  6,  7,  8,  9, 10, 11, 12, 13, 14, 15, 16,\n",
       "        17, 18, 19])"
      ]
     },
     "execution_count": 236,
     "metadata": {},
     "output_type": "execute_result"
    }
   ],
   "source": [
    "y_type.unique()"
   ]
  },
  {
   "cell_type": "code",
   "execution_count": 237,
   "metadata": {},
   "outputs": [
    {
     "data": {
      "text/plain": [
       "tensor([-1,  0,  1,  2,  3,  4,  5,  6,  7,  8,  9, 10, 11, 12, 13, 14, 15, 16,\n",
       "        17])"
      ]
     },
     "execution_count": 237,
     "metadata": {},
     "output_type": "execute_result"
    }
   ],
   "source": [
    "y_clone.unique()"
   ]
  },
  {
   "cell_type": "code",
   "execution_count": 238,
   "metadata": {},
   "outputs": [],
   "source": [
    "data = Data(x=x, edge_index=edge_index, y_clone = y_clone,y_type = y_type, \n",
    "edge_type = edges.type.values, edge_attr = edge_weight)"
   ]
  },
  {
   "cell_type": "code",
   "execution_count": 239,
   "metadata": {},
   "outputs": [
    {
     "data": {
      "text/plain": [
       "True"
      ]
     },
     "execution_count": 239,
     "metadata": {},
     "output_type": "execute_result"
    }
   ],
   "source": [
    "data.validate(raise_on_error=True)\n"
   ]
  },
  {
   "cell_type": "code",
   "execution_count": 240,
   "metadata": {},
   "outputs": [],
   "source": [
    "full_dict = {}\n",
    "full_dict[\"nodes\"] = node_encoder\n",
    "full_dict[\"clones\"] = clone_dict\n",
    "full_dict[\"types\"] = type_dict\n"
   ]
  },
  {
   "cell_type": "code",
   "execution_count": 241,
   "metadata": {},
   "outputs": [],
   "source": [
    "\n",
    "    torch.save(data, f\"../data/processed/data_xen{d}.pt\")\n",
    "    with open(f'../data/processed/full_encoding_xen{d}.pkl', 'wb') as fp:\n",
    "        pickle.dump(full_dict, fp)"
   ]
  },
  {
   "cell_type": "code",
   "execution_count": null,
   "metadata": {},
   "outputs": [],
   "source": []
  }
 ],
 "metadata": {
  "kernelspec": {
   "display_name": "Python 3 (ipykernel)",
   "language": "python",
   "name": "python3"
  },
  "language_info": {
   "codemirror_mode": {
    "name": "ipython",
    "version": 3
   },
   "file_extension": ".py",
   "mimetype": "text/x-python",
   "name": "python",
   "nbconvert_exporter": "python",
   "pygments_lexer": "ipython3",
   "version": "3.10.11"
  }
 },
 "nbformat": 4,
 "nbformat_minor": 4
}
