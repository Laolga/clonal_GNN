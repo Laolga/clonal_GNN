{
 "cells": [
  {
   "cell_type": "code",
   "execution_count": 2,
   "metadata": {},
   "outputs": [],
   "source": [
    "import scanpy as sc\n",
    "import pandas as pd\n",
    "import matplotlib.pyplot as plt\n",
    "import seaborn as sns\n",
    "import numpy as np\n",
    "from tqdm import tqdm\n"
   ]
  },
  {
   "cell_type": "code",
   "execution_count": 3,
   "metadata": {},
   "outputs": [],
   "source": [
    "    import tangram as tg\n"
   ]
  },
  {
   "cell_type": "code",
   "execution_count": 4,
   "metadata": {},
   "outputs": [],
   "source": [
    "path = \"../data/raw/visium/\"\n",
    "visium = sc.read_visium(path, genome=None, count_file='CytAssist_FFPE_Human_Breast_Cancer_filtered_feature_bc_matrix.h5',\n",
    "                        library_id=None, load_images=True, source_image_path=None)\n",
    "visium.var_names_make_unique()"
   ]
  },
  {
   "cell_type": "code",
   "execution_count": 5,
   "metadata": {},
   "outputs": [],
   "source": [
    "adata_seq = sc.read_h5ad(\"../data/interim/scrna.h5ad\")"
   ]
  },
  {
   "cell_type": "code",
   "execution_count": 6,
   "metadata": {},
   "outputs": [],
   "source": [
    "adata_seq.obs.drop(columns = [\"celltype_major\",\"celltype_minor\"], inplace = True)"
   ]
  },
  {
   "cell_type": "code",
   "execution_count": 7,
   "metadata": {},
   "outputs": [],
   "source": [
    "cell_types = pd.read_csv(\"../data/interim/cell_types.csv\", index_col = 2, sep = \";\")"
   ]
  },
  {
   "cell_type": "code",
   "execution_count": 8,
   "metadata": {},
   "outputs": [],
   "source": [
    "adata_seq.obs = adata_seq.obs.join(cell_types[[\"celltype_major\",\"celltype_minor\"]])"
   ]
  },
  {
   "cell_type": "code",
   "execution_count": 9,
   "metadata": {},
   "outputs": [],
   "source": [
    "adata_seq = adata_seq.raw.to_adata()"
   ]
  },
  {
   "cell_type": "code",
   "execution_count": 10,
   "metadata": {},
   "outputs": [],
   "source": [
    "adata_seq.X.data = np.exp(adata_seq.X.data) - 1\n"
   ]
  },
  {
   "cell_type": "code",
   "execution_count": 11,
   "metadata": {},
   "outputs": [],
   "source": [
    "adata_seq.X = adata_seq.X.multiply(adata_seq.obs.nCount_RNA.to_numpy()[:, np.newaxis]).tocsr()\n",
    "adata_seq.X = np.round(adata_seq.X / 1e4)"
   ]
  },
  {
   "cell_type": "code",
   "execution_count": 12,
   "metadata": {},
   "outputs": [],
   "source": [
    "adata_seq.obs.index = adata_seq.obs.index.str.replace(\".\", \"-\")"
   ]
  },
  {
   "cell_type": "code",
   "execution_count": 13,
   "metadata": {},
   "outputs": [],
   "source": [
    "adata_seq.var_names_make_unique()\n"
   ]
  },
  {
   "cell_type": "code",
   "execution_count": 14,
   "metadata": {},
   "outputs": [
    {
     "data": {
      "text/plain": [
       "AnnData object with n_obs × n_vars = 29891 × 16969\n",
       "    obs: 'barcode', 'orig.ident', 'nCount_RNA', 'nFeature_RNA', 'percent.MT', 'percent.Ribosomal', 'RNA_snn_res.0.5', 'seurat_clusters', 'celltype_major', 'celltype_minor'\n",
       "    var: 'vst.mean', 'vst.variance', 'vst.variance.expected', 'vst.variance.standardized', 'vst.variable'\n",
       "    uns: 'neighbors'\n",
       "    obsm: 'X_pca', 'X_umap'\n",
       "    obsp: 'distances'"
      ]
     },
     "execution_count": 14,
     "metadata": {},
     "output_type": "execute_result"
    }
   ],
   "source": [
    "adata_seq"
   ]
  },
  {
   "cell_type": "code",
   "execution_count": 15,
   "metadata": {},
   "outputs": [
    {
     "name": "stderr",
     "output_type": "stream",
     "text": [
      "INFO:root:16960 training genes are saved in `uns``training_genes` of both single cell and spatial Anndatas.\n",
      "INFO:root:16960 overlapped genes are saved in `uns``overlap_genes` of both single cell and spatial Anndatas.\n",
      "INFO:root:uniform based density prior is calculated and saved in `obs``uniform_density` of the spatial Anndata.\n",
      "INFO:root:rna count based density prior is calculated and saved in `obs``rna_count_based_density` of the spatial Anndata.\n"
     ]
    }
   ],
   "source": [
    "    tg.pp_adatas(adata_seq, visium, genes=None)\n"
   ]
  },
  {
   "cell_type": "code",
   "execution_count": 16,
   "metadata": {},
   "outputs": [
    {
     "name": "stderr",
     "output_type": "stream",
     "text": [
      "INFO:root:Allocate tensors for mapping.\n",
      "INFO:root:Begin training with 16960 genes and rna_count_based density_prior in cells mode...\n",
      "INFO:root:Printing scores every 100 epochs.\n"
     ]
    },
    {
     "name": "stdout",
     "output_type": "stream",
     "text": [
      "Score: 0.441, KL reg: 0.449\n",
      "Score: 0.725, KL reg: 0.001\n",
      "Score: 0.744, KL reg: 0.001\n",
      "Score: 0.751, KL reg: 0.000\n",
      "Score: 0.755, KL reg: 0.000\n",
      "Score: 0.757, KL reg: 0.000\n",
      "Score: 0.758, KL reg: 0.000\n",
      "Score: 0.759, KL reg: 0.000\n",
      "Score: 0.760, KL reg: 0.000\n",
      "Score: 0.761, KL reg: 0.000\n"
     ]
    },
    {
     "name": "stderr",
     "output_type": "stream",
     "text": [
      "INFO:root:Saving results..\n"
     ]
    }
   ],
   "source": [
    "    ad_map = tg.map_cells_to_space(adata_seq, visium)\n"
   ]
  },
  {
   "cell_type": "code",
   "execution_count": 17,
   "metadata": {},
   "outputs": [],
   "source": [
    "    ad_ge = tg.project_genes(ad_map, adata_seq)\n"
   ]
  },
  {
   "cell_type": "code",
   "execution_count": 26,
   "metadata": {},
   "outputs": [
    {
     "data": {
      "text/plain": [
       "AnnData object with n_obs × n_vars = 4992 × 16969\n",
       "    obs: 'in_tissue', 'array_row', 'array_col', 'uniform_density', 'rna_count_based_density'\n",
       "    var: 'vst.mean', 'vst.variance', 'vst.variance.expected', 'vst.variance.standardized', 'vst.variable', 'n_cells', 'sparsity', 'is_training'\n",
       "    uns: 'neighbors', 'training_genes', 'overlap_genes'"
      ]
     },
     "execution_count": 26,
     "metadata": {},
     "output_type": "execute_result"
    }
   ],
   "source": [
    "ad_ge"
   ]
  },
  {
   "cell_type": "code",
   "execution_count": 34,
   "metadata": {},
   "outputs": [],
   "source": [
    "cell2spot = ad_map.X"
   ]
  },
  {
   "cell_type": "code",
   "execution_count": 40,
   "metadata": {},
   "outputs": [],
   "source": [
    "spot_ids = np.argmax(cell2spot, axis = 1)\n",
    "spots = visium.obs_names[spot_ids]"
   ]
  },
  {
   "cell_type": "code",
   "execution_count": 41,
   "metadata": {},
   "outputs": [
    {
     "data": {
      "text/plain": [
       "Index(['AGTTAGAAGGACGAAT-1', 'AAGCAGTGGCATCACT-1', 'TGGAAGCTCCATCGAC-1',\n",
       "       'GTACAGTATCGGAATT-1', 'CGCACGCATAATGGTG-1', 'GCTGTTATGGTTGCCG-1',\n",
       "       'TCGGCGCTATCACGTG-1', 'GGTCTTGATTCAACCT-1', 'TCGCCTGCACGGAAGG-1',\n",
       "       'CGATGCCGACCGTGAC-1',\n",
       "       ...\n",
       "       'TGATCTTGCCTATTGT-1', 'GCGGTGGACATCAATC-1', 'TGGTGCGAATCCTGCT-1',\n",
       "       'TCTGTCACCGTTAATA-1', 'GTACGAAGGCGTCTAT-1', 'GAGTCGAGCGTGCTTC-1',\n",
       "       'AGCTTGGATGCAAGCC-1', 'ACAGTCACAATATTAG-1', 'TAATTGATTCTGTCGC-1',\n",
       "       'GGACCATCACCGCCAA-1'],\n",
       "      dtype='object', length=29891)"
      ]
     },
     "execution_count": 41,
     "metadata": {},
     "output_type": "execute_result"
    }
   ],
   "source": [
    "spots"
   ]
  },
  {
   "cell_type": "code",
   "execution_count": 52,
   "metadata": {},
   "outputs": [],
   "source": [
    "cts = list(adata_seq.obs.celltype_major.unique())"
   ]
  },
  {
   "cell_type": "code",
   "execution_count": 66,
   "metadata": {},
   "outputs": [],
   "source": [
    "unique_spots = list(set(spots))"
   ]
  },
  {
   "cell_type": "code",
   "execution_count": 68,
   "metadata": {},
   "outputs": [],
   "source": [
    "spot_composition = np.zeros((len(unique_spots), len(cts)))\n",
    "for i, spot in enumerate(spots):\n",
    "    ct = adata_seq.obs.iloc[i].celltype_major\n",
    "    spot_composition[unique_spots.index(spot),cts.index(ct)] +=1\n"
   ]
  },
  {
   "cell_type": "code",
   "execution_count": 70,
   "metadata": {},
   "outputs": [],
   "source": [
    "pd.DataFrame(spot_composition, index = unique_spots, columns = cts).to_csv(\"../data/interim/tangram.csv\")"
   ]
  },
  {
   "cell_type": "code",
   "execution_count": 72,
   "metadata": {},
   "outputs": [],
   "source": [
    "spot_composition = pd.DataFrame(spot_composition, index = unique_spots, columns = cts)"
   ]
  },
  {
   "cell_type": "code",
   "execution_count": 73,
   "metadata": {},
   "outputs": [
    {
     "data": {
      "text/html": [
       "<div>\n",
       "<style scoped>\n",
       "    .dataframe tbody tr th:only-of-type {\n",
       "        vertical-align: middle;\n",
       "    }\n",
       "\n",
       "    .dataframe tbody tr th {\n",
       "        vertical-align: top;\n",
       "    }\n",
       "\n",
       "    .dataframe thead th {\n",
       "        text-align: right;\n",
       "    }\n",
       "</style>\n",
       "<table border=\"1\" class=\"dataframe\">\n",
       "  <thead>\n",
       "    <tr style=\"text-align: right;\">\n",
       "      <th></th>\n",
       "      <th>Myeloid</th>\n",
       "      <th>Cancer Epithelial</th>\n",
       "      <th>PVL</th>\n",
       "      <th>Normal Epithelial</th>\n",
       "      <th>T.cells</th>\n",
       "      <th>CAFs</th>\n",
       "      <th>Endothelial</th>\n",
       "      <th>NaN</th>\n",
       "      <th>B.cells</th>\n",
       "      <th>Plasmablasts</th>\n",
       "    </tr>\n",
       "  </thead>\n",
       "  <tbody>\n",
       "    <tr>\n",
       "      <th>CTCGTGTCTTGGCCGC-1</th>\n",
       "      <td>0.0</td>\n",
       "      <td>0.0</td>\n",
       "      <td>0.0</td>\n",
       "      <td>1.0</td>\n",
       "      <td>0.0</td>\n",
       "      <td>1.0</td>\n",
       "      <td>0.0</td>\n",
       "      <td>0.0</td>\n",
       "      <td>0.0</td>\n",
       "      <td>0.0</td>\n",
       "    </tr>\n",
       "    <tr>\n",
       "      <th>ATCTGCCGTCTACAGC-1</th>\n",
       "      <td>1.0</td>\n",
       "      <td>4.0</td>\n",
       "      <td>1.0</td>\n",
       "      <td>2.0</td>\n",
       "      <td>2.0</td>\n",
       "      <td>0.0</td>\n",
       "      <td>1.0</td>\n",
       "      <td>1.0</td>\n",
       "      <td>2.0</td>\n",
       "      <td>0.0</td>\n",
       "    </tr>\n",
       "    <tr>\n",
       "      <th>CGACTTCACTCGGCAT-1</th>\n",
       "      <td>6.0</td>\n",
       "      <td>0.0</td>\n",
       "      <td>0.0</td>\n",
       "      <td>0.0</td>\n",
       "      <td>3.0</td>\n",
       "      <td>2.0</td>\n",
       "      <td>1.0</td>\n",
       "      <td>0.0</td>\n",
       "      <td>0.0</td>\n",
       "      <td>0.0</td>\n",
       "    </tr>\n",
       "    <tr>\n",
       "      <th>AATGGCATAGTATCAT-1</th>\n",
       "      <td>0.0</td>\n",
       "      <td>0.0</td>\n",
       "      <td>0.0</td>\n",
       "      <td>0.0</td>\n",
       "      <td>0.0</td>\n",
       "      <td>4.0</td>\n",
       "      <td>0.0</td>\n",
       "      <td>0.0</td>\n",
       "      <td>0.0</td>\n",
       "      <td>0.0</td>\n",
       "    </tr>\n",
       "    <tr>\n",
       "      <th>TCCTGATAAGTGCCGT-1</th>\n",
       "      <td>0.0</td>\n",
       "      <td>0.0</td>\n",
       "      <td>0.0</td>\n",
       "      <td>0.0</td>\n",
       "      <td>1.0</td>\n",
       "      <td>1.0</td>\n",
       "      <td>0.0</td>\n",
       "      <td>0.0</td>\n",
       "      <td>0.0</td>\n",
       "      <td>2.0</td>\n",
       "    </tr>\n",
       "    <tr>\n",
       "      <th>...</th>\n",
       "      <td>...</td>\n",
       "      <td>...</td>\n",
       "      <td>...</td>\n",
       "      <td>...</td>\n",
       "      <td>...</td>\n",
       "      <td>...</td>\n",
       "      <td>...</td>\n",
       "      <td>...</td>\n",
       "      <td>...</td>\n",
       "      <td>...</td>\n",
       "    </tr>\n",
       "    <tr>\n",
       "      <th>ATAGTCCGCCGTTGGC-1</th>\n",
       "      <td>1.0</td>\n",
       "      <td>0.0</td>\n",
       "      <td>0.0</td>\n",
       "      <td>0.0</td>\n",
       "      <td>0.0</td>\n",
       "      <td>1.0</td>\n",
       "      <td>0.0</td>\n",
       "      <td>0.0</td>\n",
       "      <td>0.0</td>\n",
       "      <td>0.0</td>\n",
       "    </tr>\n",
       "    <tr>\n",
       "      <th>ACCATTAGATCGTGGC-1</th>\n",
       "      <td>0.0</td>\n",
       "      <td>0.0</td>\n",
       "      <td>0.0</td>\n",
       "      <td>0.0</td>\n",
       "      <td>1.0</td>\n",
       "      <td>0.0</td>\n",
       "      <td>0.0</td>\n",
       "      <td>0.0</td>\n",
       "      <td>0.0</td>\n",
       "      <td>0.0</td>\n",
       "    </tr>\n",
       "    <tr>\n",
       "      <th>AAGGTTCATGCGGTGC-1</th>\n",
       "      <td>0.0</td>\n",
       "      <td>0.0</td>\n",
       "      <td>0.0</td>\n",
       "      <td>0.0</td>\n",
       "      <td>1.0</td>\n",
       "      <td>0.0</td>\n",
       "      <td>0.0</td>\n",
       "      <td>0.0</td>\n",
       "      <td>0.0</td>\n",
       "      <td>0.0</td>\n",
       "    </tr>\n",
       "    <tr>\n",
       "      <th>ATCCGTTATCGAAGGC-1</th>\n",
       "      <td>1.0</td>\n",
       "      <td>1.0</td>\n",
       "      <td>0.0</td>\n",
       "      <td>0.0</td>\n",
       "      <td>0.0</td>\n",
       "      <td>1.0</td>\n",
       "      <td>0.0</td>\n",
       "      <td>0.0</td>\n",
       "      <td>0.0</td>\n",
       "      <td>1.0</td>\n",
       "    </tr>\n",
       "    <tr>\n",
       "      <th>AACTAGCATCACGTAC-1</th>\n",
       "      <td>0.0</td>\n",
       "      <td>0.0</td>\n",
       "      <td>0.0</td>\n",
       "      <td>0.0</td>\n",
       "      <td>2.0</td>\n",
       "      <td>0.0</td>\n",
       "      <td>0.0</td>\n",
       "      <td>0.0</td>\n",
       "      <td>0.0</td>\n",
       "      <td>0.0</td>\n",
       "    </tr>\n",
       "  </tbody>\n",
       "</table>\n",
       "<p>4135 rows × 10 columns</p>\n",
       "</div>"
      ],
      "text/plain": [
       "                    Myeloid  Cancer Epithelial  PVL  Normal Epithelial  \\\n",
       "CTCGTGTCTTGGCCGC-1      0.0                0.0  0.0                1.0   \n",
       "ATCTGCCGTCTACAGC-1      1.0                4.0  1.0                2.0   \n",
       "CGACTTCACTCGGCAT-1      6.0                0.0  0.0                0.0   \n",
       "AATGGCATAGTATCAT-1      0.0                0.0  0.0                0.0   \n",
       "TCCTGATAAGTGCCGT-1      0.0                0.0  0.0                0.0   \n",
       "...                     ...                ...  ...                ...   \n",
       "ATAGTCCGCCGTTGGC-1      1.0                0.0  0.0                0.0   \n",
       "ACCATTAGATCGTGGC-1      0.0                0.0  0.0                0.0   \n",
       "AAGGTTCATGCGGTGC-1      0.0                0.0  0.0                0.0   \n",
       "ATCCGTTATCGAAGGC-1      1.0                1.0  0.0                0.0   \n",
       "AACTAGCATCACGTAC-1      0.0                0.0  0.0                0.0   \n",
       "\n",
       "                    T.cells  CAFs  Endothelial  NaN  B.cells  Plasmablasts  \n",
       "CTCGTGTCTTGGCCGC-1      0.0   1.0          0.0  0.0      0.0           0.0  \n",
       "ATCTGCCGTCTACAGC-1      2.0   0.0          1.0  1.0      2.0           0.0  \n",
       "CGACTTCACTCGGCAT-1      3.0   2.0          1.0  0.0      0.0           0.0  \n",
       "AATGGCATAGTATCAT-1      0.0   4.0          0.0  0.0      0.0           0.0  \n",
       "TCCTGATAAGTGCCGT-1      1.0   1.0          0.0  0.0      0.0           2.0  \n",
       "...                     ...   ...          ...  ...      ...           ...  \n",
       "ATAGTCCGCCGTTGGC-1      0.0   1.0          0.0  0.0      0.0           0.0  \n",
       "ACCATTAGATCGTGGC-1      1.0   0.0          0.0  0.0      0.0           0.0  \n",
       "AAGGTTCATGCGGTGC-1      1.0   0.0          0.0  0.0      0.0           0.0  \n",
       "ATCCGTTATCGAAGGC-1      0.0   1.0          0.0  0.0      0.0           1.0  \n",
       "AACTAGCATCACGTAC-1      2.0   0.0          0.0  0.0      0.0           0.0  \n",
       "\n",
       "[4135 rows x 10 columns]"
      ]
     },
     "execution_count": 73,
     "metadata": {},
     "output_type": "execute_result"
    }
   ],
   "source": [
    "spot_composition"
   ]
  },
  {
   "cell_type": "code",
   "execution_count": null,
   "metadata": {},
   "outputs": [],
   "source": []
  }
 ],
 "metadata": {
  "kernelspec": {
   "display_name": "torch_gnn",
   "language": "python",
   "name": "python3"
  },
  "language_info": {
   "codemirror_mode": {
    "name": "ipython",
    "version": 3
   },
   "file_extension": ".py",
   "mimetype": "text/x-python",
   "name": "python",
   "nbconvert_exporter": "python",
   "pygments_lexer": "ipython3",
   "version": "3.10.11"
  },
  "orig_nbformat": 4
 },
 "nbformat": 4,
 "nbformat_minor": 2
}
