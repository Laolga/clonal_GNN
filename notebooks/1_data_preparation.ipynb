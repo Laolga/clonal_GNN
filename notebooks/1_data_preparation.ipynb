{
 "cells": [
  {
   "cell_type": "code",
   "execution_count": 1,
   "metadata": {},
   "outputs": [
    {
     "name": "stderr",
     "output_type": "stream",
     "text": [
      "/omics/groups/OE0540/internal/B260/users/olga/.conda/envs/torch_geo/lib/python3.8/site-packages/tqdm/auto.py:22: TqdmWarning: IProgress not found. Please update jupyter and ipywidgets. See https://ipywidgets.readthedocs.io/en/stable/user_install.html\n",
      "  from .autonotebook import tqdm as notebook_tqdm\n",
      "/omics/groups/OE0540/internal/B260/users/olga/.conda/envs/torch_geo/lib/python3.8/site-packages/requests/__init__.py:109: RequestsDependencyWarning: urllib3 (1.26.13) or chardet (None)/charset_normalizer (3.1.0) doesn't match a supported version!\n",
      "  warnings.warn(\n",
      "Global seed set to 0\n",
      "/omics/groups/OE0540/internal/B260/users/olga/.conda/envs/torch_geo/lib/python3.8/site-packages/flax/struct.py:132: FutureWarning: jax.tree_util.register_keypaths is deprecated, and will be removed in a future release. Please use `register_pytree_with_keys()` instead.\n",
      "  jax.tree_util.register_keypaths(data_clz, keypaths)\n",
      "/omics/groups/OE0540/internal/B260/users/olga/.conda/envs/torch_geo/lib/python3.8/site-packages/flax/struct.py:132: FutureWarning: jax.tree_util.register_keypaths is deprecated, and will be removed in a future release. Please use `register_pytree_with_keys()` instead.\n",
      "  jax.tree_util.register_keypaths(data_clz, keypaths)\n"
     ]
    }
   ],
   "source": [
    "import scanpy as sc\n",
    "import pandas as pd\n",
    "import matplotlib.pyplot as plt\n",
    "import seaborn as sns\n",
    "import numpy as np\n",
    "from sklearn.neighbors import kneighbors_graph\n",
    "from tqdm import tqdm\n",
    "from scipy.spatial import distance\n",
    "import scvi\n"
   ]
  },
  {
   "cell_type": "markdown",
   "metadata": {},
   "source": [
    "# 0. Coembedding with scvi"
   ]
  },
  {
   "cell_type": "code",
   "execution_count": 14,
   "metadata": {},
   "outputs": [
    {
     "name": "stderr",
     "output_type": "stream",
     "text": [
      "/home/o313a/.local/lib/python3.8/site-packages/anndata/_core/anndata.py:1832: UserWarning: Variable names are not unique. To make them unique, call `.var_names_make_unique`.\n",
      "  utils.warn_names_duplicates(\"var\")\n"
     ]
    }
   ],
   "source": [
    "path = \"../data/raw/visium/\"\n",
    "visium = sc.read_visium(path, genome=None, count_file='CytAssist_FFPE_Human_Breast_Cancer_filtered_feature_bc_matrix.h5',\n",
    "                        library_id=None, load_images=True, source_image_path=None)\n",
    "visium.var_names_make_unique()"
   ]
  },
  {
   "cell_type": "code",
   "execution_count": 94,
   "metadata": {},
   "outputs": [
    {
     "name": "stderr",
     "output_type": "stream",
     "text": [
      "/home/o313a/.local/lib/python3.8/site-packages/anndata/compat/__init__.py:229: FutureWarning: Moving element from .uns['neighbors']['distances'] to .obsp['distances'].\n",
      "\n",
      "This is where adjacency matrices should go now.\n",
      "  warn(\n"
     ]
    }
   ],
   "source": [
    "adata_seq = sc.read_h5ad(\"../data/interim/scrna.h5ad\")"
   ]
  },
  {
   "cell_type": "code",
   "execution_count": 95,
   "metadata": {},
   "outputs": [
    {
     "data": {
      "text/html": [
       "<div>\n",
       "<style scoped>\n",
       "    .dataframe tbody tr th:only-of-type {\n",
       "        vertical-align: middle;\n",
       "    }\n",
       "\n",
       "    .dataframe tbody tr th {\n",
       "        vertical-align: top;\n",
       "    }\n",
       "\n",
       "    .dataframe thead th {\n",
       "        text-align: right;\n",
       "    }\n",
       "</style>\n",
       "<table border=\"1\" class=\"dataframe\">\n",
       "  <thead>\n",
       "    <tr style=\"text-align: right;\">\n",
       "      <th></th>\n",
       "      <th>barcode</th>\n",
       "      <th>orig.ident</th>\n",
       "      <th>nCount_RNA</th>\n",
       "      <th>nFeature_RNA</th>\n",
       "      <th>percent.MT</th>\n",
       "      <th>percent.Ribosomal</th>\n",
       "      <th>RNA_snn_res.0.5</th>\n",
       "      <th>seurat_clusters</th>\n",
       "      <th>celltype_major</th>\n",
       "      <th>celltype_minor</th>\n",
       "    </tr>\n",
       "  </thead>\n",
       "  <tbody>\n",
       "    <tr>\n",
       "      <th>AAACAAGCAAACGGGA.1</th>\n",
       "      <td>AAACAAGCAAACGGGA.1</td>\n",
       "      <td>0</td>\n",
       "      <td>1145.0</td>\n",
       "      <td>812</td>\n",
       "      <td>3.580786</td>\n",
       "      <td>0.0</td>\n",
       "      <td>1</td>\n",
       "      <td>1</td>\n",
       "      <td>4</td>\n",
       "      <td>18</td>\n",
       "    </tr>\n",
       "    <tr>\n",
       "      <th>AAACAAGCAAATAGGA.1</th>\n",
       "      <td>AAACAAGCAAATAGGA.1</td>\n",
       "      <td>0</td>\n",
       "      <td>8116.0</td>\n",
       "      <td>3975</td>\n",
       "      <td>2.402661</td>\n",
       "      <td>0.0</td>\n",
       "      <td>4</td>\n",
       "      <td>4</td>\n",
       "      <td>4</td>\n",
       "      <td>18</td>\n",
       "    </tr>\n",
       "    <tr>\n",
       "      <th>AAACAAGCAAATGACT.1</th>\n",
       "      <td>AAACAAGCAAATGACT.1</td>\n",
       "      <td>0</td>\n",
       "      <td>799.0</td>\n",
       "      <td>478</td>\n",
       "      <td>4.130163</td>\n",
       "      <td>0.0</td>\n",
       "      <td>7</td>\n",
       "      <td>7</td>\n",
       "      <td>2</td>\n",
       "      <td>8</td>\n",
       "    </tr>\n",
       "    <tr>\n",
       "      <th>AAACAAGCAACAAGTT.1</th>\n",
       "      <td>AAACAAGCAACAAGTT.1</td>\n",
       "      <td>0</td>\n",
       "      <td>1393.0</td>\n",
       "      <td>1104</td>\n",
       "      <td>1.507538</td>\n",
       "      <td>0.0</td>\n",
       "      <td>8</td>\n",
       "      <td>8</td>\n",
       "      <td>7</td>\n",
       "      <td>26</td>\n",
       "    </tr>\n",
       "    <tr>\n",
       "      <th>AAACAAGCAACCATTC.1</th>\n",
       "      <td>AAACAAGCAACCATTC.1</td>\n",
       "      <td>0</td>\n",
       "      <td>3811.0</td>\n",
       "      <td>2557</td>\n",
       "      <td>2.282865</td>\n",
       "      <td>0.0</td>\n",
       "      <td>9</td>\n",
       "      <td>9</td>\n",
       "      <td>5</td>\n",
       "      <td>21</td>\n",
       "    </tr>\n",
       "    <tr>\n",
       "      <th>...</th>\n",
       "      <td>...</td>\n",
       "      <td>...</td>\n",
       "      <td>...</td>\n",
       "      <td>...</td>\n",
       "      <td>...</td>\n",
       "      <td>...</td>\n",
       "      <td>...</td>\n",
       "      <td>...</td>\n",
       "      <td>...</td>\n",
       "      <td>...</td>\n",
       "    </tr>\n",
       "    <tr>\n",
       "      <th>TTTGTGAGTGGTTACT.1</th>\n",
       "      <td>TTTGTGAGTGGTTACT.1</td>\n",
       "      <td>0</td>\n",
       "      <td>3391.0</td>\n",
       "      <td>2278</td>\n",
       "      <td>3.184901</td>\n",
       "      <td>0.0</td>\n",
       "      <td>9</td>\n",
       "      <td>9</td>\n",
       "      <td>5</td>\n",
       "      <td>21</td>\n",
       "    </tr>\n",
       "    <tr>\n",
       "      <th>TTTGTGAGTGTTCCAG.1</th>\n",
       "      <td>TTTGTGAGTGTTCCAG.1</td>\n",
       "      <td>0</td>\n",
       "      <td>951.0</td>\n",
       "      <td>689</td>\n",
       "      <td>2.103049</td>\n",
       "      <td>0.0</td>\n",
       "      <td>1</td>\n",
       "      <td>1</td>\n",
       "      <td>1</td>\n",
       "      <td>3</td>\n",
       "    </tr>\n",
       "    <tr>\n",
       "      <th>TTTGTGAGTTACTTCT.1</th>\n",
       "      <td>TTTGTGAGTTACTTCT.1</td>\n",
       "      <td>0</td>\n",
       "      <td>14141.0</td>\n",
       "      <td>5360</td>\n",
       "      <td>4.858214</td>\n",
       "      <td>0.0</td>\n",
       "      <td>3</td>\n",
       "      <td>3</td>\n",
       "      <td>2</td>\n",
       "      <td>5</td>\n",
       "    </tr>\n",
       "    <tr>\n",
       "      <th>TTTGTGAGTTGTCATA.1</th>\n",
       "      <td>TTTGTGAGTTGTCATA.1</td>\n",
       "      <td>0</td>\n",
       "      <td>2870.0</td>\n",
       "      <td>1927</td>\n",
       "      <td>2.404181</td>\n",
       "      <td>0.0</td>\n",
       "      <td>6</td>\n",
       "      <td>6</td>\n",
       "      <td>2</td>\n",
       "      <td>8</td>\n",
       "    </tr>\n",
       "    <tr>\n",
       "      <th>TTTGTGAGTTTGGCCA.1</th>\n",
       "      <td>TTTGTGAGTTTGGCCA.1</td>\n",
       "      <td>0</td>\n",
       "      <td>2212.0</td>\n",
       "      <td>1605</td>\n",
       "      <td>0.180832</td>\n",
       "      <td>0.0</td>\n",
       "      <td>2</td>\n",
       "      <td>2</td>\n",
       "      <td>2</td>\n",
       "      <td>8</td>\n",
       "    </tr>\n",
       "  </tbody>\n",
       "</table>\n",
       "<p>29891 rows × 10 columns</p>\n",
       "</div>"
      ],
      "text/plain": [
       "                               barcode  orig.ident  nCount_RNA  nFeature_RNA   \n",
       "AAACAAGCAAACGGGA.1  AAACAAGCAAACGGGA.1           0      1145.0           812  \\\n",
       "AAACAAGCAAATAGGA.1  AAACAAGCAAATAGGA.1           0      8116.0          3975   \n",
       "AAACAAGCAAATGACT.1  AAACAAGCAAATGACT.1           0       799.0           478   \n",
       "AAACAAGCAACAAGTT.1  AAACAAGCAACAAGTT.1           0      1393.0          1104   \n",
       "AAACAAGCAACCATTC.1  AAACAAGCAACCATTC.1           0      3811.0          2557   \n",
       "...                                ...         ...         ...           ...   \n",
       "TTTGTGAGTGGTTACT.1  TTTGTGAGTGGTTACT.1           0      3391.0          2278   \n",
       "TTTGTGAGTGTTCCAG.1  TTTGTGAGTGTTCCAG.1           0       951.0           689   \n",
       "TTTGTGAGTTACTTCT.1  TTTGTGAGTTACTTCT.1           0     14141.0          5360   \n",
       "TTTGTGAGTTGTCATA.1  TTTGTGAGTTGTCATA.1           0      2870.0          1927   \n",
       "TTTGTGAGTTTGGCCA.1  TTTGTGAGTTTGGCCA.1           0      2212.0          1605   \n",
       "\n",
       "                    percent.MT  percent.Ribosomal  RNA_snn_res.0.5   \n",
       "AAACAAGCAAACGGGA.1    3.580786                0.0                1  \\\n",
       "AAACAAGCAAATAGGA.1    2.402661                0.0                4   \n",
       "AAACAAGCAAATGACT.1    4.130163                0.0                7   \n",
       "AAACAAGCAACAAGTT.1    1.507538                0.0                8   \n",
       "AAACAAGCAACCATTC.1    2.282865                0.0                9   \n",
       "...                        ...                ...              ...   \n",
       "TTTGTGAGTGGTTACT.1    3.184901                0.0                9   \n",
       "TTTGTGAGTGTTCCAG.1    2.103049                0.0                1   \n",
       "TTTGTGAGTTACTTCT.1    4.858214                0.0                3   \n",
       "TTTGTGAGTTGTCATA.1    2.404181                0.0                6   \n",
       "TTTGTGAGTTTGGCCA.1    0.180832                0.0                2   \n",
       "\n",
       "                    seurat_clusters  celltype_major  celltype_minor  \n",
       "AAACAAGCAAACGGGA.1                1               4              18  \n",
       "AAACAAGCAAATAGGA.1                4               4              18  \n",
       "AAACAAGCAAATGACT.1                7               2               8  \n",
       "AAACAAGCAACAAGTT.1                8               7              26  \n",
       "AAACAAGCAACCATTC.1                9               5              21  \n",
       "...                             ...             ...             ...  \n",
       "TTTGTGAGTGGTTACT.1                9               5              21  \n",
       "TTTGTGAGTGTTCCAG.1                1               1               3  \n",
       "TTTGTGAGTTACTTCT.1                3               2               5  \n",
       "TTTGTGAGTTGTCATA.1                6               2               8  \n",
       "TTTGTGAGTTTGGCCA.1                2               2               8  \n",
       "\n",
       "[29891 rows x 10 columns]"
      ]
     },
     "execution_count": 95,
     "metadata": {},
     "output_type": "execute_result"
    }
   ],
   "source": []
  },
  {
   "cell_type": "code",
   "execution_count": 5,
   "metadata": {},
   "outputs": [],
   "source": [
    "adata_seq = adata_seq.raw.to_adata()"
   ]
  },
  {
   "cell_type": "code",
   "execution_count": 6,
   "metadata": {},
   "outputs": [],
   "source": [
    "adata_seq.X.data = np.exp(adata_seq.X.data) - 1\n"
   ]
  },
  {
   "cell_type": "code",
   "execution_count": 7,
   "metadata": {},
   "outputs": [],
   "source": [
    "adata_seq.X = adata_seq.X.multiply(adata_seq.obs.nCount_RNA.to_numpy()[:, np.newaxis]).tocsr()\n",
    "adata_seq.X = np.round(adata_seq.X / 1e4)"
   ]
  },
  {
   "cell_type": "code",
   "execution_count": 8,
   "metadata": {},
   "outputs": [],
   "source": [
    "adata_seq.obs.index = adata_seq.obs.index.str.replace(\".\", \"-\")"
   ]
  },
  {
   "cell_type": "code",
   "execution_count": 9,
   "metadata": {},
   "outputs": [],
   "source": [
    "adata_seq.var_names_make_unique()\n"
   ]
  },
  {
   "cell_type": "code",
   "execution_count": 10,
   "metadata": {},
   "outputs": [
    {
     "data": {
      "text/html": [
       "<div>\n",
       "<style scoped>\n",
       "    .dataframe tbody tr th:only-of-type {\n",
       "        vertical-align: middle;\n",
       "    }\n",
       "\n",
       "    .dataframe tbody tr th {\n",
       "        vertical-align: top;\n",
       "    }\n",
       "\n",
       "    .dataframe thead th {\n",
       "        text-align: right;\n",
       "    }\n",
       "</style>\n",
       "<table border=\"1\" class=\"dataframe\">\n",
       "  <thead>\n",
       "    <tr style=\"text-align: right;\">\n",
       "      <th></th>\n",
       "      <th>gene_ids</th>\n",
       "      <th>feature_types</th>\n",
       "      <th>genome</th>\n",
       "    </tr>\n",
       "  </thead>\n",
       "  <tbody>\n",
       "    <tr>\n",
       "      <th>SAMD11</th>\n",
       "      <td>ENSG00000187634</td>\n",
       "      <td>Gene Expression</td>\n",
       "      <td>GRCh38</td>\n",
       "    </tr>\n",
       "    <tr>\n",
       "      <th>NOC2L</th>\n",
       "      <td>ENSG00000188976</td>\n",
       "      <td>Gene Expression</td>\n",
       "      <td>GRCh38</td>\n",
       "    </tr>\n",
       "    <tr>\n",
       "      <th>KLHL17</th>\n",
       "      <td>ENSG00000187961</td>\n",
       "      <td>Gene Expression</td>\n",
       "      <td>GRCh38</td>\n",
       "    </tr>\n",
       "    <tr>\n",
       "      <th>PLEKHN1</th>\n",
       "      <td>ENSG00000187583</td>\n",
       "      <td>Gene Expression</td>\n",
       "      <td>GRCh38</td>\n",
       "    </tr>\n",
       "    <tr>\n",
       "      <th>PERM1</th>\n",
       "      <td>ENSG00000187642</td>\n",
       "      <td>Gene Expression</td>\n",
       "      <td>GRCh38</td>\n",
       "    </tr>\n",
       "    <tr>\n",
       "      <th>...</th>\n",
       "      <td>...</td>\n",
       "      <td>...</td>\n",
       "      <td>...</td>\n",
       "    </tr>\n",
       "    <tr>\n",
       "      <th>MT-ND4L</th>\n",
       "      <td>ENSG00000212907</td>\n",
       "      <td>Gene Expression</td>\n",
       "      <td>GRCh38</td>\n",
       "    </tr>\n",
       "    <tr>\n",
       "      <th>MT-ND4</th>\n",
       "      <td>ENSG00000198886</td>\n",
       "      <td>Gene Expression</td>\n",
       "      <td>GRCh38</td>\n",
       "    </tr>\n",
       "    <tr>\n",
       "      <th>MT-ND5</th>\n",
       "      <td>ENSG00000198786</td>\n",
       "      <td>Gene Expression</td>\n",
       "      <td>GRCh38</td>\n",
       "    </tr>\n",
       "    <tr>\n",
       "      <th>MT-ND6</th>\n",
       "      <td>ENSG00000198695</td>\n",
       "      <td>Gene Expression</td>\n",
       "      <td>GRCh38</td>\n",
       "    </tr>\n",
       "    <tr>\n",
       "      <th>MT-CYB</th>\n",
       "      <td>ENSG00000198727</td>\n",
       "      <td>Gene Expression</td>\n",
       "      <td>GRCh38</td>\n",
       "    </tr>\n",
       "  </tbody>\n",
       "</table>\n",
       "<p>18085 rows × 3 columns</p>\n",
       "</div>"
      ],
      "text/plain": [
       "                gene_ids    feature_types  genome\n",
       "SAMD11   ENSG00000187634  Gene Expression  GRCh38\n",
       "NOC2L    ENSG00000188976  Gene Expression  GRCh38\n",
       "KLHL17   ENSG00000187961  Gene Expression  GRCh38\n",
       "PLEKHN1  ENSG00000187583  Gene Expression  GRCh38\n",
       "PERM1    ENSG00000187642  Gene Expression  GRCh38\n",
       "...                  ...              ...     ...\n",
       "MT-ND4L  ENSG00000212907  Gene Expression  GRCh38\n",
       "MT-ND4   ENSG00000198886  Gene Expression  GRCh38\n",
       "MT-ND5   ENSG00000198786  Gene Expression  GRCh38\n",
       "MT-ND6   ENSG00000198695  Gene Expression  GRCh38\n",
       "MT-CYB   ENSG00000198727  Gene Expression  GRCh38\n",
       "\n",
       "[18085 rows x 3 columns]"
      ]
     },
     "execution_count": 10,
     "metadata": {},
     "output_type": "execute_result"
    }
   ],
   "source": [
    "visium.var"
   ]
  },
  {
   "cell_type": "code",
   "execution_count": 11,
   "metadata": {},
   "outputs": [
    {
     "name": "stderr",
     "output_type": "stream",
     "text": [
      "/omics/groups/OE0540/internal/B260/users/olga/.conda/envs/torch_geo/lib/python3.8/site-packages/anndata/_core/anndata.py:1755: FutureWarning: The AnnData.concatenate method is deprecated in favour of the anndata.concat function. Please use anndata.concat instead.\n",
      "\n",
      "See the tutorial for concat at: https://anndata.readthedocs.io/en/latest/concatenation.html\n",
      "  warnings.warn(\n"
     ]
    }
   ],
   "source": [
    "visium.obs[\"source\"] = \"visium\"\n",
    "adata_seq.obs[\"source\"] = \"scRNA\"\n",
    "adata = visium.concatenate(adata_seq)\n",
    "adata.layers[\"counts\"] = adata.X.copy()\n",
    "sc.pp.normalize_total(adata, target_sum=1e4)\n",
    "sc.pp.log1p(adata)\n",
    "adata.raw = adata  # keep full dimension safe\n",
    "sc.pp.highly_variable_genes(\n",
    "    adata,\n",
    "    flavor=\"seurat_v3\",\n",
    "    n_top_genes=2000,\n",
    "    layer=\"counts\",\n",
    "    batch_key=\"batch\",\n",
    "    subset=True\n",
    ")"
   ]
  },
  {
   "cell_type": "code",
   "execution_count": 25,
   "metadata": {},
   "outputs": [
    {
     "name": "stderr",
     "output_type": "stream",
     "text": [
      "No GPU/TPU found, falling back to CPU. (Set TF_CPP_MIN_LOG_LEVEL=0 and rerun for more info.)\n"
     ]
    }
   ],
   "source": [
    "scvi.model.SCVI.setup_anndata(adata, layer=\"counts\", batch_key=\"source\")\n"
   ]
  },
  {
   "cell_type": "code",
   "execution_count": null,
   "metadata": {},
   "outputs": [],
   "source": [
    "vae = scvi.model.SCVI(adata, n_layers=2, n_latent=30)\n"
   ]
  },
  {
   "cell_type": "code",
   "execution_count": 27,
   "metadata": {},
   "outputs": [
    {
     "name": "stderr",
     "output_type": "stream",
     "text": [
      "GPU available: False, used: False\n",
      "TPU available: False, using: 0 TPU cores\n",
      "IPU available: False, using: 0 IPUs\n",
      "HPU available: False, using: 0 HPUs\n"
     ]
    },
    {
     "name": "stdout",
     "output_type": "stream",
     "text": [
      "Epoch 229/229: 100%|██████████| 229/229 [2:51:05<00:00, 37.72s/it, loss=1.01e+03, v_num=1]  "
     ]
    },
    {
     "name": "stderr",
     "output_type": "stream",
     "text": [
      "`Trainer.fit` stopped: `max_epochs=229` reached.\n"
     ]
    },
    {
     "name": "stdout",
     "output_type": "stream",
     "text": [
      "Epoch 229/229: 100%|██████████| 229/229 [2:51:05<00:00, 44.83s/it, loss=1.01e+03, v_num=1]\n"
     ]
    }
   ],
   "source": [
    "vae.train()\n"
   ]
  },
  {
   "cell_type": "code",
   "execution_count": 28,
   "metadata": {},
   "outputs": [],
   "source": [
    "adata.obsm[\"X_scVI\"] = vae.get_latent_representation()\n"
   ]
  },
  {
   "cell_type": "code",
   "execution_count": 31,
   "metadata": {},
   "outputs": [],
   "source": [
    "from scvi.model.utils import mde\n",
    "adata.obsm[\"X_mde\"] = mde(adata.obsm[\"X_scVI\"])"
   ]
  },
  {
   "cell_type": "code",
   "execution_count": 32,
   "metadata": {},
   "outputs": [
    {
     "name": "stderr",
     "output_type": "stream",
     "text": [
      "/omics/groups/OE0540/internal/B260/users/olga/.conda/envs/torch_geo/lib/python3.8/site-packages/scanpy/plotting/_tools/scatterplots.py:392: UserWarning: No data for colormapping provided via 'c'. Parameters 'cmap' will be ignored\n",
      "  cax = scatter(\n"
     ]
    },
    {
     "data": {
      "image/png": "[encoded data removed]",
      "text/plain": [
       "<Figure size 432x288 with 1 Axes>"
      ]
     },
     "metadata": {},
     "output_type": "display_data"
    }
   ],
   "source": [
    "sc.pl.embedding(\n",
    "    adata,\n",
    "    basis=\"X_mde\",\n",
    "    color=[\"source\"],\n",
    "    frameon=False,\n",
    "    ncols=1,\n",
    ")\n"
   ]
  },
  {
   "cell_type": "code",
   "execution_count": 33,
   "metadata": {},
   "outputs": [],
   "source": [
    "cell_source = pd.DataFrame(adata.obsm[\"X_mde\"], index = adata.obs.index)\n",
    "cell_source[\"source\"] = adata.obs.source\n",
    "cell_source.to_csv(\"../data/interim/res_scvi.csv\")"
   ]
  },
  {
   "cell_type": "code",
   "execution_count": 3,
   "metadata": {},
   "outputs": [],
   "source": [
    "cell_source = pd.read_csv(\"../data/interim/res_scvi.csv\", index_col=0)"
   ]
  },
  {
   "cell_type": "code",
   "execution_count": 6,
   "metadata": {},
   "outputs": [
    {
     "data": {
      "text/html": [
       "<div>\n",
       "<style scoped>\n",
       "    .dataframe tbody tr th:only-of-type {\n",
       "        vertical-align: middle;\n",
       "    }\n",
       "\n",
       "    .dataframe tbody tr th {\n",
       "        vertical-align: top;\n",
       "    }\n",
       "\n",
       "    .dataframe thead th {\n",
       "        text-align: right;\n",
       "    }\n",
       "</style>\n",
       "<table border=\"1\" class=\"dataframe\">\n",
       "  <thead>\n",
       "    <tr style=\"text-align: right;\">\n",
       "      <th></th>\n",
       "      <th>0</th>\n",
       "      <th>1</th>\n",
       "      <th>source</th>\n",
       "    </tr>\n",
       "  </thead>\n",
       "  <tbody>\n",
       "    <tr>\n",
       "      <th>AACACCTACTATCGAA-1-0</th>\n",
       "      <td>-0.685019</td>\n",
       "      <td>1.523659</td>\n",
       "      <td>visium</td>\n",
       "    </tr>\n",
       "    <tr>\n",
       "      <th>AACACGTGCATCGCAC-1-0</th>\n",
       "      <td>-0.746367</td>\n",
       "      <td>0.760773</td>\n",
       "      <td>visium</td>\n",
       "    </tr>\n",
       "    <tr>\n",
       "      <th>AACACTTGGCAAGGAA-1-0</th>\n",
       "      <td>0.851850</td>\n",
       "      <td>1.325718</td>\n",
       "      <td>visium</td>\n",
       "    </tr>\n",
       "    <tr>\n",
       "      <th>AACAGGAAGAGCATAG-1-0</th>\n",
       "      <td>-0.408944</td>\n",
       "      <td>0.579145</td>\n",
       "      <td>visium</td>\n",
       "    </tr>\n",
       "    <tr>\n",
       "      <th>AACAGGATTCATAGTT-1-0</th>\n",
       "      <td>-0.165718</td>\n",
       "      <td>0.560987</td>\n",
       "      <td>visium</td>\n",
       "    </tr>\n",
       "  </tbody>\n",
       "</table>\n",
       "</div>"
      ],
      "text/plain": [
       "                             0         1  source\n",
       "AACACCTACTATCGAA-1-0 -0.685019  1.523659  visium\n",
       "AACACGTGCATCGCAC-1-0 -0.746367  0.760773  visium\n",
       "AACACTTGGCAAGGAA-1-0  0.851850  1.325718  visium\n",
       "AACAGGAAGAGCATAG-1-0 -0.408944  0.579145  visium\n",
       "AACAGGATTCATAGTT-1-0 -0.165718  0.560987  visium"
      ]
     },
     "execution_count": 6,
     "metadata": {},
     "output_type": "execute_result"
    }
   ],
   "source": [
    "cell_source.head()"
   ]
  },
  {
   "cell_type": "markdown",
   "metadata": {},
   "source": [
    "# 1. Edges from knn based on teh embedding"
   ]
  },
  {
   "cell_type": "code",
   "execution_count": 7,
   "metadata": {},
   "outputs": [
    {
     "data": {
      "text/plain": [
       "array(['visium', 'scRNA'], dtype=object)"
      ]
     },
     "execution_count": 7,
     "metadata": {},
     "output_type": "execute_result"
    }
   ],
   "source": [
    "cell_source.index = [x[:-2] for x in cell_source.index]\n",
    "cell_source.source.unique()"
   ]
  },
  {
   "cell_type": "code",
   "execution_count": 8,
   "metadata": {},
   "outputs": [
    {
     "data": {
      "text/plain": [
       "Index(['0', '1', 'source'], dtype='object')"
      ]
     },
     "execution_count": 8,
     "metadata": {},
     "output_type": "execute_result"
    }
   ],
   "source": [
    "cell_source.columns"
   ]
  },
  {
   "cell_type": "code",
   "execution_count": 9,
   "metadata": {},
   "outputs": [],
   "source": [
    "emb_spatial = cell_source[cell_source.source == \"visium\"][['0', '1']]\n",
    "emb_rna = cell_source[cell_source.source == \"scRNA\"][['0', '1']]"
   ]
  },
  {
   "cell_type": "code",
   "execution_count": 10,
   "metadata": {},
   "outputs": [],
   "source": [
    "dist = distance.cdist(emb_rna.values, emb_spatial.values, 'euclidean')\n",
    "dist = pd.DataFrame(dist, index = emb_rna.index, columns = emb_spatial.index)"
   ]
  },
  {
   "cell_type": "code",
   "execution_count": 11,
   "metadata": {},
   "outputs": [
    {
     "name": "stderr",
     "output_type": "stream",
     "text": [
      "100%|██████████| 29891/29891 [00:40<00:00, 733.03it/s]\n"
     ]
    }
   ],
   "source": [
    "n_neigb = 10\n",
    "edges = []\n",
    "locations = dist.columns\n",
    "for cell in tqdm(dist.index):\n",
    "    d = dist.loc[[cell]]\n",
    "    t = np.sort(d.values)[:,n_neigb-1][0]\n",
    "    indexer = (d<=t).values[0]\n",
    "    loc_edges = [locations[i] for i in range(len(indexer)) if indexer[i]]\n",
    "    for loc in loc_edges:\n",
    "        edges.append((cell,loc))"
   ]
  },
  {
   "cell_type": "code",
   "execution_count": 12,
   "metadata": {},
   "outputs": [
    {
     "data": {
      "text/html": [
       "<div>\n",
       "<style scoped>\n",
       "    .dataframe tbody tr th:only-of-type {\n",
       "        vertical-align: middle;\n",
       "    }\n",
       "\n",
       "    .dataframe tbody tr th {\n",
       "        vertical-align: top;\n",
       "    }\n",
       "\n",
       "    .dataframe thead th {\n",
       "        text-align: right;\n",
       "    }\n",
       "</style>\n",
       "<table border=\"1\" class=\"dataframe\">\n",
       "  <thead>\n",
       "    <tr style=\"text-align: right;\">\n",
       "      <th></th>\n",
       "      <th>node1</th>\n",
       "      <th>node2</th>\n",
       "    </tr>\n",
       "  </thead>\n",
       "  <tbody>\n",
       "    <tr>\n",
       "      <th>0</th>\n",
       "      <td>AAACAAGCAAACGGGA-1</td>\n",
       "      <td>AATTCTCAGACGCAAC-1</td>\n",
       "    </tr>\n",
       "    <tr>\n",
       "      <th>1</th>\n",
       "      <td>AAACAAGCAAACGGGA-1</td>\n",
       "      <td>AGCGACCGTTCTATAC-1</td>\n",
       "    </tr>\n",
       "    <tr>\n",
       "      <th>2</th>\n",
       "      <td>AAACAAGCAAACGGGA-1</td>\n",
       "      <td>CTTAGTGCGTTGACGC-1</td>\n",
       "    </tr>\n",
       "    <tr>\n",
       "      <th>3</th>\n",
       "      <td>AAACAAGCAAACGGGA-1</td>\n",
       "      <td>GCATACTAGCATCGAA-1</td>\n",
       "    </tr>\n",
       "    <tr>\n",
       "      <th>4</th>\n",
       "      <td>AAACAAGCAAACGGGA-1</td>\n",
       "      <td>GCCGATCGAGTGAAGT-1</td>\n",
       "    </tr>\n",
       "  </tbody>\n",
       "</table>\n",
       "</div>"
      ],
      "text/plain": [
       "                node1               node2\n",
       "0  AAACAAGCAAACGGGA-1  AATTCTCAGACGCAAC-1\n",
       "1  AAACAAGCAAACGGGA-1  AGCGACCGTTCTATAC-1\n",
       "2  AAACAAGCAAACGGGA-1  CTTAGTGCGTTGACGC-1\n",
       "3  AAACAAGCAAACGGGA-1  GCATACTAGCATCGAA-1\n",
       "4  AAACAAGCAAACGGGA-1  GCCGATCGAGTGAAGT-1"
      ]
     },
     "execution_count": 12,
     "metadata": {},
     "output_type": "execute_result"
    }
   ],
   "source": [
    "edges = pd.DataFrame(edges)\n",
    "edges.columns = [\"node1\", \"node2\"]\n",
    "edges.head()"
   ]
  },
  {
   "cell_type": "markdown",
   "metadata": {},
   "source": [
    "# 2. Edges from spatial data"
   ]
  },
  {
   "cell_type": "code",
   "execution_count": 15,
   "metadata": {},
   "outputs": [],
   "source": [
    "coor_int = [[int(x[0]),int(x[1])] for x in visium.obsm[\"spatial\"]]\n",
    "visium.obsm[\"spatial\"] = np.array(coor_int)"
   ]
  },
  {
   "cell_type": "code",
   "execution_count": 16,
   "metadata": {},
   "outputs": [
    {
     "data": {
      "image/png": "[encoded data removed]",
      "text/plain": [
       "<Figure size 432x288 with 1 Axes>"
      ]
     },
     "metadata": {},
     "output_type": "display_data"
    }
   ],
   "source": [
    "sc.pl.spatial(visium, img_key=\"hires\")\n"
   ]
  },
  {
   "cell_type": "code",
   "execution_count": 17,
   "metadata": {},
   "outputs": [],
   "source": [
    "vis_nodes = visium.obs.index"
   ]
  },
  {
   "cell_type": "code",
   "execution_count": 18,
   "metadata": {},
   "outputs": [
    {
     "data": {
      "text/plain": [
       "Index(['AACACCTACTATCGAA-1', 'AACACGTGCATCGCAC-1', 'AACACTTGGCAAGGAA-1',\n",
       "       'AACAGGAAGAGCATAG-1', 'AACAGGATTCATAGTT-1', 'AACAGGCCAACGATTA-1',\n",
       "       'AACAGGTTATTGCACC-1', 'AACAGGTTCACCGAAG-1', 'AACAGTCAGGCTCCGC-1',\n",
       "       'AACAGTCCACGCGGTG-1',\n",
       "       ...\n",
       "       'TGTTCGCAACCGCCAA-1', 'TGTTCGTGACCAGTAG-1', 'TGTTCTGCTCTGTCGT-1',\n",
       "       'TGTTGCGTCCAAGATT-1', 'TGTTGGAACCTTCCGC-1', 'TGTTGGAACGAGGTCA-1',\n",
       "       'TGTTGGAAGCTCGGTA-1', 'TGTTGGATGGACTTCT-1', 'TGTTGGCCAGACCTAC-1',\n",
       "       'TGTTGGCCTACACGTG-1'],\n",
       "      dtype='object', length=4992)"
      ]
     },
     "execution_count": 18,
     "metadata": {},
     "output_type": "execute_result"
    }
   ],
   "source": [
    "vis_nodes"
   ]
  },
  {
   "cell_type": "code",
   "execution_count": 19,
   "metadata": {},
   "outputs": [],
   "source": [
    "# convert array_row and array_col columns to integers in visium.obs dataframe\n",
    "visium.obs[\"array_row\"] = visium.obs[\"array_row\"].astype(int)\n",
    "visium.obs[\"array_col\"] = visium.obs[\"array_col\"].astype(int)\n"
   ]
  },
  {
   "cell_type": "code",
   "execution_count": 20,
   "metadata": {},
   "outputs": [],
   "source": [
    "edges_vis = []\n",
    "for node in vis_nodes:\n",
    "    x= visium.obs.loc[node].array_row\n",
    "    y= visium.obs.loc[node].array_col\n",
    "    nodes = visium.obs[(visium.obs.array_row >=x-1)&(visium.obs.array_row <=x+1)&(visium.obs.array_col <=y+1)&(visium.obs.array_col >=y-1)].index\n",
    "    for n in nodes:\n",
    "        if n != node:\n",
    "            edges_vis.append([node,n])"
   ]
  },
  {
   "cell_type": "code",
   "execution_count": 21,
   "metadata": {},
   "outputs": [],
   "source": [
    "edges_vis = pd.DataFrame(edges_vis, columns = [\"node1\", \"node2\"])"
   ]
  },
  {
   "cell_type": "code",
   "execution_count": 22,
   "metadata": {},
   "outputs": [],
   "source": [
    "edges_vis[\"type\"] = \"vis2grid\""
   ]
  },
  {
   "cell_type": "code",
   "execution_count": 23,
   "metadata": {},
   "outputs": [],
   "source": [
    "edges = pd.concat([edges,edges_vis])"
   ]
  },
  {
   "cell_type": "code",
   "execution_count": 24,
   "metadata": {},
   "outputs": [],
   "source": [
    "edges.type = edges.type.fillna(\"sc2vis\")"
   ]
  },
  {
   "cell_type": "markdown",
   "metadata": {},
   "source": [
    "# 3. CLones and cell types from RNA"
   ]
  },
  {
   "cell_type": "code",
   "execution_count": 25,
   "metadata": {},
   "outputs": [],
   "source": [
    "cnv_pred = pd.read_csv(\"../data/interim/clones_sc.csv\",index_col = 0)"
   ]
  },
  {
   "cell_type": "code",
   "execution_count": 26,
   "metadata": {},
   "outputs": [
    {
     "data": {
      "text/html": [
       "<div>\n",
       "<style scoped>\n",
       "    .dataframe tbody tr th:only-of-type {\n",
       "        vertical-align: middle;\n",
       "    }\n",
       "\n",
       "    .dataframe tbody tr th {\n",
       "        vertical-align: top;\n",
       "    }\n",
       "\n",
       "    .dataframe thead th {\n",
       "        text-align: right;\n",
       "    }\n",
       "</style>\n",
       "<table border=\"1\" class=\"dataframe\">\n",
       "  <thead>\n",
       "    <tr style=\"text-align: right;\">\n",
       "      <th></th>\n",
       "      <th>leiden</th>\n",
       "    </tr>\n",
       "    <tr>\n",
       "      <th>cell.names</th>\n",
       "      <th></th>\n",
       "    </tr>\n",
       "  </thead>\n",
       "  <tbody>\n",
       "    <tr>\n",
       "      <th>CGCAAGGGTTAGTGAG-1</th>\n",
       "      <td>8</td>\n",
       "    </tr>\n",
       "    <tr>\n",
       "      <th>CAAGACTAGCTTGAGG-1</th>\n",
       "      <td>8</td>\n",
       "    </tr>\n",
       "    <tr>\n",
       "      <th>GCCAATACATTGCCTG-1</th>\n",
       "      <td>8</td>\n",
       "    </tr>\n",
       "    <tr>\n",
       "      <th>CTTCAATAGATGATTG-1</th>\n",
       "      <td>8</td>\n",
       "    </tr>\n",
       "    <tr>\n",
       "      <th>GATGCAAGTATTGCGT-1</th>\n",
       "      <td>8</td>\n",
       "    </tr>\n",
       "    <tr>\n",
       "      <th>...</th>\n",
       "      <td>...</td>\n",
       "    </tr>\n",
       "    <tr>\n",
       "      <th>TCTAACCCAGGTATTG-1</th>\n",
       "      <td>0</td>\n",
       "    </tr>\n",
       "    <tr>\n",
       "      <th>TCAACTAGTTAGCGCC-1</th>\n",
       "      <td>3</td>\n",
       "    </tr>\n",
       "    <tr>\n",
       "      <th>CAGGTCAAGACCATTT-1</th>\n",
       "      <td>0</td>\n",
       "    </tr>\n",
       "    <tr>\n",
       "      <th>TGGTGCGCACCATCCA-1</th>\n",
       "      <td>0</td>\n",
       "    </tr>\n",
       "    <tr>\n",
       "      <th>ACAACGGTCTAGTTAC-1</th>\n",
       "      <td>3</td>\n",
       "    </tr>\n",
       "  </tbody>\n",
       "</table>\n",
       "<p>10721 rows × 1 columns</p>\n",
       "</div>"
      ],
      "text/plain": [
       "                    leiden\n",
       "cell.names                \n",
       "CGCAAGGGTTAGTGAG-1       8\n",
       "CAAGACTAGCTTGAGG-1       8\n",
       "GCCAATACATTGCCTG-1       8\n",
       "CTTCAATAGATGATTG-1       8\n",
       "GATGCAAGTATTGCGT-1       8\n",
       "...                    ...\n",
       "TCTAACCCAGGTATTG-1       0\n",
       "TCAACTAGTTAGCGCC-1       3\n",
       "CAGGTCAAGACCATTT-1       0\n",
       "TGGTGCGCACCATCCA-1       0\n",
       "ACAACGGTCTAGTTAC-1       3\n",
       "\n",
       "[10721 rows x 1 columns]"
      ]
     },
     "execution_count": 26,
     "metadata": {},
     "output_type": "execute_result"
    }
   ],
   "source": [
    "cnv_pred"
   ]
  },
  {
   "cell_type": "code",
   "execution_count": 99,
   "metadata": {},
   "outputs": [],
   "source": [
    "cell_types = pd.read_csv(\"../data/interim/cell_types.csv\", index_col = 2, sep = \";\")"
   ]
  },
  {
   "cell_type": "code",
   "execution_count": 100,
   "metadata": {},
   "outputs": [
    {
     "data": {
      "text/plain": [
       "(29500, 6)"
      ]
     },
     "execution_count": 100,
     "metadata": {},
     "output_type": "execute_result"
    }
   ],
   "source": [
    "cell_types.shape"
   ]
  },
  {
   "cell_type": "code",
   "execution_count": 101,
   "metadata": {},
   "outputs": [],
   "source": [
    "cell_types.index = [x.replace(\".\", \"-\") for x in cell_types.index]"
   ]
  },
  {
   "cell_type": "code",
   "execution_count": 103,
   "metadata": {},
   "outputs": [],
   "source": [
    "cell_types = cell_types.join(cnv_pred)"
   ]
  },
  {
   "cell_type": "code",
   "execution_count": 104,
   "metadata": {},
   "outputs": [],
   "source": [
    "cell_types = cell_types[[\"celltype_major\",\"celltype_minor\",\"leiden\"]]"
   ]
  },
  {
   "cell_type": "code",
   "execution_count": 105,
   "metadata": {},
   "outputs": [],
   "source": [
    "cell_types = cell_types.reset_index()"
   ]
  },
  {
   "cell_type": "code",
   "execution_count": 106,
   "metadata": {},
   "outputs": [
    {
     "data": {
      "text/html": [
       "<div>\n",
       "<style scoped>\n",
       "    .dataframe tbody tr th:only-of-type {\n",
       "        vertical-align: middle;\n",
       "    }\n",
       "\n",
       "    .dataframe tbody tr th {\n",
       "        vertical-align: top;\n",
       "    }\n",
       "\n",
       "    .dataframe thead th {\n",
       "        text-align: right;\n",
       "    }\n",
       "</style>\n",
       "<table border=\"1\" class=\"dataframe\">\n",
       "  <thead>\n",
       "    <tr style=\"text-align: right;\">\n",
       "      <th></th>\n",
       "      <th>index</th>\n",
       "      <th>celltype_major</th>\n",
       "      <th>celltype_minor</th>\n",
       "      <th>leiden</th>\n",
       "    </tr>\n",
       "  </thead>\n",
       "  <tbody>\n",
       "    <tr>\n",
       "      <th>0</th>\n",
       "      <td>AAACAAGCAAACGGGA-1</td>\n",
       "      <td>Myeloid</td>\n",
       "      <td>Macrophage</td>\n",
       "      <td>NaN</td>\n",
       "    </tr>\n",
       "    <tr>\n",
       "      <th>1</th>\n",
       "      <td>AAACAAGCAAATAGGA-1</td>\n",
       "      <td>Myeloid</td>\n",
       "      <td>Macrophage</td>\n",
       "      <td>0.0</td>\n",
       "    </tr>\n",
       "    <tr>\n",
       "      <th>2</th>\n",
       "      <td>AAACCAATCAAGCGAT-1</td>\n",
       "      <td>Myeloid</td>\n",
       "      <td>Macrophage</td>\n",
       "      <td>3.0</td>\n",
       "    </tr>\n",
       "    <tr>\n",
       "      <th>3</th>\n",
       "      <td>AAACCAATCCAATGAA-1</td>\n",
       "      <td>Myeloid</td>\n",
       "      <td>Monocyte</td>\n",
       "      <td>NaN</td>\n",
       "    </tr>\n",
       "    <tr>\n",
       "      <th>4</th>\n",
       "      <td>AAACCAATCGCTTCGG-1</td>\n",
       "      <td>Myeloid</td>\n",
       "      <td>Macrophage</td>\n",
       "      <td>0.0</td>\n",
       "    </tr>\n",
       "    <tr>\n",
       "      <th>...</th>\n",
       "      <td>...</td>\n",
       "      <td>...</td>\n",
       "      <td>...</td>\n",
       "      <td>...</td>\n",
       "    </tr>\n",
       "    <tr>\n",
       "      <th>29495</th>\n",
       "      <td>TTTGCCCGTACTTCCC-1</td>\n",
       "      <td>Plasmablasts</td>\n",
       "      <td>Plasmablasts</td>\n",
       "      <td>NaN</td>\n",
       "    </tr>\n",
       "    <tr>\n",
       "      <th>29496</th>\n",
       "      <td>TTTGCCCGTTGTGACT-1</td>\n",
       "      <td>Plasmablasts</td>\n",
       "      <td>Plasmablasts</td>\n",
       "      <td>NaN</td>\n",
       "    </tr>\n",
       "    <tr>\n",
       "      <th>29497</th>\n",
       "      <td>TTTGCGCAGAGGCGGA-1</td>\n",
       "      <td>Plasmablasts</td>\n",
       "      <td>Plasmablasts</td>\n",
       "      <td>NaN</td>\n",
       "    </tr>\n",
       "    <tr>\n",
       "      <th>29498</th>\n",
       "      <td>TTTGCTCTCATCAAGA-1</td>\n",
       "      <td>Plasmablasts</td>\n",
       "      <td>Plasmablasts</td>\n",
       "      <td>NaN</td>\n",
       "    </tr>\n",
       "    <tr>\n",
       "      <th>29499</th>\n",
       "      <td>TTTGCTCTCCTGGATC-1</td>\n",
       "      <td>Plasmablasts</td>\n",
       "      <td>Plasmablasts</td>\n",
       "      <td>NaN</td>\n",
       "    </tr>\n",
       "  </tbody>\n",
       "</table>\n",
       "<p>29500 rows × 4 columns</p>\n",
       "</div>"
      ],
      "text/plain": [
       "                    index celltype_major celltype_minor  leiden\n",
       "0      AAACAAGCAAACGGGA-1        Myeloid     Macrophage     NaN\n",
       "1      AAACAAGCAAATAGGA-1        Myeloid     Macrophage     0.0\n",
       "2      AAACCAATCAAGCGAT-1        Myeloid     Macrophage     3.0\n",
       "3      AAACCAATCCAATGAA-1        Myeloid       Monocyte     NaN\n",
       "4      AAACCAATCGCTTCGG-1        Myeloid     Macrophage     0.0\n",
       "...                   ...            ...            ...     ...\n",
       "29495  TTTGCCCGTACTTCCC-1   Plasmablasts   Plasmablasts     NaN\n",
       "29496  TTTGCCCGTTGTGACT-1   Plasmablasts   Plasmablasts     NaN\n",
       "29497  TTTGCGCAGAGGCGGA-1   Plasmablasts   Plasmablasts     NaN\n",
       "29498  TTTGCTCTCATCAAGA-1   Plasmablasts   Plasmablasts     NaN\n",
       "29499  TTTGCTCTCCTGGATC-1   Plasmablasts   Plasmablasts     NaN\n",
       "\n",
       "[29500 rows x 4 columns]"
      ]
     },
     "execution_count": 106,
     "metadata": {},
     "output_type": "execute_result"
    }
   ],
   "source": [
    "cell_types"
   ]
  },
  {
   "cell_type": "code",
   "execution_count": 107,
   "metadata": {},
   "outputs": [],
   "source": [
    "cell_types.columns = [\"node1\",\"celltype_major\",\"celltype_minor\",\"clone\"]\n",
    "cell_types.clone = cell_types.clone.fillna(\"diploid\")\n",
    "cell_types.clone = cell_types.clone.astype(str)"
   ]
  },
  {
   "cell_type": "code",
   "execution_count": 108,
   "metadata": {},
   "outputs": [
    {
     "data": {
      "text/html": [
       "<div>\n",
       "<style scoped>\n",
       "    .dataframe tbody tr th:only-of-type {\n",
       "        vertical-align: middle;\n",
       "    }\n",
       "\n",
       "    .dataframe tbody tr th {\n",
       "        vertical-align: top;\n",
       "    }\n",
       "\n",
       "    .dataframe thead th {\n",
       "        text-align: right;\n",
       "    }\n",
       "</style>\n",
       "<table border=\"1\" class=\"dataframe\">\n",
       "  <thead>\n",
       "    <tr style=\"text-align: right;\">\n",
       "      <th></th>\n",
       "      <th>node1</th>\n",
       "      <th>celltype_major</th>\n",
       "      <th>celltype_minor</th>\n",
       "      <th>clone</th>\n",
       "    </tr>\n",
       "  </thead>\n",
       "  <tbody>\n",
       "    <tr>\n",
       "      <th>0</th>\n",
       "      <td>AAACAAGCAAACGGGA-1</td>\n",
       "      <td>Myeloid</td>\n",
       "      <td>Macrophage</td>\n",
       "      <td>diploid</td>\n",
       "    </tr>\n",
       "    <tr>\n",
       "      <th>1</th>\n",
       "      <td>AAACAAGCAAATAGGA-1</td>\n",
       "      <td>Myeloid</td>\n",
       "      <td>Macrophage</td>\n",
       "      <td>0.0</td>\n",
       "    </tr>\n",
       "    <tr>\n",
       "      <th>2</th>\n",
       "      <td>AAACCAATCAAGCGAT-1</td>\n",
       "      <td>Myeloid</td>\n",
       "      <td>Macrophage</td>\n",
       "      <td>3.0</td>\n",
       "    </tr>\n",
       "    <tr>\n",
       "      <th>3</th>\n",
       "      <td>AAACCAATCCAATGAA-1</td>\n",
       "      <td>Myeloid</td>\n",
       "      <td>Monocyte</td>\n",
       "      <td>diploid</td>\n",
       "    </tr>\n",
       "    <tr>\n",
       "      <th>4</th>\n",
       "      <td>AAACCAATCGCTTCGG-1</td>\n",
       "      <td>Myeloid</td>\n",
       "      <td>Macrophage</td>\n",
       "      <td>0.0</td>\n",
       "    </tr>\n",
       "    <tr>\n",
       "      <th>...</th>\n",
       "      <td>...</td>\n",
       "      <td>...</td>\n",
       "      <td>...</td>\n",
       "      <td>...</td>\n",
       "    </tr>\n",
       "    <tr>\n",
       "      <th>29495</th>\n",
       "      <td>TTTGCCCGTACTTCCC-1</td>\n",
       "      <td>Plasmablasts</td>\n",
       "      <td>Plasmablasts</td>\n",
       "      <td>diploid</td>\n",
       "    </tr>\n",
       "    <tr>\n",
       "      <th>29496</th>\n",
       "      <td>TTTGCCCGTTGTGACT-1</td>\n",
       "      <td>Plasmablasts</td>\n",
       "      <td>Plasmablasts</td>\n",
       "      <td>diploid</td>\n",
       "    </tr>\n",
       "    <tr>\n",
       "      <th>29497</th>\n",
       "      <td>TTTGCGCAGAGGCGGA-1</td>\n",
       "      <td>Plasmablasts</td>\n",
       "      <td>Plasmablasts</td>\n",
       "      <td>diploid</td>\n",
       "    </tr>\n",
       "    <tr>\n",
       "      <th>29498</th>\n",
       "      <td>TTTGCTCTCATCAAGA-1</td>\n",
       "      <td>Plasmablasts</td>\n",
       "      <td>Plasmablasts</td>\n",
       "      <td>diploid</td>\n",
       "    </tr>\n",
       "    <tr>\n",
       "      <th>29499</th>\n",
       "      <td>TTTGCTCTCCTGGATC-1</td>\n",
       "      <td>Plasmablasts</td>\n",
       "      <td>Plasmablasts</td>\n",
       "      <td>diploid</td>\n",
       "    </tr>\n",
       "  </tbody>\n",
       "</table>\n",
       "<p>29500 rows × 4 columns</p>\n",
       "</div>"
      ],
      "text/plain": [
       "                    node1 celltype_major celltype_minor    clone\n",
       "0      AAACAAGCAAACGGGA-1        Myeloid     Macrophage  diploid\n",
       "1      AAACAAGCAAATAGGA-1        Myeloid     Macrophage      0.0\n",
       "2      AAACCAATCAAGCGAT-1        Myeloid     Macrophage      3.0\n",
       "3      AAACCAATCCAATGAA-1        Myeloid       Monocyte  diploid\n",
       "4      AAACCAATCGCTTCGG-1        Myeloid     Macrophage      0.0\n",
       "...                   ...            ...            ...      ...\n",
       "29495  TTTGCCCGTACTTCCC-1   Plasmablasts   Plasmablasts  diploid\n",
       "29496  TTTGCCCGTTGTGACT-1   Plasmablasts   Plasmablasts  diploid\n",
       "29497  TTTGCGCAGAGGCGGA-1   Plasmablasts   Plasmablasts  diploid\n",
       "29498  TTTGCTCTCATCAAGA-1   Plasmablasts   Plasmablasts  diploid\n",
       "29499  TTTGCTCTCCTGGATC-1   Plasmablasts   Plasmablasts  diploid\n",
       "\n",
       "[29500 rows x 4 columns]"
      ]
     },
     "execution_count": 108,
     "metadata": {},
     "output_type": "execute_result"
    }
   ],
   "source": [
    "cell_types"
   ]
  },
  {
   "cell_type": "code",
   "execution_count": 109,
   "metadata": {},
   "outputs": [],
   "source": [
    "edges_tmp = edges.copy()"
   ]
  },
  {
   "cell_type": "code",
   "execution_count": 110,
   "metadata": {},
   "outputs": [
    {
     "data": {
      "text/html": [
       "<div>\n",
       "<style scoped>\n",
       "    .dataframe tbody tr th:only-of-type {\n",
       "        vertical-align: middle;\n",
       "    }\n",
       "\n",
       "    .dataframe tbody tr th {\n",
       "        vertical-align: top;\n",
       "    }\n",
       "\n",
       "    .dataframe thead th {\n",
       "        text-align: right;\n",
       "    }\n",
       "</style>\n",
       "<table border=\"1\" class=\"dataframe\">\n",
       "  <thead>\n",
       "    <tr style=\"text-align: right;\">\n",
       "      <th></th>\n",
       "      <th>node1</th>\n",
       "      <th>node2</th>\n",
       "      <th>type</th>\n",
       "    </tr>\n",
       "  </thead>\n",
       "  <tbody>\n",
       "    <tr>\n",
       "      <th>0</th>\n",
       "      <td>AAACAAGCAAACGGGA-1</td>\n",
       "      <td>AATTCTCAGACGCAAC-1</td>\n",
       "      <td>sc2vis</td>\n",
       "    </tr>\n",
       "    <tr>\n",
       "      <th>1</th>\n",
       "      <td>AAACAAGCAAACGGGA-1</td>\n",
       "      <td>AGCGACCGTTCTATAC-1</td>\n",
       "      <td>sc2vis</td>\n",
       "    </tr>\n",
       "    <tr>\n",
       "      <th>2</th>\n",
       "      <td>AAACAAGCAAACGGGA-1</td>\n",
       "      <td>CTTAGTGCGTTGACGC-1</td>\n",
       "      <td>sc2vis</td>\n",
       "    </tr>\n",
       "    <tr>\n",
       "      <th>3</th>\n",
       "      <td>AAACAAGCAAACGGGA-1</td>\n",
       "      <td>GCATACTAGCATCGAA-1</td>\n",
       "      <td>sc2vis</td>\n",
       "    </tr>\n",
       "    <tr>\n",
       "      <th>4</th>\n",
       "      <td>AAACAAGCAAACGGGA-1</td>\n",
       "      <td>GCCGATCGAGTGAAGT-1</td>\n",
       "      <td>sc2vis</td>\n",
       "    </tr>\n",
       "    <tr>\n",
       "      <th>...</th>\n",
       "      <td>...</td>\n",
       "      <td>...</td>\n",
       "      <td>...</td>\n",
       "    </tr>\n",
       "    <tr>\n",
       "      <th>19553</th>\n",
       "      <td>TGTTGGCCAGACCTAC-1</td>\n",
       "      <td>GATGGACCTGGACGGA-1</td>\n",
       "      <td>vis2grid</td>\n",
       "    </tr>\n",
       "    <tr>\n",
       "      <th>19554</th>\n",
       "      <td>TGTTGGCCAGACCTAC-1</td>\n",
       "      <td>GGTAGCTTAGCCAATC-1</td>\n",
       "      <td>vis2grid</td>\n",
       "    </tr>\n",
       "    <tr>\n",
       "      <th>19555</th>\n",
       "      <td>TGTTGGCCAGACCTAC-1</td>\n",
       "      <td>TCATCTCCAACCACCT-1</td>\n",
       "      <td>vis2grid</td>\n",
       "    </tr>\n",
       "    <tr>\n",
       "      <th>19556</th>\n",
       "      <td>TGTTGGCCTACACGTG-1</td>\n",
       "      <td>AGGATCGAGCACCGCC-1</td>\n",
       "      <td>vis2grid</td>\n",
       "    </tr>\n",
       "    <tr>\n",
       "      <th>19557</th>\n",
       "      <td>TGTTGGCCTACACGTG-1</td>\n",
       "      <td>CACGTGCCAGAATTCT-1</td>\n",
       "      <td>vis2grid</td>\n",
       "    </tr>\n",
       "  </tbody>\n",
       "</table>\n",
       "<p>318468 rows × 3 columns</p>\n",
       "</div>"
      ],
      "text/plain": [
       "                    node1               node2      type\n",
       "0      AAACAAGCAAACGGGA-1  AATTCTCAGACGCAAC-1    sc2vis\n",
       "1      AAACAAGCAAACGGGA-1  AGCGACCGTTCTATAC-1    sc2vis\n",
       "2      AAACAAGCAAACGGGA-1  CTTAGTGCGTTGACGC-1    sc2vis\n",
       "3      AAACAAGCAAACGGGA-1  GCATACTAGCATCGAA-1    sc2vis\n",
       "4      AAACAAGCAAACGGGA-1  GCCGATCGAGTGAAGT-1    sc2vis\n",
       "...                   ...                 ...       ...\n",
       "19553  TGTTGGCCAGACCTAC-1  GATGGACCTGGACGGA-1  vis2grid\n",
       "19554  TGTTGGCCAGACCTAC-1  GGTAGCTTAGCCAATC-1  vis2grid\n",
       "19555  TGTTGGCCAGACCTAC-1  TCATCTCCAACCACCT-1  vis2grid\n",
       "19556  TGTTGGCCTACACGTG-1  AGGATCGAGCACCGCC-1  vis2grid\n",
       "19557  TGTTGGCCTACACGTG-1  CACGTGCCAGAATTCT-1  vis2grid\n",
       "\n",
       "[318468 rows x 3 columns]"
      ]
     },
     "execution_count": 110,
     "metadata": {},
     "output_type": "execute_result"
    }
   ],
   "source": [
    "edges_tmp"
   ]
  },
  {
   "cell_type": "code",
   "execution_count": 111,
   "metadata": {},
   "outputs": [],
   "source": [
    "edges_tmp = edges_tmp.merge(cell_types, left_on = \"node1\", right_on = \"node1\", how = \"left\")"
   ]
  },
  {
   "cell_type": "code",
   "execution_count": 112,
   "metadata": {},
   "outputs": [
    {
     "data": {
      "text/html": [
       "<div>\n",
       "<style scoped>\n",
       "    .dataframe tbody tr th:only-of-type {\n",
       "        vertical-align: middle;\n",
       "    }\n",
       "\n",
       "    .dataframe tbody tr th {\n",
       "        vertical-align: top;\n",
       "    }\n",
       "\n",
       "    .dataframe thead th {\n",
       "        text-align: right;\n",
       "    }\n",
       "</style>\n",
       "<table border=\"1\" class=\"dataframe\">\n",
       "  <thead>\n",
       "    <tr style=\"text-align: right;\">\n",
       "      <th></th>\n",
       "      <th>node1</th>\n",
       "      <th>node2</th>\n",
       "      <th>type</th>\n",
       "      <th>celltype_major</th>\n",
       "      <th>celltype_minor</th>\n",
       "      <th>clone</th>\n",
       "    </tr>\n",
       "  </thead>\n",
       "  <tbody>\n",
       "    <tr>\n",
       "      <th>298910</th>\n",
       "      <td>AACACCTACTATCGAA-1</td>\n",
       "      <td>ATGAGTAGCGTGTTAG-1</td>\n",
       "      <td>vis2grid</td>\n",
       "      <td>NaN</td>\n",
       "      <td>NaN</td>\n",
       "      <td>NaN</td>\n",
       "    </tr>\n",
       "    <tr>\n",
       "      <th>298911</th>\n",
       "      <td>AACACCTACTATCGAA-1</td>\n",
       "      <td>GTCGAACCGTTCACTC-1</td>\n",
       "      <td>vis2grid</td>\n",
       "      <td>NaN</td>\n",
       "      <td>NaN</td>\n",
       "      <td>NaN</td>\n",
       "    </tr>\n",
       "    <tr>\n",
       "      <th>298912</th>\n",
       "      <td>AACACGTGCATCGCAC-1</td>\n",
       "      <td>AGGTACGGAAGTCAAC-1</td>\n",
       "      <td>vis2grid</td>\n",
       "      <td>NaN</td>\n",
       "      <td>NaN</td>\n",
       "      <td>NaN</td>\n",
       "    </tr>\n",
       "    <tr>\n",
       "      <th>298913</th>\n",
       "      <td>AACACGTGCATCGCAC-1</td>\n",
       "      <td>GCCTTCGATCAGGTCG-1</td>\n",
       "      <td>vis2grid</td>\n",
       "      <td>NaN</td>\n",
       "      <td>NaN</td>\n",
       "      <td>NaN</td>\n",
       "    </tr>\n",
       "    <tr>\n",
       "      <th>298914</th>\n",
       "      <td>AACACGTGCATCGCAC-1</td>\n",
       "      <td>GGTGCAACCATGAGGA-1</td>\n",
       "      <td>vis2grid</td>\n",
       "      <td>NaN</td>\n",
       "      <td>NaN</td>\n",
       "      <td>NaN</td>\n",
       "    </tr>\n",
       "    <tr>\n",
       "      <th>...</th>\n",
       "      <td>...</td>\n",
       "      <td>...</td>\n",
       "      <td>...</td>\n",
       "      <td>...</td>\n",
       "      <td>...</td>\n",
       "      <td>...</td>\n",
       "    </tr>\n",
       "    <tr>\n",
       "      <th>318463</th>\n",
       "      <td>TGTTGGCCAGACCTAC-1</td>\n",
       "      <td>GATGGACCTGGACGGA-1</td>\n",
       "      <td>vis2grid</td>\n",
       "      <td>NaN</td>\n",
       "      <td>NaN</td>\n",
       "      <td>NaN</td>\n",
       "    </tr>\n",
       "    <tr>\n",
       "      <th>318464</th>\n",
       "      <td>TGTTGGCCAGACCTAC-1</td>\n",
       "      <td>GGTAGCTTAGCCAATC-1</td>\n",
       "      <td>vis2grid</td>\n",
       "      <td>NaN</td>\n",
       "      <td>NaN</td>\n",
       "      <td>NaN</td>\n",
       "    </tr>\n",
       "    <tr>\n",
       "      <th>318465</th>\n",
       "      <td>TGTTGGCCAGACCTAC-1</td>\n",
       "      <td>TCATCTCCAACCACCT-1</td>\n",
       "      <td>vis2grid</td>\n",
       "      <td>NaN</td>\n",
       "      <td>NaN</td>\n",
       "      <td>NaN</td>\n",
       "    </tr>\n",
       "    <tr>\n",
       "      <th>318466</th>\n",
       "      <td>TGTTGGCCTACACGTG-1</td>\n",
       "      <td>AGGATCGAGCACCGCC-1</td>\n",
       "      <td>vis2grid</td>\n",
       "      <td>NaN</td>\n",
       "      <td>NaN</td>\n",
       "      <td>NaN</td>\n",
       "    </tr>\n",
       "    <tr>\n",
       "      <th>318467</th>\n",
       "      <td>TGTTGGCCTACACGTG-1</td>\n",
       "      <td>CACGTGCCAGAATTCT-1</td>\n",
       "      <td>vis2grid</td>\n",
       "      <td>NaN</td>\n",
       "      <td>NaN</td>\n",
       "      <td>NaN</td>\n",
       "    </tr>\n",
       "  </tbody>\n",
       "</table>\n",
       "<p>19558 rows × 6 columns</p>\n",
       "</div>"
      ],
      "text/plain": [
       "                     node1               node2      type celltype_major   \n",
       "298910  AACACCTACTATCGAA-1  ATGAGTAGCGTGTTAG-1  vis2grid            NaN  \\\n",
       "298911  AACACCTACTATCGAA-1  GTCGAACCGTTCACTC-1  vis2grid            NaN   \n",
       "298912  AACACGTGCATCGCAC-1  AGGTACGGAAGTCAAC-1  vis2grid            NaN   \n",
       "298913  AACACGTGCATCGCAC-1  GCCTTCGATCAGGTCG-1  vis2grid            NaN   \n",
       "298914  AACACGTGCATCGCAC-1  GGTGCAACCATGAGGA-1  vis2grid            NaN   \n",
       "...                    ...                 ...       ...            ...   \n",
       "318463  TGTTGGCCAGACCTAC-1  GATGGACCTGGACGGA-1  vis2grid            NaN   \n",
       "318464  TGTTGGCCAGACCTAC-1  GGTAGCTTAGCCAATC-1  vis2grid            NaN   \n",
       "318465  TGTTGGCCAGACCTAC-1  TCATCTCCAACCACCT-1  vis2grid            NaN   \n",
       "318466  TGTTGGCCTACACGTG-1  AGGATCGAGCACCGCC-1  vis2grid            NaN   \n",
       "318467  TGTTGGCCTACACGTG-1  CACGTGCCAGAATTCT-1  vis2grid            NaN   \n",
       "\n",
       "       celltype_minor clone  \n",
       "298910            NaN   NaN  \n",
       "298911            NaN   NaN  \n",
       "298912            NaN   NaN  \n",
       "298913            NaN   NaN  \n",
       "298914            NaN   NaN  \n",
       "...               ...   ...  \n",
       "318463            NaN   NaN  \n",
       "318464            NaN   NaN  \n",
       "318465            NaN   NaN  \n",
       "318466            NaN   NaN  \n",
       "318467            NaN   NaN  \n",
       "\n",
       "[19558 rows x 6 columns]"
      ]
     },
     "execution_count": 112,
     "metadata": {},
     "output_type": "execute_result"
    }
   ],
   "source": [
    "edges_tmp[edges_tmp.type == \"vis2grid\"]"
   ]
  },
  {
   "cell_type": "code",
   "execution_count": 113,
   "metadata": {},
   "outputs": [
    {
     "data": {
      "text/html": [
       "<div>\n",
       "<style scoped>\n",
       "    .dataframe tbody tr th:only-of-type {\n",
       "        vertical-align: middle;\n",
       "    }\n",
       "\n",
       "    .dataframe tbody tr th {\n",
       "        vertical-align: top;\n",
       "    }\n",
       "\n",
       "    .dataframe thead th {\n",
       "        text-align: right;\n",
       "    }\n",
       "</style>\n",
       "<table border=\"1\" class=\"dataframe\">\n",
       "  <thead>\n",
       "    <tr style=\"text-align: right;\">\n",
       "      <th></th>\n",
       "      <th>node1</th>\n",
       "      <th>node2</th>\n",
       "      <th>type</th>\n",
       "      <th>celltype_major</th>\n",
       "      <th>celltype_minor</th>\n",
       "      <th>clone</th>\n",
       "    </tr>\n",
       "  </thead>\n",
       "  <tbody>\n",
       "    <tr>\n",
       "      <th>0</th>\n",
       "      <td>AAACAAGCAAACGGGA-1</td>\n",
       "      <td>AATTCTCAGACGCAAC-1</td>\n",
       "      <td>sc2vis</td>\n",
       "      <td>Myeloid</td>\n",
       "      <td>Macrophage</td>\n",
       "      <td>diploid</td>\n",
       "    </tr>\n",
       "    <tr>\n",
       "      <th>1</th>\n",
       "      <td>AAACAAGCAAACGGGA-1</td>\n",
       "      <td>AGCGACCGTTCTATAC-1</td>\n",
       "      <td>sc2vis</td>\n",
       "      <td>Myeloid</td>\n",
       "      <td>Macrophage</td>\n",
       "      <td>diploid</td>\n",
       "    </tr>\n",
       "    <tr>\n",
       "      <th>2</th>\n",
       "      <td>AAACAAGCAAACGGGA-1</td>\n",
       "      <td>CTTAGTGCGTTGACGC-1</td>\n",
       "      <td>sc2vis</td>\n",
       "      <td>Myeloid</td>\n",
       "      <td>Macrophage</td>\n",
       "      <td>diploid</td>\n",
       "    </tr>\n",
       "    <tr>\n",
       "      <th>3</th>\n",
       "      <td>AAACAAGCAAACGGGA-1</td>\n",
       "      <td>GCATACTAGCATCGAA-1</td>\n",
       "      <td>sc2vis</td>\n",
       "      <td>Myeloid</td>\n",
       "      <td>Macrophage</td>\n",
       "      <td>diploid</td>\n",
       "    </tr>\n",
       "    <tr>\n",
       "      <th>4</th>\n",
       "      <td>AAACAAGCAAACGGGA-1</td>\n",
       "      <td>GCCGATCGAGTGAAGT-1</td>\n",
       "      <td>sc2vis</td>\n",
       "      <td>Myeloid</td>\n",
       "      <td>Macrophage</td>\n",
       "      <td>diploid</td>\n",
       "    </tr>\n",
       "    <tr>\n",
       "      <th>...</th>\n",
       "      <td>...</td>\n",
       "      <td>...</td>\n",
       "      <td>...</td>\n",
       "      <td>...</td>\n",
       "      <td>...</td>\n",
       "      <td>...</td>\n",
       "    </tr>\n",
       "    <tr>\n",
       "      <th>318463</th>\n",
       "      <td>TGTTGGCCAGACCTAC-1</td>\n",
       "      <td>GATGGACCTGGACGGA-1</td>\n",
       "      <td>vis2grid</td>\n",
       "      <td>NaN</td>\n",
       "      <td>NaN</td>\n",
       "      <td>NaN</td>\n",
       "    </tr>\n",
       "    <tr>\n",
       "      <th>318464</th>\n",
       "      <td>TGTTGGCCAGACCTAC-1</td>\n",
       "      <td>GGTAGCTTAGCCAATC-1</td>\n",
       "      <td>vis2grid</td>\n",
       "      <td>NaN</td>\n",
       "      <td>NaN</td>\n",
       "      <td>NaN</td>\n",
       "    </tr>\n",
       "    <tr>\n",
       "      <th>318465</th>\n",
       "      <td>TGTTGGCCAGACCTAC-1</td>\n",
       "      <td>TCATCTCCAACCACCT-1</td>\n",
       "      <td>vis2grid</td>\n",
       "      <td>NaN</td>\n",
       "      <td>NaN</td>\n",
       "      <td>NaN</td>\n",
       "    </tr>\n",
       "    <tr>\n",
       "      <th>318466</th>\n",
       "      <td>TGTTGGCCTACACGTG-1</td>\n",
       "      <td>AGGATCGAGCACCGCC-1</td>\n",
       "      <td>vis2grid</td>\n",
       "      <td>NaN</td>\n",
       "      <td>NaN</td>\n",
       "      <td>NaN</td>\n",
       "    </tr>\n",
       "    <tr>\n",
       "      <th>318467</th>\n",
       "      <td>TGTTGGCCTACACGTG-1</td>\n",
       "      <td>CACGTGCCAGAATTCT-1</td>\n",
       "      <td>vis2grid</td>\n",
       "      <td>NaN</td>\n",
       "      <td>NaN</td>\n",
       "      <td>NaN</td>\n",
       "    </tr>\n",
       "  </tbody>\n",
       "</table>\n",
       "<p>318468 rows × 6 columns</p>\n",
       "</div>"
      ],
      "text/plain": [
       "                     node1               node2      type celltype_major   \n",
       "0       AAACAAGCAAACGGGA-1  AATTCTCAGACGCAAC-1    sc2vis        Myeloid  \\\n",
       "1       AAACAAGCAAACGGGA-1  AGCGACCGTTCTATAC-1    sc2vis        Myeloid   \n",
       "2       AAACAAGCAAACGGGA-1  CTTAGTGCGTTGACGC-1    sc2vis        Myeloid   \n",
       "3       AAACAAGCAAACGGGA-1  GCATACTAGCATCGAA-1    sc2vis        Myeloid   \n",
       "4       AAACAAGCAAACGGGA-1  GCCGATCGAGTGAAGT-1    sc2vis        Myeloid   \n",
       "...                    ...                 ...       ...            ...   \n",
       "318463  TGTTGGCCAGACCTAC-1  GATGGACCTGGACGGA-1  vis2grid            NaN   \n",
       "318464  TGTTGGCCAGACCTAC-1  GGTAGCTTAGCCAATC-1  vis2grid            NaN   \n",
       "318465  TGTTGGCCAGACCTAC-1  TCATCTCCAACCACCT-1  vis2grid            NaN   \n",
       "318466  TGTTGGCCTACACGTG-1  AGGATCGAGCACCGCC-1  vis2grid            NaN   \n",
       "318467  TGTTGGCCTACACGTG-1  CACGTGCCAGAATTCT-1  vis2grid            NaN   \n",
       "\n",
       "       celltype_minor    clone  \n",
       "0          Macrophage  diploid  \n",
       "1          Macrophage  diploid  \n",
       "2          Macrophage  diploid  \n",
       "3          Macrophage  diploid  \n",
       "4          Macrophage  diploid  \n",
       "...               ...      ...  \n",
       "318463            NaN      NaN  \n",
       "318464            NaN      NaN  \n",
       "318465            NaN      NaN  \n",
       "318466            NaN      NaN  \n",
       "318467            NaN      NaN  \n",
       "\n",
       "[318468 rows x 6 columns]"
      ]
     },
     "execution_count": 113,
     "metadata": {},
     "output_type": "execute_result"
    }
   ],
   "source": [
    "edges_tmp"
   ]
  },
  {
   "cell_type": "code",
   "execution_count": 116,
   "metadata": {},
   "outputs": [],
   "source": [
    "to_drop = np.where(edges_tmp[edges_tmp.type == \"sc2vis\"].celltype_major.isna() == True)[0]"
   ]
  },
  {
   "cell_type": "code",
   "execution_count": 118,
   "metadata": {},
   "outputs": [],
   "source": [
    "to_drop = edges_tmp[(edges_tmp.type == \"sc2vis\") & edges_tmp.celltype_major.isna()].index"
   ]
  },
  {
   "cell_type": "code",
   "execution_count": 119,
   "metadata": {},
   "outputs": [
    {
     "data": {
      "text/plain": [
       "Index([   250,    251,    252,    253,    254,    255,    256,    257,    258,\n",
       "          259,\n",
       "       ...\n",
       "       297690, 297691, 297692, 297693, 297694, 297695, 297696, 297697, 297698,\n",
       "       297699],\n",
       "      dtype='int64', length=8040)"
      ]
     },
     "execution_count": 119,
     "metadata": {},
     "output_type": "execute_result"
    }
   ],
   "source": [
    "\n",
    "\n"
   ]
  },
  {
   "cell_type": "code",
   "execution_count": 121,
   "metadata": {},
   "outputs": [],
   "source": [
    "edges_tmp = edges_tmp.drop(to_drop, axis=0)\n"
   ]
  },
  {
   "cell_type": "code",
   "execution_count": 122,
   "metadata": {},
   "outputs": [],
   "source": [
    "edges_tmp.to_csv(\"../data/interim/edges.csv\")"
   ]
  },
  {
   "cell_type": "code",
   "execution_count": 75,
   "metadata": {},
   "outputs": [],
   "source": [
    "emb_spatial.to_csv(\"../data/interim/embedding_visium_scvi.csv\")\n",
    "emb_rna.to_csv(\"../data/interim/embedding_rna2vis_scvi.csv\")"
   ]
  }
 ],
 "metadata": {
  "kernelspec": {
   "display_name": "torch_geo",
   "language": "python",
   "name": "python3"
  },
  "language_info": {
   "codemirror_mode": {
    "name": "ipython",
    "version": 3
   },
   "file_extension": ".py",
   "mimetype": "text/x-python",
   "name": "python",
   "nbconvert_exporter": "python",
   "pygments_lexer": "ipython3",
   "version": "3.8.15"
  }
 },
 "nbformat": 4,
 "nbformat_minor": 4
}
