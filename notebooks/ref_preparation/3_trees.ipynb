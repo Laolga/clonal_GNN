{
 "cells": [
  {
   "cell_type": "code",
   "execution_count": 1,
   "id": "3c179541-7f58-42eb-a7b6-b8939ab2d074",
   "metadata": {},
   "outputs": [
    {
     "name": "stderr",
     "output_type": "stream",
     "text": [
      "/omics/groups/OE0540/internal/B260/users/olga/.conda/envs/torch_geo/lib/python3.8/site-packages/tqdm/auto.py:22: TqdmWarning: IProgress not found. Please update jupyter and ipywidgets. See https://ipywidgets.readthedocs.io/en/stable/user_install.html\n",
      "  from .autonotebook import tqdm as notebook_tqdm\n"
     ]
    }
   ],
   "source": [
    "import scanpy as sc\n",
    "import pandas as pd\n",
    "import matplotlib.pyplot as plt\n",
    "import seaborn as sns\n",
    "import numpy as np\n",
    "from collections import Counter\n",
    "from matplotlib.colors import ListedColormap\n",
    "import matplotlib.patches as mpatches\n",
    "from scipy.sparse import csr_matrix\n",
    "from scipy.sparse.csgraph import minimum_spanning_tree\n",
    "\n",
    "import networkx as nx\n",
    "\n",
    "from scipy.spatial import distance\n",
    "def hierarchy_pos(G, root=None, width=1., vert_gap = 0.6, vert_loc = 0, xcenter = 0.5):\n",
    "\n",
    "    '''\n",
    "    From Joel's answer at https://stackoverflow.com/a/29597209/2966723.  \n",
    "    Licensed under Creative Commons Attribution-Share Alike \n",
    "    \n",
    "    If the graph is a tree this will return the positions to plot this in a \n",
    "    hierarchical layout.\n",
    "    \n",
    "    G: the graph (must be a tree)\n",
    "    \n",
    "    root: the root node of current branch \n",
    "    - if the tree is directed and this is not given, \n",
    "      the root will be found and used\n",
    "    - if the tree is directed and this is given, then \n",
    "      the positions will be just for the descendants of this node.\n",
    "    - if the tree is undirected and not given, \n",
    "      then a random choice will be used.\n",
    "    \n",
    "    width: horizontal space allocated for this branch - avoids overlap with other branches\n",
    "    \n",
    "    vert_gap: gap between levels of hierarchy\n",
    "    \n",
    "    vert_loc: vertical location of root\n",
    "    \n",
    "    xcenter: horizontal location of root\n",
    "    '''\n",
    "    if not nx.is_tree(G):\n",
    "        raise TypeError('cannot use hierarchy_pos on a graph that is not a tree')\n",
    "\n",
    "    if root is None:\n",
    "        if isinstance(G, nx.DiGraph):\n",
    "            root = next(iter(nx.topological_sort(G)))  #allows back compatibility with nx version 1.11\n",
    "        else:\n",
    "            root = random.choice(list(G.nodes))\n",
    "\n",
    "    def _hierarchy_pos(G, root, width=width, vert_gap = vert_gap, vert_loc = 0, xcenter = 0.5, pos = None, parent = None):\n",
    "        '''\n",
    "        see hierarchy_pos docstring for most arguments\n",
    "\n",
    "        pos: a dict saying where all nodes go if they have been assigned\n",
    "        parent: parent of this branch. - only affects it if non-directed\n",
    "\n",
    "        '''\n",
    "    \n",
    "        if pos is None:\n",
    "            pos = {root:(xcenter,vert_loc)}\n",
    "        else:\n",
    "            pos[root] = (xcenter, vert_loc)\n",
    "        children = list(G.neighbors(root))\n",
    "        if not isinstance(G, nx.DiGraph) and parent is not None:\n",
    "            children.remove(parent)  \n",
    "        if len(children)!=0:\n",
    "\n",
    "            dx = width/len(children) \n",
    "            nextx = xcenter - width/2 - dx/2\n",
    "            for child in children:\n",
    "                nextx += dx\n",
    "                pos = _hierarchy_pos(G,child, width = dx, vert_gap = vert_gap, \n",
    "                                    vert_loc = vert_loc-vert_gap, xcenter=nextx,\n",
    "                                    pos=pos, parent = root)\n",
    "        return pos\n",
    "\n",
    "            \n",
    "    return _hierarchy_pos(G, root, width, vert_gap, vert_loc, xcenter)"
   ]
  },
  {
   "cell_type": "code",
   "execution_count": 2,
   "id": "3e52b85f-06dc-4758-a7d4-08b10038407b",
   "metadata": {},
   "outputs": [],
   "source": [
    "clones = pd.read_csv(\"../data/interim/clones_over.csv\", index_col = 0)"
   ]
  },
  {
   "cell_type": "code",
   "execution_count": null,
   "id": "17dd4266-19fa-42cc-9048-34e625cc9ba7",
   "metadata": {},
   "outputs": [],
   "source": [
    "rna_cna = pd.read_csv(\"../data/interim/FRP_copykat_CNA_results.txt\", sep = \"\\t\", index_col = 2)\n"
   ]
  },
  {
   "cell_type": "code",
   "execution_count": null,
   "id": "31de544e-04b1-4c1d-b4cf-4daaf05fc58a",
   "metadata": {},
   "outputs": [],
   "source": [
    "chrom = pd.read_csv(\"../data/interim/FRP_copykat_CNA_results.txt\", sep = \"\\t\", usecols= [\"chrom\"])"
   ]
  },
  {
   "cell_type": "code",
   "execution_count": 4,
   "id": "f1f52fa8-ef09-43cc-88c8-abfb770d5355",
   "metadata": {},
   "outputs": [],
   "source": [
    "rna_cna = rna_cna.drop(columns = [\"chrom\",\"chrompos\"])\n",
    "rna_cna.columns = [x.replace(\".\",\"-\") for x in rna_cna.columns]\n",
    "rna_cna = rna_cna.T"
   ]
  },
  {
   "cell_type": "code",
   "execution_count": 5,
   "id": "8e884327-69ef-46aa-9f2e-c85065074102",
   "metadata": {},
   "outputs": [],
   "source": [
    "rna_cna = rna_cna.loc[clones.index]"
   ]
  },
  {
   "cell_type": "code",
   "execution_count": 14,
   "id": "ac1d550c-6ca5-4289-a2e4-3dca94d3f14c",
   "metadata": {},
   "outputs": [],
   "source": [
    "chrom.index = rna_cna.columns"
   ]
  },
  {
   "cell_type": "code",
   "execution_count": 15,
   "id": "5e79bd7c-f158-4299-8bc8-e1cdaf9a6553",
   "metadata": {},
   "outputs": [],
   "source": [
    "import PyComplexHeatmap\n",
    "from PyComplexHeatmap import *\n",
    "import logging\n",
    "logging.getLogger('matplotlib.font_manager').disabled = True"
   ]
  },
  {
   "cell_type": "code",
   "execution_count": 16,
   "id": "3e9c8cbd-7c3c-4f85-8a7f-51ab0a4cf7ad",
   "metadata": {},
   "outputs": [],
   "source": [
    "col = {'1': '#999993',\n",
    " '2': '#eeeee4',\n",
    " '3': '#999993',\n",
    " '4': '#eeeee4',\n",
    " '5': '#999993',\n",
    " '6': '#eeeee4',\n",
    " '7': '#999993',\n",
    " '8': '#eeeee4',\n",
    " '9': '#999993',\n",
    " '10': '#eeeee4',\n",
    " '11': '#999993',\n",
    " '12': '#eeeee4',\n",
    " '13': '#999993',\n",
    " '14': '#eeeee4',\n",
    " '15': '#999993',\n",
    " '16': '#eeeee4',\n",
    " '17': '#999993',\n",
    " '18': '#eeeee4',\n",
    " '19': '#999993',\n",
    " '20': '#eeeee4',\n",
    "'21': '#999993',\n",
    "'22': '#eeeee4',\n",
    " 'X': '#999993',\n",
    " 'Y': '#eeeee4'}"
   ]
  },
  {
   "cell_type": "code",
   "execution_count": 19,
   "id": "bad0a37f-d72b-4108-b1a2-d53d496a797f",
   "metadata": {},
   "outputs": [
    {
     "data": {
      "image/png": "[encoded data removed]",
      "text/html": [
       "<div style=\"vertical-align: middle;\"><strong>from_list</strong> </div><div class=\"cmap\"><img alt=\"from_list colormap\" title=\"from_list\" style=\"border: 1px solid #555;\" src=\"data:image/png;base64,iVBORw0KGgoAAAANSUhEUgAAAgAAAABACAYAAABsv8+/AAAAGHRFWHRUaXRsZQBmcm9tX2xpc3QgY29sb3JtYXBDL89FAAAAHnRFWHREZXNjcmlwdGlvbgBmcm9tX2xpc3QgY29sb3JtYXABtCnOAAAAMHRFWHRBdXRob3IATWF0cGxvdGxpYiB2My43LjEsIGh0dHBzOi8vbWF0cGxvdGxpYi5vcmcqr/hNAAAAMnRFWHRTb2Z0d2FyZQBNYXRwbG90bGliIHYzLjcuMSwgaHR0cHM6Ly9tYXRwbG90bGliLm9yZwQJZ2oAAAFNSURBVHic7dbBDQFAAABBNOGvA/H2VJNKlCOnGVEGDZyvk+xMBfvc7fX2eG/4S5fjfnUCE+fTYXUCE69xX53AxHOM1Ql8sVsdAAD8ngEAgCADAABBBgAAggwAAAQZAAAIMgAAEGQAACDIAABAkAEAgCADAABBBgAAggwAAAQZAAAIMgAAEGQAACDIAABAkAEAgCADAABBBgAAggwAAAQZAAAIMgAAEGQAACDIAABAkAEAgCADAABBBgAAggwAAAQZAAAIMgAAEGQAACDIAABAkAEAgCADAABBBgAAggwAAAQZAAAIMgAAEGQAACDIAABAkAEAgCADAABBBgAAggwAAAQZAAAIMgAAEGQAACDIAABAkAEAgCADAABBBgAAggwAAAQZAAAIMgAAEGQAACDIAABAkAEAgCADAABBBgAAggwAAAQZAAAIMgAAEPQBybcJMDCSk88AAAAASUVORK5CYII=\"></div><div style=\"vertical-align: middle; max-width: 514px; display: flex; justify-content: space-between;\"><div style=\"float: left;\"><div title=\"#7896c1ff\" style=\"display: inline-block; width: 1em; height: 1em; margin: 0; vertical-align: middle; border: 1px solid #555; background-color: #7896c1ff;\"></div> under</div><div style=\"margin: 0 auto; display: inline-block;\">bad <div title=\"#00000000\" style=\"display: inline-block; width: 1em; height: 1em; margin: 0; vertical-align: middle; border: 1px solid #555; background-color: #00000000;\"></div></div><div style=\"float: right;\">over <div title=\"#c67875ff\" style=\"display: inline-block; width: 1em; height: 1em; margin: 0; vertical-align: middle; border: 1px solid #555; background-color: #c67875ff;\"></div></div>"
      ],
      "text/plain": [
       "<matplotlib.colors.ListedColormap at 0x7f42e94fea30>"
      ]
     },
     "execution_count": 19,
     "metadata": {},
     "output_type": "execute_result"
    }
   ],
   "source": [
    "newcmp = list(sns.color_palette(\"vlag\",5))\n",
    "newcmp[2] = \"#F9F9F9\"\n",
    "newcmp = ListedColormap(newcmp)   \n",
    "newcmp"
   ]
  },
  {
   "cell_type": "code",
   "execution_count": 20,
   "id": "7cb87e09-95fc-45bd-abb8-24353ffea81c",
   "metadata": {},
   "outputs": [
    {
     "name": "stdout",
     "output_type": "stream",
     "text": [
      "Starting plotting..\n",
      "Starting calculating row orders..\n",
      "Reordering rows..\n",
      "Starting calculating col orders..\n",
      "Reordering cols..\n",
      "Plotting matrix..\n",
      "Starting plotting HeatmapAnnotations\n"
     ]
    },
    {
     "ename": "KeyError",
     "evalue": "1",
     "output_type": "error",
     "traceback": [
      "\u001b[0;31m---------------------------------------------------------------------------\u001b[0m",
      "\u001b[0;31mKeyError\u001b[0m                                  Traceback (most recent call last)",
      "Input \u001b[0;32mIn [20]\u001b[0m, in \u001b[0;36m<cell line: 7>\u001b[0;34m()\u001b[0m\n\u001b[1;32m      3\u001b[0m col_ha \u001b[38;5;241m=\u001b[39m HeatmapAnnotation(chrom \u001b[38;5;241m=\u001b[39m anno_simple(chrom\u001b[38;5;241m.\u001b[39mchrom,add_text\u001b[38;5;241m=\u001b[39m\u001b[38;5;28;01mTrue\u001b[39;00m, colors \u001b[38;5;241m=\u001b[39m col, text_kws \u001b[38;5;241m=\u001b[39m{\u001b[38;5;124m\"\u001b[39m\u001b[38;5;124mcolor\u001b[39m\u001b[38;5;124m\"\u001b[39m: \u001b[38;5;124m\"\u001b[39m\u001b[38;5;124mblack\u001b[39m\u001b[38;5;124m\"\u001b[39m} ),\n\u001b[1;32m      4\u001b[0m                            plot_legend \u001b[38;5;241m=\u001b[39m \u001b[38;5;28;01mFalse\u001b[39;00m, axis \u001b[38;5;241m=\u001b[39m \u001b[38;5;241m1\u001b[39m, plot \u001b[38;5;241m=\u001b[39m \u001b[38;5;28;01mFalse\u001b[39;00m)\n\u001b[1;32m      5\u001b[0m row_ha \u001b[38;5;241m=\u001b[39m HeatmapAnnotation(assay \u001b[38;5;241m=\u001b[39m anno_simple(clones\u001b[38;5;241m.\u001b[39mleiden,add_text\u001b[38;5;241m=\u001b[39m\u001b[38;5;28;01mTrue\u001b[39;00m,legend_kws\u001b[38;5;241m=\u001b[39m{\u001b[38;5;124m'\u001b[39m\u001b[38;5;124mframeon\u001b[39m\u001b[38;5;124m'\u001b[39m:\u001b[38;5;28;01mFalse\u001b[39;00m},text_kws\u001b[38;5;241m=\u001b[39m{\u001b[38;5;124m'\u001b[39m\u001b[38;5;124mfontsize\u001b[39m\u001b[38;5;124m'\u001b[39m:\u001b[38;5;241m10\u001b[39m} ),plot_legend \u001b[38;5;241m=\u001b[39m \u001b[38;5;28;01mFalse\u001b[39;00m,\n\u001b[1;32m      6\u001b[0m                           axis \u001b[38;5;241m=\u001b[39m \u001b[38;5;241m0\u001b[39m,label_kws \u001b[38;5;241m=\u001b[39m {\u001b[38;5;124m'\u001b[39m\u001b[38;5;124mvisible\u001b[39m\u001b[38;5;124m'\u001b[39m:\u001b[38;5;28;01mFalse\u001b[39;00m}, legend_width \u001b[38;5;241m=\u001b[39m \u001b[38;5;241m2\u001b[39m, hgap \u001b[38;5;241m=\u001b[39m\u001b[38;5;241m0.01\u001b[39m, plot \u001b[38;5;241m=\u001b[39m \u001b[38;5;28;01mFalse\u001b[39;00m)\n\u001b[0;32m----> 7\u001b[0m cm1 \u001b[38;5;241m=\u001b[39m \u001b[43mClusterMapPlotter\u001b[49m\u001b[43m(\u001b[49m\u001b[43mdata\u001b[49m\u001b[38;5;241;43m=\u001b[39;49m\u001b[43mrna_cna\u001b[49m\u001b[43m,\u001b[49m\u001b[43mrow_dendrogram\u001b[49m\u001b[38;5;241;43m=\u001b[39;49m\u001b[38;5;28;43;01mTrue\u001b[39;49;00m\u001b[43m,\u001b[49m\u001b[43mshow_rownames\u001b[49m\u001b[38;5;241;43m=\u001b[39;49m\u001b[38;5;28;43;01mFalse\u001b[39;49;00m\u001b[43m,\u001b[49m\u001b[43mshow_colnames\u001b[49m\u001b[38;5;241;43m=\u001b[39;49m\u001b[38;5;28;43;01mFalse\u001b[39;49;00m\u001b[43m,\u001b[49m\u001b[43mtop_annotation\u001b[49m\u001b[43m \u001b[49m\u001b[38;5;241;43m=\u001b[39;49m\u001b[43m \u001b[49m\u001b[43mcol_ha\u001b[49m\u001b[43m,\u001b[49m\n\u001b[1;32m      8\u001b[0m \u001b[43m                       \u001b[49m\u001b[43mrow_cluster_metric\u001b[49m\u001b[43m \u001b[49m\u001b[38;5;241;43m=\u001b[39;49m\u001b[43m \u001b[49m\u001b[38;5;124;43m\"\u001b[39;49m\u001b[38;5;124;43meuclidean\u001b[39;49m\u001b[38;5;124;43m\"\u001b[39;49m\u001b[43m,\u001b[49m\u001b[43mcol_cluster\u001b[49m\u001b[43m \u001b[49m\u001b[38;5;241;43m=\u001b[39;49m\u001b[43m \u001b[49m\u001b[38;5;28;43;01mFalse\u001b[39;49;00m\u001b[43m,\u001b[49m\n\u001b[1;32m      9\u001b[0m \u001b[43m                      \u001b[49m\u001b[43mrow_cluster\u001b[49m\u001b[43m \u001b[49m\u001b[38;5;241;43m=\u001b[39;49m\u001b[43m \u001b[49m\u001b[38;5;28;43;01mTrue\u001b[39;49;00m\u001b[43m,\u001b[49m\u001b[43m \u001b[49m\u001b[43mlabel\u001b[49m\u001b[38;5;241;43m=\u001b[39;49m\u001b[38;5;124;43m'\u001b[39;49m\u001b[38;5;124;43mlog ratio\u001b[39;49m\u001b[38;5;124;43m'\u001b[39;49m\u001b[43m,\u001b[49m\u001b[43m \u001b[49m\u001b[43mcmap\u001b[49m\u001b[43m \u001b[49m\u001b[38;5;241;43m=\u001b[39;49m\u001b[43m \u001b[49m\u001b[43mnewcmp\u001b[49m\u001b[43m,\u001b[49m\u001b[43m \u001b[49m\u001b[43mright_annotation\u001b[49m\u001b[43m \u001b[49m\u001b[38;5;241;43m=\u001b[39;49m\u001b[43m \u001b[49m\u001b[43mrow_ha\u001b[49m\u001b[43m)\u001b[49m\n\u001b[1;32m     12\u001b[0m plt\u001b[38;5;241m.\u001b[39mshow()\n",
      "File \u001b[0;32m/omics/groups/OE0540/internal/B260/users/olga/.conda/envs/torch_geo/lib/python3.8/site-packages/PyComplexHeatmap/clustermap.py:880\u001b[0m, in \u001b[0;36mClusterMapPlotter.__init__\u001b[0;34m(self, data, z_score, standard_scale, top_annotation, bottom_annotation, left_annotation, right_annotation, row_cluster, col_cluster, row_cluster_method, row_cluster_metric, col_cluster_method, col_cluster_metric, show_rownames, show_colnames, row_names_side, col_names_side, row_dendrogram, col_dendrogram, row_dendrogram_size, col_dendrogram_size, row_split, col_split, dendrogram_kws, tree_kws, row_split_order, col_split_order, row_split_gap, col_split_gap, mask, subplot_gap, legend, legend_kws, plot, plot_legend, legend_anchor, legend_gap, legend_width, legend_hpad, legend_vpad, legend_side, cmap, label, xticklabels_kws, yticklabels_kws, rasterized, legend_delta_x, verbose, **kwargs)\u001b[0m\n\u001b[1;32m    878\u001b[0m \u001b[38;5;28mself\u001b[39m\u001b[38;5;241m.\u001b[39mlegend_delta_x\u001b[38;5;241m=\u001b[39mlegend_delta_x\n\u001b[1;32m    879\u001b[0m \u001b[38;5;28;01mif\u001b[39;00m plot:\n\u001b[0;32m--> 880\u001b[0m     \u001b[38;5;28;43mself\u001b[39;49m\u001b[38;5;241;43m.\u001b[39;49m\u001b[43mplot\u001b[49m\u001b[43m(\u001b[49m\u001b[43m)\u001b[49m\n\u001b[1;32m    881\u001b[0m     \u001b[38;5;28;01mif\u001b[39;00m plot_legend:\n\u001b[1;32m    882\u001b[0m         \u001b[38;5;28;01mif\u001b[39;00m legend_anchor\u001b[38;5;241m==\u001b[39m\u001b[38;5;124m'\u001b[39m\u001b[38;5;124mauto\u001b[39m\u001b[38;5;124m'\u001b[39m:\n",
      "File \u001b[0;32m/omics/groups/OE0540/internal/B260/users/olga/.conda/envs/torch_geo/lib/python3.8/site-packages/PyComplexHeatmap/clustermap.py:1465\u001b[0m, in \u001b[0;36mClusterMapPlotter.plot\u001b[0;34m(self, ax, subplot_spec, row_order, col_order)\u001b[0m\n\u001b[1;32m   1463\u001b[0m     gs \u001b[38;5;241m=\u001b[39m \u001b[38;5;28mself\u001b[39m\u001b[38;5;241m.\u001b[39mgs[\u001b[38;5;241m0\u001b[39m, \u001b[38;5;241m1\u001b[39m] \u001b[38;5;28;01mif\u001b[39;00m \u001b[38;5;129;01mnot\u001b[39;00m \u001b[38;5;28mself\u001b[39m\u001b[38;5;241m.\u001b[39mcol_dendrogram \u001b[38;5;28;01melse\u001b[39;00m \u001b[38;5;28mself\u001b[39m\u001b[38;5;241m.\u001b[39mtop_gs[\u001b[38;5;241m1\u001b[39m, \u001b[38;5;241m0\u001b[39m]\n\u001b[1;32m   1464\u001b[0m     \u001b[38;5;28mself\u001b[39m\u001b[38;5;241m.\u001b[39mtop_annotation\u001b[38;5;241m.\u001b[39m_set_orentation(\u001b[38;5;124m'\u001b[39m\u001b[38;5;124mup\u001b[39m\u001b[38;5;124m'\u001b[39m)\n\u001b[0;32m-> 1465\u001b[0m     \u001b[38;5;28;43mself\u001b[39;49m\u001b[38;5;241;43m.\u001b[39;49m\u001b[43mtop_annotation\u001b[49m\u001b[38;5;241;43m.\u001b[39;49m\u001b[43mplot_annotations\u001b[49m\u001b[43m(\u001b[49m\u001b[43max\u001b[49m\u001b[38;5;241;43m=\u001b[39;49m\u001b[38;5;28;43mself\u001b[39;49m\u001b[38;5;241;43m.\u001b[39;49m\u001b[43max_top_annotation\u001b[49m\u001b[43m,\u001b[49m\u001b[43m \u001b[49m\u001b[43msubplot_spec\u001b[49m\u001b[38;5;241;43m=\u001b[39;49m\u001b[43mgs\u001b[49m\u001b[43m,\u001b[49m\n\u001b[1;32m   1466\u001b[0m \u001b[43m                                         \u001b[49m\u001b[43midxs\u001b[49m\u001b[38;5;241;43m=\u001b[39;49m\u001b[43mcol_order\u001b[49m\u001b[43m,\u001b[49m\u001b[43m \u001b[49m\u001b[43mwspace\u001b[49m\u001b[38;5;241;43m=\u001b[39;49m\u001b[38;5;28;43mself\u001b[39;49m\u001b[38;5;241;43m.\u001b[39;49m\u001b[43mwspace\u001b[49m\u001b[43m)\u001b[49m\n\u001b[1;32m   1467\u001b[0m \u001b[38;5;28;01mif\u001b[39;00m \u001b[38;5;129;01mnot\u001b[39;00m \u001b[38;5;28mself\u001b[39m\u001b[38;5;241m.\u001b[39mbottom_annotation \u001b[38;5;129;01mis\u001b[39;00m \u001b[38;5;28;01mNone\u001b[39;00m:\n\u001b[1;32m   1468\u001b[0m     \u001b[38;5;28mself\u001b[39m\u001b[38;5;241m.\u001b[39mbottom_annotation\u001b[38;5;241m.\u001b[39m_set_orentation(\u001b[38;5;124m'\u001b[39m\u001b[38;5;124mdown\u001b[39m\u001b[38;5;124m'\u001b[39m)\n",
      "File \u001b[0;32m/omics/groups/OE0540/internal/B260/users/olga/.conda/envs/torch_geo/lib/python3.8/site-packages/PyComplexHeatmap/annotations.py:1310\u001b[0m, in \u001b[0;36mHeatmapAnnotation.plot_annotations\u001b[0;34m(self, ax, subplot_spec, idxs, wspace, hspace)\u001b[0m\n\u001b[1;32m   1308\u001b[0m \u001b[38;5;28;01melse\u001b[39;00m:\n\u001b[1;32m   1309\u001b[0m     ax1\u001b[38;5;241m.\u001b[39mset_ylim([\u001b[38;5;241m0\u001b[39m, \u001b[38;5;28mlen\u001b[39m(idx)])\n\u001b[0;32m-> 1310\u001b[0m \u001b[43mann\u001b[49m\u001b[38;5;241;43m.\u001b[39;49m\u001b[43mplot\u001b[49m\u001b[43m(\u001b[49m\u001b[43max\u001b[49m\u001b[38;5;241;43m=\u001b[39;49m\u001b[43max1\u001b[49m\u001b[43m,\u001b[49m\u001b[43m \u001b[49m\u001b[43maxis\u001b[49m\u001b[38;5;241;43m=\u001b[39;49m\u001b[38;5;28;43mself\u001b[39;49m\u001b[38;5;241;43m.\u001b[39;49m\u001b[43maxis\u001b[49m\u001b[43m,\u001b[49m\u001b[43m \u001b[49m\u001b[43msubplot_spec\u001b[49m\u001b[38;5;241;43m=\u001b[39;49m\u001b[43mgs\u001b[49m\u001b[43m)\u001b[49m\n\u001b[1;32m   1311\u001b[0m \u001b[38;5;28;01mif\u001b[39;00m \u001b[38;5;28mself\u001b[39m\u001b[38;5;241m.\u001b[39maxis \u001b[38;5;241m==\u001b[39m \u001b[38;5;241m1\u001b[39m:\n\u001b[1;32m   1312\u001b[0m     \u001b[38;5;66;03m# ax1.yaxis.set_visible(False)\u001b[39;00m\n\u001b[1;32m   1313\u001b[0m     ax1\u001b[38;5;241m.\u001b[39myaxis\u001b[38;5;241m.\u001b[39mlabel\u001b[38;5;241m.\u001b[39mset_visible(\u001b[38;5;28;01mFalse\u001b[39;00m)\n",
      "File \u001b[0;32m/omics/groups/OE0540/internal/B260/users/olga/.conda/envs/torch_geo/lib/python3.8/site-packages/PyComplexHeatmap/annotations.py:318\u001b[0m, in \u001b[0;36manno_simple.plot\u001b[0;34m(self, ax, axis, subplot_spec, label_kws, ticklabels_kws)\u001b[0m\n\u001b[1;32m    315\u001b[0m color \u001b[38;5;241m=\u001b[39m \u001b[38;5;28mself\u001b[39m\u001b[38;5;241m.\u001b[39mtext_kws\u001b[38;5;241m.\u001b[39mpop(\u001b[38;5;124m'\u001b[39m\u001b[38;5;124mcolor\u001b[39m\u001b[38;5;124m'\u001b[39m, \u001b[38;5;28;01mNone\u001b[39;00m)\n\u001b[1;32m    316\u001b[0m \u001b[38;5;28;01mfor\u001b[39;00m x0, y0, t \u001b[38;5;129;01min\u001b[39;00m \u001b[38;5;28mzip\u001b[39m(x, y, labels):\n\u001b[1;32m    317\u001b[0m     \u001b[38;5;66;03m# print(t,self.color_dict)\u001b[39;00m\n\u001b[0;32m--> 318\u001b[0m     lum \u001b[38;5;241m=\u001b[39m _calculate_luminance(\u001b[38;5;28;43mself\u001b[39;49m\u001b[38;5;241;43m.\u001b[39;49m\u001b[43mcolor_dict\u001b[49m\u001b[43m[\u001b[49m\u001b[43mt\u001b[49m\u001b[43m]\u001b[49m)\n\u001b[1;32m    319\u001b[0m     \u001b[38;5;28;01mif\u001b[39;00m color \u001b[38;5;129;01mis\u001b[39;00m \u001b[38;5;28;01mNone\u001b[39;00m:\n\u001b[1;32m    320\u001b[0m         text_color \u001b[38;5;241m=\u001b[39m \u001b[38;5;124m\"\u001b[39m\u001b[38;5;124mblack\u001b[39m\u001b[38;5;124m\"\u001b[39m \u001b[38;5;28;01mif\u001b[39;00m lum \u001b[38;5;241m>\u001b[39m \u001b[38;5;241m0.408\u001b[39m \u001b[38;5;28;01melse\u001b[39;00m \u001b[38;5;124m\"\u001b[39m\u001b[38;5;124mwhite\u001b[39m\u001b[38;5;124m\"\u001b[39m\n",
      "\u001b[0;31mKeyError\u001b[0m: 1"
     ]
    },
    {
     "data": {
      "image/png": "[encoded data removed]",
      "text/plain": [
       "<Figure size 1368x864 with 8 Axes>"
      ]
     },
     "metadata": {
      "needs_background": "light"
     },
     "output_type": "display_data"
    }
   ],
   "source": [
    "plt.figure(figsize=(19, 12))\n",
    "\n",
    "col_ha = HeatmapAnnotation(chrom = anno_simple(chrom.chrom,add_text=True, colors = col, text_kws ={\"color\": \"black\"} ),\n",
    "                           plot_legend = False, axis = 1, plot = False)\n",
    "row_ha = HeatmapAnnotation(assay = anno_simple(clones.leiden,add_text=True,legend_kws={'frameon':False},text_kws={'fontsize':10} ),plot_legend = False,\n",
    "                          axis = 0,label_kws = {'visible':False}, legend_width = 2, hgap =0.01, plot = False)\n",
    "cm1 = ClusterMapPlotter(data=rna_cna,row_dendrogram=True,show_rownames=False,show_colnames=False,top_annotation = col_ha,\n",
    "                       row_cluster_metric = \"euclidean\",col_cluster = False,\n",
    "                      row_cluster = True, label='log ratio', cmap = newcmp, right_annotation = row_ha)\n",
    "\n",
    "\n",
    "plt.show()"
   ]
  },
  {
   "cell_type": "code",
   "execution_count": 7,
   "id": "afd1ebb1-9fc1-4154-b225-bdbd43ebf649",
   "metadata": {},
   "outputs": [],
   "source": [
    "clones = clones.leiden"
   ]
  },
  {
   "cell_type": "code",
   "execution_count": 11,
   "id": "a01db033-2655-4149-a008-5a1299a52fd0",
   "metadata": {},
   "outputs": [],
   "source": [
    "cons_sc = []\n",
    "sc_clone_size = {}\n",
    "for cl in range(len(set(clones))):\n",
    "    idx = np.where(clones == cl)[0]\n",
    "    values = rna_cna.iloc[idx]\n",
    "    values = values.median().values\n",
    "    cons_sc.append(values)\n",
    "    sc_clone_size[cl] = len(idx)"
   ]
  },
  {
   "cell_type": "code",
   "execution_count": 33,
   "id": "e8b2c2ef-8286-47ec-9147-6f53789065e6",
   "metadata": {},
   "outputs": [
    {
     "data": {
      "text/plain": [
       "{0: 879,\n",
       " 1: 782,\n",
       " 2: 763,\n",
       " 3: 689,\n",
       " 4: 655,\n",
       " 5: 580,\n",
       " 6: 537,\n",
       " 7: 493,\n",
       " 8: 490,\n",
       " 9: 456,\n",
       " 10: 433,\n",
       " 11: 425,\n",
       " 12: 372,\n",
       " 13: 331,\n",
       " 14: 329,\n",
       " 15: 320,\n",
       " 16: 320,\n",
       " 17: 317,\n",
       " 18: 262,\n",
       " 19: 229,\n",
       " 20: 214,\n",
       " 21: 203,\n",
       " 22: 202,\n",
       " 23: 197,\n",
       " 24: 106,\n",
       " 25: 87,\n",
       " 26: 50}"
      ]
     },
     "execution_count": 33,
     "metadata": {},
     "output_type": "execute_result"
    }
   ],
   "source": [
    "sc_clone_size"
   ]
  },
  {
   "cell_type": "code",
   "execution_count": 12,
   "id": "9f943ed1-64dc-49fa-abe3-1e0acbc0c40e",
   "metadata": {},
   "outputs": [],
   "source": [
    "cons_sc = pd.DataFrame(cons_sc, columns = rna_cna.columns)"
   ]
  },
  {
   "cell_type": "code",
   "execution_count": 13,
   "id": "b068a3c4-1ab7-44dc-a6b6-20cd15c5d90d",
   "metadata": {},
   "outputs": [],
   "source": [
    "cons = cons_sc.T.copy()\n",
    "diploid_id = cons.columns[-1]+1\n",
    "cons[diploid_id] = 0\n",
    "cons = cons.T\n",
    "n_clusters = cons.shape[0]\n",
    "X = np.zeros((n_clusters, n_clusters))\n",
    "for c1 in range(n_clusters):\n",
    "    cells1 = cons.loc[c1]\n",
    "    for c2 in range(n_clusters):\n",
    "\n",
    "        cells2 =  cons.loc[c2]\n",
    "        dist = np.linalg.norm(cells1-cells2)\n",
    "        X[c1,c2] = dist\n",
    "        if c1 != c2 and dist ==0:\n",
    "            dist = 1e-06\n",
    "            X[c1,c2] = dist"
   ]
  },
  {
   "cell_type": "code",
   "execution_count": 14,
   "id": "43557e16-534e-4945-a426-4417d1642b3a",
   "metadata": {},
   "outputs": [],
   "source": [
    "X = np.tril(X, -1)\n",
    "X = csr_matrix(X)\n",
    "Tcsr = minimum_spanning_tree(X)\n",
    "tree = Tcsr.toarray().astype(int)"
   ]
  },
  {
   "cell_type": "code",
   "execution_count": 29,
   "id": "b771d335-b4a6-4fa4-85e3-f8e37fdb9990",
   "metadata": {},
   "outputs": [],
   "source": [
    "G = nx.Graph()\n",
    "root = diploid_id\n",
    "\n",
    "for i in range(np.shape(tree)[0]):\n",
    "    for j in range(i+1,np.shape(tree)[0]):\n",
    "        if tree[j,i]>0:\n",
    "            if i == diploid_id:\n",
    "                node_i_l = \"sudo root\"\n",
    "                node_j_l = f\"clone {j}\"\n",
    "            elif j == diploid_id:\n",
    "                node_j_l = \"sudo root\"\n",
    "                node_i_l = f\"clone {i}\"\n",
    "            else:\n",
    "                node_i_l = f\"clone {i}\"\n",
    "                node_j_l = f\"clone {j}\"\n",
    "\n",
    "            G.add_node(i)\n",
    "            G.add_node(j)\n",
    "\n",
    "            G.add_edge(i,j)\n",
    "\n",
    "\n",
    "#colors = [node_colors.to_dict()[i] for i in G.nodes]\n",
    "mapping = {x:f\"{x}\" if x !=diploid_id else \"pseudo root\" for x in G.nodes}\n",
    "H = nx.relabel_nodes(G, mapping)\n"
   ]
  },
  {
   "cell_type": "code",
   "execution_count": 80,
   "id": "cd8315c0-0945-4e2e-b589-2e0166bf05c1",
   "metadata": {},
   "outputs": [
    {
     "data": {
      "image/png": "[encoded data removed]",
      "text/plain": [
       "<Figure size 864x432 with 1 Axes>"
      ]
     },
     "metadata": {},
     "output_type": "display_data"
    }
   ],
   "source": [
    "pos = hierarchy_pos(H,\"pseudo root\", vert_gap = 5, width = 10)  \n",
    "fig = plt.figure(figsize = (12,6))\n",
    "ax = fig.add_subplot(1,1,1)\n",
    "nx.draw(H,pos, with_labels=True, node_size = 0, ax = ax )"
   ]
  },
  {
   "cell_type": "code",
   "execution_count": 90,
   "id": "fdddf5c3-02da-4e44-8efc-42173ce22d46",
   "metadata": {},
   "outputs": [],
   "source": [
    "sg = H.subgraph([\"8\",\"10\",\"14\",\"19\", \"pseudo root\"])"
   ]
  },
  {
   "cell_type": "code",
   "execution_count": 91,
   "id": "bf9478cb-bbb5-4540-93a9-fc2d620545af",
   "metadata": {},
   "outputs": [
    {
     "data": {
      "image/png": "[encoded data removed]",
      "text/plain": [
       "<Figure size 864x432 with 1 Axes>"
      ]
     },
     "metadata": {},
     "output_type": "display_data"
    }
   ],
   "source": [
    "fig = plt.figure(figsize = (12,6))\n",
    "ax = fig.add_subplot(1,1,1)\n",
    "nx.draw(sg,pos, with_labels=True, node_size = 0, ax = ax )"
   ]
  },
  {
   "cell_type": "code",
   "execution_count": 51,
   "id": "4cdb0a64-d813-4625-bc7f-8186d11d9dae",
   "metadata": {},
   "outputs": [],
   "source": [
    "def hierarchy(G, root=None):\n",
    "\n",
    "    if not nx.is_tree(G):\n",
    "        raise TypeError('cannot use hierarchy_pos on a graph that is not a tree')\n",
    "\n",
    "    if root is None:\n",
    "        if isinstance(G, nx.DiGraph):\n",
    "            root = next(iter(nx.topological_sort(G)))  #allows back compatibility with nx version 1.11\n",
    "        else:\n",
    "            root = random.choice(list(G.nodes))\n",
    "\n",
    "    def _hierarchy_pos(G, root,parent = None, pos = None):\n",
    "    \n",
    "        if pos is None:\n",
    "            pos = {root:set()}\n",
    "        if root not in pos:\n",
    "            pos[root] = set()\n",
    "        children = list(G.neighbors(root))\n",
    "        if not isinstance(G, nx.DiGraph) and parent is not None:\n",
    "            children.remove(parent)  \n",
    "        if len(children)!=0:\n",
    "            for child in children:\n",
    "                pos[root].add(child)\n",
    "                pos = _hierarchy_pos(G,child,\n",
    "                                    pos=pos, parent = root)\n",
    "        return pos\n",
    "\n",
    "            \n",
    "    return _hierarchy_pos(G, root)"
   ]
  },
  {
   "cell_type": "code",
   "execution_count": 52,
   "id": "8375d846-2813-4051-bdb7-f87ae9c91bfb",
   "metadata": {},
   "outputs": [],
   "source": [
    "branches = hierarchy(H,\"pseudo root\")"
   ]
  },
  {
   "cell_type": "code",
   "execution_count": 73,
   "id": "73b9d772-eb87-4620-a0fd-765adebd1f78",
   "metadata": {},
   "outputs": [
    {
     "name": "stdout",
     "output_type": "stream",
     "text": [
      "27\n"
     ]
    }
   ],
   "source": [
    "print(len(branches['pseudo root']))\n",
    "for key in branches:\n",
    "    children = list(branches[key])\n",
    "    for child in children:\n",
    "        branches[key] = branches[key].union(branches[child])"
   ]
  },
  {
   "cell_type": "code",
   "execution_count": 74,
   "id": "e40ad6f1-3223-4554-a4f9-96ec87b180fe",
   "metadata": {},
   "outputs": [
    {
     "data": {
      "text/plain": [
       "{'pseudo root': {'0',\n",
       "  '1',\n",
       "  '10',\n",
       "  '11',\n",
       "  '12',\n",
       "  '13',\n",
       "  '14',\n",
       "  '15',\n",
       "  '16',\n",
       "  '17',\n",
       "  '18',\n",
       "  '19',\n",
       "  '2',\n",
       "  '20',\n",
       "  '21',\n",
       "  '22',\n",
       "  '23',\n",
       "  '24',\n",
       "  '25',\n",
       "  '26',\n",
       "  '3',\n",
       "  '4',\n",
       "  '5',\n",
       "  '6',\n",
       "  '7',\n",
       "  '8',\n",
       "  '9'},\n",
       " '8': {'0',\n",
       "  '1',\n",
       "  '11',\n",
       "  '12',\n",
       "  '13',\n",
       "  '15',\n",
       "  '16',\n",
       "  '17',\n",
       "  '18',\n",
       "  '2',\n",
       "  '20',\n",
       "  '21',\n",
       "  '22',\n",
       "  '23',\n",
       "  '24',\n",
       "  '25',\n",
       "  '26',\n",
       "  '3',\n",
       "  '4',\n",
       "  '5',\n",
       "  '6',\n",
       "  '7',\n",
       "  '9'},\n",
       " '6': {'22', '4'},\n",
       " '4': {'22'},\n",
       " '22': set(),\n",
       " '7': {'0',\n",
       "  '1',\n",
       "  '11',\n",
       "  '12',\n",
       "  '13',\n",
       "  '15',\n",
       "  '16',\n",
       "  '17',\n",
       "  '18',\n",
       "  '2',\n",
       "  '20',\n",
       "  '21',\n",
       "  '23',\n",
       "  '24',\n",
       "  '25',\n",
       "  '26',\n",
       "  '3',\n",
       "  '5',\n",
       "  '9'},\n",
       " '17': {'1', '11', '20', '25', '9'},\n",
       " '1': set(),\n",
       " '20': {'11', '25', '9'},\n",
       " '9': {'11', '25'},\n",
       " '25': {'11'},\n",
       " '11': set(),\n",
       " '16': {'0', '12', '13', '15', '18', '2', '21', '23', '24', '26', '3', '5'},\n",
       " '23': {'0', '12', '13', '15', '18', '2', '21', '26', '3'},\n",
       " '3': {'0', '12', '13', '15', '18', '2', '21', '26'},\n",
       " '15': {'0', '12', '13', '18', '2', '21'},\n",
       " '12': {'0', '13', '18', '2', '21'},\n",
       " '2': {'0', '13', '18', '21'},\n",
       " '0': set(),\n",
       " '13': set(),\n",
       " '18': {'21'},\n",
       " '21': set(),\n",
       " '26': set(),\n",
       " '5': {'24'},\n",
       " '24': set(),\n",
       " '10': set(),\n",
       " '14': set(),\n",
       " '19': set()}"
      ]
     },
     "execution_count": 74,
     "metadata": {},
     "output_type": "execute_result"
    }
   ],
   "source": [
    "branches"
   ]
  },
  {
   "cell_type": "code",
   "execution_count": null,
   "id": "d084d0de-e2f8-40cc-b58b-cfd20340db70",
   "metadata": {},
   "outputs": [],
   "source": []
  }
 ],
 "metadata": {
  "kernelspec": {
   "display_name": "torch_geo",
   "language": "python",
   "name": "torch_geo"
  },
  "language_info": {
   "codemirror_mode": {
    "name": "ipython",
    "version": 3
   },
   "file_extension": ".py",
   "mimetype": "text/x-python",
   "name": "python",
   "nbconvert_exporter": "python",
   "pygments_lexer": "ipython3",
   "version": "3.8.15"
  }
 },
 "nbformat": 4,
 "nbformat_minor": 5
}
